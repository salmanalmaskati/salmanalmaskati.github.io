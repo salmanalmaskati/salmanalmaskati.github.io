{
 "cells": [
  {
   "cell_type": "code",
   "execution_count": 25,
   "metadata": {},
   "outputs": [
    {
     "name": "stdout",
     "output_type": "stream",
     "text": [
      "[1, 1, 0, 0, 1, 0, 1]\n"
     ]
    }
   ],
   "source": [
    "x=101\n",
    "ans=[]\n",
    "true=True\n",
    "while true:\n",
    "    dec=x//2\n",
    "    rem=x%2\n",
    "    x=dec\n",
    "    ans.append(rem)\n",
    "    \n",
    "    if x==0:\n",
    "        f_ans=list(reversed(ans))\n",
    "        print(f_ans)\n",
    "        true=False\n",
    "    "
   ]
  },
  {
   "cell_type": "code",
   "execution_count": 31,
   "metadata": {},
   "outputs": [
    {
     "name": "stdout",
     "output_type": "stream",
     "text": [
      "[1, 1, 0, 0, 1, 0, 0, 0]\n"
     ]
    }
   ],
   "source": [
    "def bin_2_dec(x):\n",
    "    ans=[]\n",
    "    true=True\n",
    "    while true:\n",
    "        dec=x//2\n",
    "        rem=x%2\n",
    "        x=dec\n",
    "        ans.append(rem)\n",
    "        \n",
    "        if x==0:\n",
    "            f_ans=list(reversed(ans))\n",
    "            #true=False\n",
    "            return(f_ans)\n",
    "            \n",
    "            \n",
    "print(bin_2_dec(200))\n",
    "            \n",
    "    \n"
   ]
  },
  {
   "cell_type": "code",
   "execution_count": 3,
   "metadata": {},
   "outputs": [
    {
     "name": "stdout",
     "output_type": "stream",
     "text": [
      "1\n"
     ]
    }
   ],
   "source": [
    "x=101\n",
    "rem=x%2\n",
    "x=rem\n",
    "print(x)"
   ]
  },
  {
   "cell_type": "code",
   "execution_count": null,
   "metadata": {},
   "outputs": [],
   "source": []
  }
 ],
 "metadata": {
  "kernelspec": {
   "display_name": "base",
   "language": "python",
   "name": "python3"
  },
  "language_info": {
   "codemirror_mode": {
    "name": "ipython",
    "version": 3
   },
   "file_extension": ".py",
   "mimetype": "text/x-python",
   "name": "python",
   "nbconvert_exporter": "python",
   "pygments_lexer": "ipython3",
   "version": "3.9.18"
  }
 },
 "nbformat": 4,
 "nbformat_minor": 2
}
