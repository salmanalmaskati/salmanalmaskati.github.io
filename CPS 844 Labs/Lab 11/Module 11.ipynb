{
 "cells": [
  {
   "cell_type": "markdown",
   "metadata": {},
   "source": [
    "# <font color='blue'>Module 11 - CCPS 844 Data Mining</font>\n",
    "\n",
    "# Neural network models (supervised)\n",
    "\n",
    "## Classification\n",
    "\n",
    "Class MLPClassifier implements a multi-layer perceptron (MLP) algorithm that trains using Backpropagation.\n",
    "\n",
    "MLP trains on two arrays: array X of size (n_samples, n_features), which holds the training samples represented as floating point feature vectors; and array y of size (n_samples,), which holds the target values (class labels) for the training samples:\n",
    "\n",
    "http://scikit-learn.org/stable/modules/neural_networks_supervised.html\n",
    "\n",
    "**from sklearn.neural_network import MLPClassifier**\n",
    "\n",
    "Warning This implementation is not intended for large-scale applications. In particular, scikit-learn offers no GPU  (Graphics Processing Unit) support. For much faster, GPU-based implementations, as well as frameworks offering much more flexibility to build deep learning architectures."
   ]
  },
  {
   "cell_type": "markdown",
   "metadata": {},
   "source": [
    "# Multi-layer Perceptron (MLP)\n",
    "\n",
    "Multi-layer Perceptron (MLP) is a supervised learning algorithm that learns a function $$f(\\cdot): R^m \\rightarrow R^o$$ by training on a dataset, where m is the number of dimensions for input and o is the number of dimensions for output. Given a set of features $$X = {x_1, x_2, ..., x_m}$$ and a target y, it can learn a non-linear function approximator for either classification or regression. It is different from logistic regression, in that between the input and the output layer, there can be one or more non-linear layers, called hidden layers."
   ]
  },
  {
   "cell_type": "markdown",
   "metadata": {},
   "source": [
    "### The advantages of Multi-layer Perceptron are:\n",
    "\n",
    "* Capability to learn non-linear models.\n",
    "* Capability to learn models in real-time (on-line learning) using partial_fit."
   ]
  },
  {
   "cell_type": "markdown",
   "metadata": {},
   "source": [
    "#### The disadvantages of Multi-layer Perceptron (MLP) include:\n",
    "\n",
    "* MLP with hidden layers have a non-convex loss function where there exists more than one local minimum. Therefore different random weight initializations can lead to different validation accuracy.\n",
    "* **MLP requires tuning a number of hyperparameters such as the number of hidden neurons, layers, and iterations.**\n",
    "* MLP is sensitive to feature scaling."
   ]
  },
  {
   "cell_type": "markdown",
   "metadata": {},
   "source": [
    "**Import the library**"
   ]
  },
  {
   "cell_type": "code",
   "execution_count": 1,
   "metadata": {},
   "outputs": [],
   "source": [
    "from sklearn.neural_network import MLPClassifier"
   ]
  },
  {
   "cell_type": "markdown",
   "metadata": {},
   "source": [
    "**Create a Dataset**"
   ]
  },
  {
   "cell_type": "code",
   "execution_count": 2,
   "metadata": {},
   "outputs": [],
   "source": [
    "X = [[0., 0.], [1., 1.]]\n",
    "y = [0, 1]"
   ]
  },
  {
   "cell_type": "markdown",
   "metadata": {},
   "source": [
    "**Create an object of MLPClassifier**"
   ]
  },
  {
   "cell_type": "code",
   "execution_count": 3,
   "metadata": {},
   "outputs": [],
   "source": [
    "clf = MLPClassifier(solver='lbfgs', alpha=1e-5, hidden_layer_sizes=(5, 2), random_state=1)\n",
    "# If the solver is ‘lbfgs’, the classifier will not use minibatch. When set to “auto”, batch_size=min(200, n_samples)"
   ]
  },
  {
   "cell_type": "markdown",
   "metadata": {},
   "source": [
    "Init signature: MLPClassifier(hidden_layer_sizes=(100,), activation='relu', solver='adam', alpha=0.0001, batch_size='auto', learning_rate='constant', learning_rate_init=0.001, power_t=0.5, max_iter=200, shuffle=True, random_state=None, tol=0.0001, verbose=False, warm_start=False, momentum=0.9, nesterovs_momentum=True, early_stopping=False, validation_fraction=0.1, beta_1=0.9, beta_2=0.999, epsilon=1e-08)\n",
    "Docstring:     \n",
    "Multi-layer Perceptron classifier.\n",
    "\n",
    "This model optimizes the log-loss function using LBFGS or stochastic\n",
    "gradient descent.\n",
    "\n",
    ".. versionadded:: 0.18\n",
    "\n",
    "Parameters\n",
    "----------\n",
    "**hidden_layer_sizes : tuple, length = n_layers - 2, default (100,)\n",
    "    The ith element represents the number of neurons in the ith\n",
    "    hidden layer.**\n",
    "\n",
    "activation : {'identity', 'logistic', 'tanh', 'relu'}, default 'relu'\n",
    "    Activation function for the hidden layer.\n",
    "\n",
    "    - 'identity', no-op activation, useful to implement linear bottleneck,\n",
    "      returns f(x) = x\n",
    "\n",
    "    - 'logistic', the logistic sigmoid function,\n",
    "      returns f(x) = 1 / (1 + exp(-x)).\n",
    "\n",
    "    - 'tanh', the hyperbolic tan function,\n",
    "      returns f(x) = tanh(x).\n",
    "\n",
    "    - 'relu', the rectified linear unit function,\n",
    "      returns f(x) = max(0, x)\n",
    "\n",
    "solver : {'lbfgs', 'sgd', 'adam'}, default 'adam'\n",
    "    The solver for weight optimization.\n",
    "\n",
    "    - 'lbfgs' is an optimizer in the family of quasi-Newton methods.\n",
    "\n",
    "    - 'sgd' refers to stochastic gradient descent.\n",
    "\n",
    "    - 'adam' refers to a stochastic gradient-based optimizer proposed\n",
    "      by Kingma, Diederik, and Jimmy Ba\n",
    "\n",
    "    Note: The default solver 'adam' works pretty well on relatively\n",
    "    large datasets (with thousands of training samples or more) in terms of\n",
    "    both training time and validation score.\n",
    "    For small datasets, however, 'lbfgs' can converge faster and perform\n",
    "    better.\n",
    "\n",
    "**alpha : float, optional, default 0.0001**\n",
    "    L2 penalty (regularization term) parameter.\n",
    "\n",
    "batch_size : int, optional, default 'auto'\n",
    "    Size of minibatches for stochastic optimizers.\n",
    "    If the solver is 'lbfgs', the classifier will not use minibatch.\n",
    "    When set to \"auto\", `batch_size=min(200, n_samples)`\n",
    "\n",
    "learning_rate : {'constant', 'invscaling', 'adaptive'}, default 'constant'\n",
    "    Learning rate schedule for weight updates.\n",
    "\n",
    "    - 'constant' is a constant learning rate given by\n",
    "      'learning_rate_init'.\n",
    "\n",
    "    - 'invscaling' gradually decreases the learning rate ``learning_rate_``\n",
    "      at each time step 't' using an inverse scaling exponent of 'power_t'.\n",
    "      effective_learning_rate = learning_rate_init / pow(t, power_t)\n",
    "\n",
    "    - 'adaptive' keeps the learning rate constant to\n",
    "      'learning_rate_init' as long as training loss keeps decreasing.\n",
    "      Each time two consecutive epochs fail to decrease training loss by at\n",
    "      least tol, or fail to increase validation score by at least tol if\n",
    "      'early_stopping' is on, the current learning rate is divided by 5.\n",
    "\n",
    "    Only used when ``solver='sgd'``.\n",
    "\n",
    "learning_rate_init : double, optional, default 0.001\n",
    "    The initial learning rate used. It controls the step-size\n",
    "    in updating the weights. Only used when solver='sgd' or 'adam'.\n",
    "\n",
    "power_t : double, optional, default 0.5\n",
    "    The exponent for inverse scaling learning rate.\n",
    "    It is used in updating effective learning rate when the learning_rate\n",
    "    is set to 'invscaling'. Only used when solver='sgd'.\n",
    "\n",
    "max_iter : int, optional, default 200\n",
    "    Maximum number of iterations. The solver iterates until convergence\n",
    "    (determined by 'tol') or this number of iterations. For stochastic\n",
    "    solvers ('sgd', 'adam'), note that this determines the number of epochs\n",
    "    (how many times each data point will be used), not the number of\n",
    "    gradient steps.\n",
    "\n",
    "shuffle : bool, optional, default True\n",
    "    Whether to shuffle samples in each iteration. Only used when\n",
    "    solver='sgd' or 'adam'.\n",
    "\n",
    "**random_state : int, RandomState instance or None, optional, default None\n",
    "    If int, random_state is the seed used by the random number generator;\n",
    "    If RandomState instance, random_state is the random number generator;\n",
    "    If None, the random number generator is the RandomState instance used\n",
    "    by `np.random`.**\n",
    "\n",
    "tol : float, optional, default 1e-4\n",
    "    Tolerance for the optimization. When the loss or score is not improving\n",
    "    by at least tol for two consecutive iterations, unless `learning_rate`\n",
    "    is set to 'adaptive', convergence is considered to be reached and\n",
    "    training stops.\n",
    "\n",
    "verbose : bool, optional, default False\n",
    "    Whether to print progress messages to stdout.\n",
    "\n",
    "warm_start : bool, optional, default False\n",
    "    When set to True, reuse the solution of the previous\n",
    "    call to fit as initialization, otherwise, just erase the\n",
    "    previous solution.\n",
    "\n",
    "momentum : float, default 0.9\n",
    "    Momentum for gradient descent update. Should be between 0 and 1. Only\n",
    "    used when solver='sgd'.\n",
    "\n",
    "nesterovs_momentum : boolean, default True\n",
    "    Whether to use Nesterov's momentum. Only used when solver='sgd' and\n",
    "    momentum > 0.\n",
    "\n",
    "early_stopping : bool, default False\n",
    "    Whether to use early stopping to terminate training when validation\n",
    "    score is not improving. If set to true, it will automatically set\n",
    "    aside 10% of training data as validation and terminate training when\n",
    "    validation score is not improving by at least tol for two consecutive\n",
    "    epochs.\n",
    "    Only effective when solver='sgd' or 'adam'\n",
    "\n",
    "validation_fraction : float, optional, default 0.1\n",
    "    The proportion of training data to set aside as validation set for\n",
    "    early stopping. Must be between 0 and 1.\n",
    "    Only used if early_stopping is True\n",
    "\n",
    "beta_1 : float, optional, default 0.9\n",
    "    Exponential decay rate for estimates of first moment vector in adam,\n",
    "    should be in [0, 1). Only used when solver='adam'\n",
    "\n",
    "beta_2 : float, optional, default 0.999\n",
    "    Exponential decay rate for estimates of second moment vector in adam,\n",
    "    should be in [0, 1). Only used when solver='adam'\n",
    "\n",
    "epsilon : float, optional, default 1e-8\n",
    "    Value for numerical stability in adam. Only used when solver='adam'\n",
    "\n",
    "Attributes\n",
    "----------\n",
    "classes_ : array or list of array of shape (n_classes,)\n",
    "    Class labels for each output.\n",
    "\n",
    "loss_ : float\n",
    "    The current loss computed with the loss function.\n",
    "\n",
    "coefs_ : list, length n_layers - 1\n",
    "    The ith element in the list represents the weight matrix corresponding\n",
    "    to layer i.\n",
    "\n",
    "intercepts_ : list, length n_layers - 1\n",
    "    The ith element in the list represents the bias vector corresponding to\n",
    "    layer i + 1.\n",
    "\n",
    "n_iter_ : int,\n",
    "    The number of iterations the solver has ran.\n",
    "\n",
    "n_layers_ : int\n",
    "    Number of layers.\n",
    "\n",
    "n_outputs_ : int\n",
    "    Number of outputs.\n",
    "\n",
    "out_activation_ : string\n",
    "    Name of the output activation function.\n",
    "\n",
    "Notes\n",
    "-----\n",
    "MLPClassifier trains iteratively since at each time step\n",
    "the partial derivatives of the loss function with respect to the model\n",
    "parameters are computed to update the parameters.\n",
    "\n",
    "It can also have a regularization term added to the loss function\n",
    "that shrinks model parameters to prevent overfitting.\n",
    "\n",
    "This implementation works with data represented as dense numpy arrays or\n",
    "sparse scipy arrays of floating point values.\n",
    "\n",
    "References\n",
    "----------\n",
    "Hinton, Geoffrey E.\n",
    "    \"Connectionist learning procedures.\" Artificial intelligence 40.1\n",
    "    (1989): 185-234.\n",
    "\n",
    "Glorot, Xavier, and Yoshua Bengio. \"Understanding the difficulty of\n",
    "    training deep feedforward neural networks.\" International Conference\n",
    "    on Artificial Intelligence and Statistics. 2010.\n",
    "\n",
    "He, Kaiming, et al. \"Delving deep into rectifiers: Surpassing human-level\n",
    "    performance on imagenet classification.\" arXiv preprint\n",
    "    arXiv:1502.01852 (2015).\n",
    "\n",
    "Kingma, Diederik, and Jimmy Ba. \"Adam: A method for stochastic\n",
    "    optimization.\" arXiv preprint arXiv:1412.6980 (2014).\n",
    "File:           c:\\users\\naeem\\anaconda3\\lib\\site-packages\\sklearn\\neural_network\\multilayer_perceptron.py\n",
    "Type:           ABCMeta"
   ]
  },
  {
   "cell_type": "markdown",
   "metadata": {},
   "source": [
    "**Fit the model**"
   ]
  },
  {
   "cell_type": "code",
   "execution_count": 4,
   "metadata": {},
   "outputs": [
    {
     "data": {
      "text/plain": [
       "MLPClassifier(alpha=1e-05, hidden_layer_sizes=(5, 2), random_state=1,\n",
       "              solver='lbfgs')"
      ]
     },
     "execution_count": 4,
     "metadata": {},
     "output_type": "execute_result"
    }
   ],
   "source": [
    "clf.fit(X, y)  "
   ]
  },
  {
   "cell_type": "markdown",
   "metadata": {},
   "source": [
    "**After fitting (training), the model can predict labels for new samples:**"
   ]
  },
  {
   "cell_type": "code",
   "execution_count": 5,
   "metadata": {},
   "outputs": [
    {
     "data": {
      "text/plain": [
       "array([1, 0])"
      ]
     },
     "execution_count": 5,
     "metadata": {},
     "output_type": "execute_result"
    }
   ],
   "source": [
    "clf.predict([[2., 2.], [-1., -2.]])"
   ]
  },
  {
   "cell_type": "markdown",
   "metadata": {},
   "source": [
    "**MLP can fit a non-linear model to the training data. clf.coefs_ contains the weight matrices that constitute the model parameters:**"
   ]
  },
  {
   "cell_type": "code",
   "execution_count": 6,
   "metadata": {},
   "outputs": [
    {
     "data": {
      "text/plain": [
       "[(2, 5), (5, 2), (2, 1)]"
      ]
     },
     "execution_count": 6,
     "metadata": {},
     "output_type": "execute_result"
    }
   ],
   "source": [
    "[coef.shape for coef in clf.coefs_]"
   ]
  },
  {
   "cell_type": "code",
   "execution_count": 7,
   "metadata": {},
   "outputs": [
    {
     "data": {
      "text/plain": [
       "[array([[-0.14196276, -0.02104562, -0.85522848, -3.51355396, -0.60434709],\n",
       "        [-0.69744683, -0.9347486 , -0.26422217, -3.35199017,  0.06640954]]),\n",
       " array([[ 0.29164405, -0.14147894],\n",
       "        [ 2.39665167, -0.6152434 ],\n",
       "        [-0.51650256,  0.51452834],\n",
       "        [ 4.0186541 , -0.31920293],\n",
       "        [ 0.32903482,  0.64394475]]),\n",
       " array([[-4.53025854],\n",
       "        [-0.86285329]])]"
      ]
     },
     "execution_count": 7,
     "metadata": {},
     "output_type": "execute_result"
    }
   ],
   "source": [
    "clf.coefs_"
   ]
  },
  {
   "cell_type": "markdown",
   "metadata": {},
   "source": [
    "Currently, MLPClassifier supports only the Cross-Entropy loss function, which allows probability estimates by running the predict_proba method.\n",
    "\n",
    "MLP trains using Backpropagation. More precisely, it trains using some form of gradient descent and the gradients are calculated using Backpropagation. For classification, it minimizes the Cross-Entropy loss function, giving a vector of probability estimates P(y|x) per sample x:"
   ]
  },
  {
   "cell_type": "code",
   "execution_count": 8,
   "metadata": {},
   "outputs": [
    {
     "data": {
      "text/plain": [
       "array([[1.96718015e-04, 9.99803282e-01],\n",
       "       [1.96718015e-04, 9.99803282e-01]])"
      ]
     },
     "execution_count": 8,
     "metadata": {},
     "output_type": "execute_result"
    }
   ],
   "source": [
    "clf.predict_proba([[2., 2.], [1., 2.]]) "
   ]
  },
  {
   "cell_type": "code",
   "execution_count": 9,
   "metadata": {},
   "outputs": [
    {
     "data": {
      "text/plain": [
       "array([[1.96718015e-004, 9.99803282e-001],\n",
       "       [1.00000000e+000, 4.67017947e-144]])"
      ]
     },
     "execution_count": 9,
     "metadata": {},
     "output_type": "execute_result"
    }
   ],
   "source": [
    "clf.predict_proba([[2., 2.], [-1., -2.]]) "
   ]
  },
  {
   "cell_type": "markdown",
   "metadata": {},
   "source": [
    " # multi-label classification\n",
    " \n",
    "MLPClassifier (Multi-layer Perceptron Classifier) supports multi-class classification by applying Softmax as the output function.\n",
    "\n",
    "Further, the model supports multi-label classification in which a sample can belong to more than one class. For each class, the raw output passes through the logistic function. Values larger or equal to 0.5 are rounded to 1, otherwise to 0. For a predicted output of a sample, the indices where the value is 1 represents the assigned classes of that sample:"
   ]
  },
  {
   "cell_type": "markdown",
   "metadata": {},
   "source": [
    "**Create Data**"
   ]
  },
  {
   "cell_type": "code",
   "execution_count": 10,
   "metadata": {},
   "outputs": [],
   "source": [
    "X = [[0., 0.], [1., 1.]]\n",
    "y = [[0, 1], [1, 1]]"
   ]
  },
  {
   "cell_type": "code",
   "execution_count": 11,
   "metadata": {},
   "outputs": [],
   "source": [
    "clf = MLPClassifier(solver='lbfgs', alpha=1e-5, hidden_layer_sizes=(15,), random_state=1)"
   ]
  },
  {
   "cell_type": "code",
   "execution_count": 12,
   "metadata": {},
   "outputs": [
    {
     "data": {
      "text/plain": [
       "MLPClassifier(alpha=1e-05, hidden_layer_sizes=(15,), random_state=1,\n",
       "              solver='lbfgs')"
      ]
     },
     "execution_count": 12,
     "metadata": {},
     "output_type": "execute_result"
    }
   ],
   "source": [
    "clf.fit(X, y)  "
   ]
  },
  {
   "cell_type": "code",
   "execution_count": 13,
   "metadata": {},
   "outputs": [
    {
     "data": {
      "text/plain": [
       "array([[1, 1]])"
      ]
     },
     "execution_count": 13,
     "metadata": {},
     "output_type": "execute_result"
    }
   ],
   "source": [
    "clf.predict([[1., 2.]])"
   ]
  },
  {
   "cell_type": "code",
   "execution_count": 14,
   "metadata": {},
   "outputs": [
    {
     "data": {
      "text/plain": [
       "array([[0, 1]])"
      ]
     },
     "execution_count": 14,
     "metadata": {},
     "output_type": "execute_result"
    }
   ],
   "source": [
    "clf.predict([[0., 0.]])"
   ]
  },
  {
   "cell_type": "markdown",
   "metadata": {},
   "source": [
    "## Tips on Practical Use\n",
    "\n",
    "* Multi-layer Perceptron is sensitive to feature scaling, so it is highly recommended to scale your data. For example, scale each attribute on the input vector X to [0, 1] or [-1, +1], or standardize it to have mean 0 and variance 1. Note that you must apply the same scaling to the test set for meaningful results. You can use StandardScaler for standardization.\n",
    "\n",
    "$$from sklearn.preprocessing import StandardScaler  \n",
    "scaler = StandardScaler()  \n",
    "#Don't cheat - fit only on training data\n",
    "scaler.fit(X_train)  \n",
    "X_train = scaler.transform(X_train)  \n",
    "#apply same transformation to test data\n",
    "X_test = scaler.transform(X_test) $$\n",
    "\n",
    "An alternative and recommended approach is to use StandardScaler in a Pipeline\n",
    "\n",
    "* Finding a reasonable regularization parameter \\alpha is best done using GridSearchCV, usually in the range 10.0 ** -np.arange(1, 7)."
   ]
  }
 ],
 "metadata": {
  "kernelspec": {
   "display_name": "Python 3 (ipykernel)",
   "language": "python",
   "name": "python3"
  },
  "language_info": {
   "codemirror_mode": {
    "name": "ipython",
    "version": 3
   },
   "file_extension": ".py",
   "mimetype": "text/x-python",
   "name": "python",
   "nbconvert_exporter": "python",
   "pygments_lexer": "ipython3",
   "version": "3.9.12"
  }
 },
 "nbformat": 4,
 "nbformat_minor": 2
}
