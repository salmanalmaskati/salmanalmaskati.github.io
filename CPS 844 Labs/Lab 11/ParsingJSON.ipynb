{
 "cells": [
  {
   "cell_type": "markdown",
   "metadata": {},
   "source": [
    "# <font color='blue'>Reading JSON Files</font>\n",
    "* **sorted function**\n",
    "* **reading and exploring the JSON files**"
   ]
  },
  {
   "cell_type": "markdown",
   "metadata": {},
   "source": [
    "### Sorted() function in Python"
   ]
  },
  {
   "cell_type": "markdown",
   "metadata": {},
   "source": [
    "Sorting any sequence is very easy in Python using built-in method sorted() which does all the hard work for you.\n",
    "\n",
    "Sorted() sorts any sequence (list, tuple) and always returns a list with the elements in sorted manner, without modifying the original sequence."
   ]
  },
  {
   "cell_type": "markdown",
   "metadata": {},
   "source": [
    "**Syntax** : sorted(iterable, key, reverse)"
   ]
  },
  {
   "cell_type": "markdown",
   "metadata": {},
   "source": [
    "**Parameters** : sorted takes three parameters from which two are optional.\n",
    "\n",
    "* Iterable : sequence (list, tuple, string) or collection (dictionary, set, frozenset) or any other iterator that needs to be sorted.\n",
    "* Key(optional) : A function that would server as a key or a basis of sort comparison.\n",
    "* Reverse(optional) : If set true, then the iterable would be sorted in reverse (descending) order, by default it is set as false"
   ]
  },
  {
   "cell_type": "code",
   "execution_count": 1,
   "metadata": {},
   "outputs": [],
   "source": [
    "x = [2, 8, 1, 4, 6, 3, 7] "
   ]
  },
  {
   "cell_type": "code",
   "execution_count": 2,
   "metadata": {},
   "outputs": [
    {
     "data": {
      "text/plain": [
       "[1, 2, 3, 4, 6, 7, 8]"
      ]
     },
     "execution_count": 2,
     "metadata": {},
     "output_type": "execute_result"
    }
   ],
   "source": [
    "sorted(x)"
   ]
  },
  {
   "cell_type": "markdown",
   "metadata": {},
   "source": [
    "**Custom Sorting using the key parameter**\n",
    "\n",
    "* sorted() function has an optional parameter called ‘key’ which takes a function as its value. This key function transforms each element before sorting, it takes the value and returns 1 value which is then used within sort instead of the original value.\n",
    "\n",
    "* For example, if we pass a list of strings in sorted(), it gets sorted alphabetically . But if we specify key = len, i.e. give len function as key, then the strings would be passed to len, and the value it returns, i.e. the length of strings will be sorted. Which means that the strings would be sorted based on their lengths instead"
   ]
  },
  {
   "cell_type": "code",
   "execution_count": 3,
   "metadata": {},
   "outputs": [
    {
     "data": {
      "text/plain": [
       "['aaa', 'b', 'cccc', 'dd']"
      ]
     },
     "execution_count": 3,
     "metadata": {},
     "output_type": "execute_result"
    }
   ],
   "source": [
    "L = [\"cccc\", \"b\", \"dd\", \"aaa\"] \n",
    "sorted(L)"
   ]
  },
  {
   "cell_type": "code",
   "execution_count": 4,
   "metadata": {},
   "outputs": [
    {
     "data": {
      "text/plain": [
       "['b', 'dd', 'aaa', 'cccc']"
      ]
     },
     "execution_count": 4,
     "metadata": {},
     "output_type": "execute_result"
    }
   ],
   "source": [
    "sorted(L, key = len)"
   ]
  },
  {
   "cell_type": "markdown",
   "metadata": {},
   "source": [
    "**Key also takes user-defined functions as its value for the basis of sorting.**"
   ]
  },
  {
   "cell_type": "code",
   "execution_count": 5,
   "metadata": {},
   "outputs": [],
   "source": [
    "# Sort a list of integers based on \n",
    "# their remainder on dividing from 7 \n",
    "  \n",
    "def func(x): \n",
    "    return x % 7"
   ]
  },
  {
   "cell_type": "code",
   "execution_count": 6,
   "metadata": {},
   "outputs": [
    {
     "data": {
      "text/plain": [
       "[3, 7, 11, 15]"
      ]
     },
     "execution_count": 6,
     "metadata": {},
     "output_type": "execute_result"
    }
   ],
   "source": [
    "L = [15, 3, 11, 7] \n",
    "sorted(L) "
   ]
  },
  {
   "cell_type": "code",
   "execution_count": 7,
   "metadata": {},
   "outputs": [
    {
     "data": {
      "text/plain": [
       "[7, 15, 3, 11]"
      ]
     },
     "execution_count": 7,
     "metadata": {},
     "output_type": "execute_result"
    }
   ],
   "source": [
    "sorted(L, key = func) "
   ]
  },
  {
   "cell_type": "markdown",
   "metadata": {},
   "source": [
    "# Handling JSON Data"
   ]
  },
  {
   "cell_type": "code",
   "execution_count": 8,
   "metadata": {},
   "outputs": [],
   "source": [
    "import json"
   ]
  },
  {
   "cell_type": "code",
   "execution_count": 9,
   "metadata": {},
   "outputs": [],
   "source": [
    "with open('office.json') as data_file:\n",
    "    data = json.load(data_file)"
   ]
  },
  {
   "cell_type": "code",
   "execution_count": 10,
   "metadata": {},
   "outputs": [
    {
     "data": {
      "text/plain": [
       "{'office': {'medical': [{'room-number': 100,\n",
       "    'use': 'reception',\n",
       "    'sq-ft': 50,\n",
       "    'price': 75},\n",
       "   {'room-number': 101, 'use': 'waiting', 'sq-ft': 250, 'price': 75},\n",
       "   {'room-number': 102, 'use': 'examination', 'sq-ft': 125, 'price': 150},\n",
       "   {'room-number': 103, 'use': 'examination', 'sq-ft': 125, 'price': 150},\n",
       "   {'room-number': 104, 'use': 'office', 'sq-ft': 150, 'price': 100}],\n",
       "  'parking': {'location': 'premium', 'style': 'covered', 'price': 750}}}"
      ]
     },
     "execution_count": 10,
     "metadata": {},
     "output_type": "execute_result"
    }
   ],
   "source": [
    "data"
   ]
  },
  {
   "cell_type": "code",
   "execution_count": 11,
   "metadata": {},
   "outputs": [
    {
     "data": {
      "text/plain": [
       "'covered'"
      ]
     },
     "execution_count": 11,
     "metadata": {},
     "output_type": "execute_result"
    }
   ],
   "source": [
    "data[\"office\"][\"parking\"][\"style\"]"
   ]
  },
  {
   "cell_type": "code",
   "execution_count": 12,
   "metadata": {},
   "outputs": [
    {
     "data": {
      "text/plain": [
       "{'medical': [{'room-number': 100,\n",
       "   'use': 'reception',\n",
       "   'sq-ft': 50,\n",
       "   'price': 75},\n",
       "  {'room-number': 101, 'use': 'waiting', 'sq-ft': 250, 'price': 75},\n",
       "  {'room-number': 102, 'use': 'examination', 'sq-ft': 125, 'price': 150},\n",
       "  {'room-number': 103, 'use': 'examination', 'sq-ft': 125, 'price': 150},\n",
       "  {'room-number': 104, 'use': 'office', 'sq-ft': 150, 'price': 100}],\n",
       " 'parking': {'location': 'premium', 'style': 'covered', 'price': 750}}"
      ]
     },
     "execution_count": 12,
     "metadata": {},
     "output_type": "execute_result"
    }
   ],
   "source": [
    "data[\"office\"]"
   ]
  },
  {
   "cell_type": "code",
   "execution_count": 13,
   "metadata": {},
   "outputs": [
    {
     "data": {
      "text/plain": [
       "[{'room-number': 100, 'use': 'reception', 'sq-ft': 50, 'price': 75},\n",
       " {'room-number': 101, 'use': 'waiting', 'sq-ft': 250, 'price': 75},\n",
       " {'room-number': 102, 'use': 'examination', 'sq-ft': 125, 'price': 150},\n",
       " {'room-number': 103, 'use': 'examination', 'sq-ft': 125, 'price': 150},\n",
       " {'room-number': 104, 'use': 'office', 'sq-ft': 150, 'price': 100}]"
      ]
     },
     "execution_count": 13,
     "metadata": {},
     "output_type": "execute_result"
    }
   ],
   "source": [
    "data[\"office\"][\"medical\"]"
   ]
  },
  {
   "cell_type": "code",
   "execution_count": 14,
   "metadata": {},
   "outputs": [
    {
     "data": {
      "text/plain": [
       "{'room-number': 102, 'use': 'examination', 'sq-ft': 125, 'price': 150}"
      ]
     },
     "execution_count": 14,
     "metadata": {},
     "output_type": "execute_result"
    }
   ],
   "source": [
    "data[\"office\"][\"medical\"][2]"
   ]
  },
  {
   "cell_type": "code",
   "execution_count": 15,
   "metadata": {},
   "outputs": [
    {
     "name": "stdout",
     "output_type": "stream",
     "text": [
      "Size of room number 102 is 125 square feet and its price is 150 CAD\n"
     ]
    }
   ],
   "source": [
    "print(f'Size of room number {data[\"office\"][\"medical\"][2][\"room-number\"]} is {data[\"office\"][\"medical\"][2][\"sq-ft\"]} square feet and its price is {data[\"office\"][\"medical\"][2][\"price\"]} CAD')"
   ]
  },
  {
   "cell_type": "code",
   "execution_count": 16,
   "metadata": {},
   "outputs": [
    {
     "name": "stdout",
     "output_type": "stream",
     "text": [
      "Read 240 countries from the JSON file.\n"
     ]
    }
   ],
   "source": [
    "with open('countries.json', encoding=\"utf-8\") as data_file:\n",
    "    countries = json.load(data_file)\n",
    "\n",
    "print(f\"Read {len(countries)} countries from the JSON file.\")"
   ]
  },
  {
   "cell_type": "code",
   "execution_count": 17,
   "metadata": {},
   "outputs": [
    {
     "data": {
      "text/plain": [
       "list"
      ]
     },
     "execution_count": 17,
     "metadata": {},
     "output_type": "execute_result"
    }
   ],
   "source": [
    "type(countries)"
   ]
  },
  {
   "cell_type": "code",
   "execution_count": 18,
   "metadata": {},
   "outputs": [
    {
     "data": {
      "text/plain": [
       "{'Name': 'Afghanistan',\n",
       " 'Population': '35623235 people',\n",
       " 'Continent': 'Asia',\n",
       " 'Area': '652230 kilometers squared',\n",
       " 'GDP': '19331286549 US dollars per year',\n",
       " 'NaturalHazards': ['drought', 'earthquake', 'flood']}"
      ]
     },
     "execution_count": 18,
     "metadata": {},
     "output_type": "execute_result"
    }
   ],
   "source": [
    "countries[0]"
   ]
  },
  {
   "cell_type": "code",
   "execution_count": 19,
   "metadata": {},
   "outputs": [
    {
     "data": {
      "text/plain": [
       "dict"
      ]
     },
     "execution_count": 19,
     "metadata": {},
     "output_type": "execute_result"
    }
   ],
   "source": [
    "type(countries[0])"
   ]
  },
  {
   "cell_type": "code",
   "execution_count": 20,
   "metadata": {},
   "outputs": [
    {
     "data": {
      "text/plain": [
       "dict_keys(['Name', 'Population', 'Continent', 'Area', 'GDP', 'NaturalHazards'])"
      ]
     },
     "execution_count": 20,
     "metadata": {},
     "output_type": "execute_result"
    }
   ],
   "source": [
    "countries[0].keys()"
   ]
  },
  {
   "cell_type": "code",
   "execution_count": 21,
   "metadata": {},
   "outputs": [
    {
     "data": {
      "text/plain": [
       "'Afghanistan'"
      ]
     },
     "execution_count": 21,
     "metadata": {},
     "output_type": "execute_result"
    }
   ],
   "source": [
    "countries[0]['Name']"
   ]
  },
  {
   "cell_type": "code",
   "execution_count": 22,
   "metadata": {},
   "outputs": [
    {
     "data": {
      "text/plain": [
       "'Asia'"
      ]
     },
     "execution_count": 22,
     "metadata": {},
     "output_type": "execute_result"
    }
   ],
   "source": [
    "countries[0]['Continent']"
   ]
  },
  {
   "cell_type": "code",
   "execution_count": 23,
   "metadata": {},
   "outputs": [
    {
     "data": {
      "text/plain": [
       "'652230 kilometers squared'"
      ]
     },
     "execution_count": 23,
     "metadata": {},
     "output_type": "execute_result"
    }
   ],
   "source": [
    "countries[0]['Area']"
   ]
  },
  {
   "cell_type": "code",
   "execution_count": 24,
   "metadata": {},
   "outputs": [
    {
     "data": {
      "text/plain": [
       "'19331286549 US dollars per year'"
      ]
     },
     "execution_count": 24,
     "metadata": {},
     "output_type": "execute_result"
    }
   ],
   "source": [
    "countries[0]['GDP']"
   ]
  },
  {
   "cell_type": "code",
   "execution_count": 25,
   "metadata": {
    "scrolled": true
   },
   "outputs": [
    {
     "data": {
      "text/plain": [
       "['drought', 'earthquake', 'flood']"
      ]
     },
     "execution_count": 25,
     "metadata": {},
     "output_type": "execute_result"
    }
   ],
   "source": [
    "countries[0]['NaturalHazards']"
   ]
  },
  {
   "cell_type": "code",
   "execution_count": 26,
   "metadata": {},
   "outputs": [
    {
     "data": {
      "text/plain": [
       "'35623235 people'"
      ]
     },
     "execution_count": 26,
     "metadata": {},
     "output_type": "execute_result"
    }
   ],
   "source": [
    "countries[0]['Population']"
   ]
  },
  {
   "cell_type": "markdown",
   "metadata": {},
   "source": [
    "**Find total population for each continet**"
   ]
  },
  {
   "cell_type": "code",
   "execution_count": 27,
   "metadata": {},
   "outputs": [
    {
     "name": "stdout",
     "output_type": "stream",
     "text": [
      "\n",
      "The total population in each continent:\n",
      "Africa has a total of 1130881210 people.\n",
      "Asia has a total of 4477006876 people.\n",
      "Europe has a total of 598292164 people.\n",
      "NorthAmerica has a total of 565020417 people.\n",
      "Oceania has a total of 38823795 people.\n",
      "SouthAmerica has a total of 408939962 people.\n",
      "That gives a total of 7218964424 people on Earth.\n"
     ]
    }
   ],
   "source": [
    "continental_pops = {}\n",
    "total_pop = 0\n",
    "for country in countries:\n",
    "    continent = country[\"Continent\"]\n",
    "    pop = int(country[\"Population\"].split(\" \")[0])\n",
    "    #Extarcting population for each country and Adding that poulation to the total population of that continent\n",
    "    #The second argument 0 will be used for the first coutry of that continent\n",
    "    #When continental_pops dictionary does not have any entry for a continent consider 0\n",
    "    continental_pops[continent] = continental_pops.get(continent, 0) + pop\n",
    "    total_pop += pop\n",
    "\n",
    "#Once the population is calculated. Printing the results\n",
    "print(\"\\nThe total population in each continent:\")\n",
    "for continent in sorted(continental_pops.keys()):\n",
    "    print(f\"{continent} has a total of {continental_pops[continent]} people.\")\n",
    "print(f\"That gives a total of {total_pop} people on Earth.\")"
   ]
  },
  {
   "cell_type": "markdown",
   "metadata": {},
   "source": [
    "**How many coutries are facing each type of hazard? Print your answer in a descending order.**"
   ]
  },
  {
   "cell_type": "code",
   "execution_count": 28,
   "metadata": {},
   "outputs": [
    {
     "data": {
      "text/plain": [
       "['drought', 'earthquake', 'flood']"
      ]
     },
     "execution_count": 28,
     "metadata": {},
     "output_type": "execute_result"
    }
   ],
   "source": [
    "countries[0]['NaturalHazards']"
   ]
  },
  {
   "cell_type": "code",
   "execution_count": 29,
   "metadata": {},
   "outputs": [
    {
     "data": {
      "text/plain": [
       "{'a': 100, 'b': 2, 'c': 20, 'd': 50}"
      ]
     },
     "execution_count": 29,
     "metadata": {},
     "output_type": "execute_result"
    }
   ],
   "source": [
    "alphabet = {\"a\":100,\"b\":2,\"c\":20,\"d\":50}\n",
    "alphabet"
   ]
  },
  {
   "cell_type": "code",
   "execution_count": 30,
   "metadata": {},
   "outputs": [
    {
     "data": {
      "text/plain": [
       "20"
      ]
     },
     "execution_count": 30,
     "metadata": {},
     "output_type": "execute_result"
    }
   ],
   "source": [
    "alphabet['c']"
   ]
  },
  {
   "cell_type": "code",
   "execution_count": 31,
   "metadata": {},
   "outputs": [
    {
     "data": {
      "text/plain": [
       "['a', 'd', 'c', 'b']"
      ]
     },
     "execution_count": 31,
     "metadata": {},
     "output_type": "execute_result"
    }
   ],
   "source": [
    "list(sorted(alphabet.keys(), key=(lambda x: alphabet[x]), reverse = True))"
   ]
  },
  {
   "cell_type": "code",
   "execution_count": 32,
   "metadata": {},
   "outputs": [
    {
     "name": "stdout",
     "output_type": "stream",
     "text": [
      "['a', 'd', 'c', 'b']\n"
     ]
    },
    {
     "data": {
      "text/plain": [
       "[100, 50, 20, 2]"
      ]
     },
     "execution_count": 32,
     "metadata": {},
     "output_type": "execute_result"
    }
   ],
   "source": [
    "keysSortedOnValues = list(sorted(alphabet.keys(), key=(lambda x: alphabet[x]), reverse = True))\n",
    "print(keysSortedOnValues)\n",
    "[alphabet[c] for c in keysSortedOnValues]"
   ]
  },
  {
   "cell_type": "code",
   "execution_count": 33,
   "metadata": {},
   "outputs": [
    {
     "data": {
      "text/plain": [
       "[('a', 100), ('d', 50), ('c', 20), ('b', 2)]"
      ]
     },
     "execution_count": 33,
     "metadata": {},
     "output_type": "execute_result"
    }
   ],
   "source": [
    "[(c,alphabet[c]) for c in keysSortedOnValues]"
   ]
  },
  {
   "cell_type": "code",
   "execution_count": 34,
   "metadata": {},
   "outputs": [
    {
     "name": "stdout",
     "output_type": "stream",
     "text": [
      "{'drought': 71, 'earthquake': 60, 'flood': 72, 'tsunami': 20, 'landslide': 28, 'tropical cyclone': 76, 'avalanche': 6, 'wildfire': 9, 'dust storm': 31, 'volcano': 36, 'locust plague': 3, 'land subsidence': 2, 'thunderstorm': 3, 'tornado': 2}\n",
      "\n",
      "Here are the hazards found around the world:\n",
      "Tropical cyclone is a hazard in 76 countries.\n",
      "Flood is a hazard in 72 countries.\n",
      "Drought is a hazard in 71 countries.\n",
      "Earthquake is a hazard in 60 countries.\n",
      "Volcano is a hazard in 36 countries.\n",
      "Dust storm is a hazard in 31 countries.\n",
      "Landslide is a hazard in 28 countries.\n",
      "Tsunami is a hazard in 20 countries.\n",
      "Wildfire is a hazard in 9 countries.\n",
      "Avalanche is a hazard in 6 countries.\n",
      "Locust plague is a hazard in 3 countries.\n",
      "Thunderstorm is a hazard in 3 countries.\n",
      "Land subsidence is a hazard in 2 countries.\n",
      "Tornado is a hazard in 2 countries.\n"
     ]
    }
   ],
   "source": [
    "hazard_table = {}\n",
    "for country in countries:\n",
    "    hazards = country[\"NaturalHazards\"]\n",
    "    for hazard in hazards:\n",
    "        hazard_table[hazard] = hazard_table.get(hazard, 0) + 1\n",
    "\n",
    "print(hazard_table)\n",
    "print(\"\\nHere are the hazards found around the world:\")\n",
    "for hazard in sorted(hazard_table.keys(), key=(lambda x: hazard_table[x]), reverse = True):\n",
    "    print(f\"{hazard[0].upper() + hazard[1:]} is a hazard in {hazard_table[hazard]} countries.\")\n"
   ]
  },
  {
   "cell_type": "markdown",
   "metadata": {},
   "source": [
    "**Find population density for each country and average of all countries**"
   ]
  },
  {
   "cell_type": "code",
   "execution_count": 35,
   "metadata": {},
   "outputs": [
    {
     "data": {
      "text/plain": [
       "'35623235 people'"
      ]
     },
     "execution_count": 35,
     "metadata": {},
     "output_type": "execute_result"
    }
   ],
   "source": [
    "countries[0]['Population']"
   ]
  },
  {
   "cell_type": "code",
   "execution_count": 36,
   "metadata": {},
   "outputs": [
    {
     "data": {
      "text/plain": [
       "'652230 kilometers squared'"
      ]
     },
     "execution_count": 36,
     "metadata": {},
     "output_type": "execute_result"
    }
   ],
   "source": [
    "countries[0]['Area']"
   ]
  },
  {
   "cell_type": "code",
   "execution_count": 37,
   "metadata": {},
   "outputs": [
    {
     "name": "stdout",
     "output_type": "stream",
     "text": [
      "\n",
      "Let's demonstrate the Python statistics package.\n"
     ]
    }
   ],
   "source": [
    "import statistics\n",
    "\n",
    "print(\"\\nLet's demonstrate the Python statistics package.\")\n",
    "\n",
    "for country in countries:\n",
    "    country[\"Population\"] = float(country[\"Population\"].split(\" \")[0])\n",
    "    country[\"Area\"] = float(country[\"Area\"].split(\" \")[0])\n",
    "    #avoid division by zero\n",
    "    if country[\"Area\"] == 0:\n",
    "        country[\"Area\"] = 1"
   ]
  },
  {
   "cell_type": "markdown",
   "metadata": {},
   "source": [
    "**Population density for each country of the world**"
   ]
  },
  {
   "cell_type": "code",
   "execution_count": 38,
   "metadata": {},
   "outputs": [
    {
     "name": "stdout",
     "output_type": "stream",
     "text": [
      "[('Afghanistan', 54.61759655336308), ('Albania', 113.0045568387366), ('Algeria', 15.733738471143587), ('American Samoa', 274.96984924623115), ('Andorra', 182.60256410256412), ('Angola', 17.064653084142137), ('Anguilla', 176.76923076923077), ('Antigua and Barbuda', 206.5497737556561), ('Argentina', 15.117050912757644), ('Armenia', 105.0932992636923), ('Aruba', 606.2111111111111), ('Australia', 3.0360529735623065), ('Austria', 100.77477316354879), ('Azerbaijan', 111.35222863741339), ('Bahamas', 25.87478386167147), ('Bahrain', 1827.678947368421), ('Bangladesh', 1085.9886387310935), ('Barbados', 641.2697674418605), ('Belarus', 45.61616088631985), ('Belgium', 355.119660639413), ('Belize', 14.682966123835234), ('Benin', 87.59647315799755), ('Bermuda', 1293.3148148148148), ('Bhutan', 20.15017971558056), ('Bolivia', 9.624431880762547), ('Bosnia and Herzegovina', 72.78881575092291), ('Botswana', 3.601672597253021), ('Brazil', 23.68801616277017), ('British Virgin Islands', 157.52317880794703), ('Brunei', 73.9930615784909), ('Bulgaria', 65.84509239801946), ('Burkina Faso', 67.67655725747629), ('Burundi', 325.8877470355731), ('Cambodia', 81.94853481371005), ('Cameroon', 44.93299890627629), ('Canada', 3.5363767655816365), ('Cape Verde', 127.72972972972973), ('Cayman Islands', 208.00757575757575), ('Central African Republic', 7.640565407779333), ('Chad', 9.702547507788163), ('Chile', 23.439784579329245), ('China', 142.20890136043081), ('Christmas Island', 11.207407407407407), ('Cocos Keeling Islands', 39.285714285714285), ('Colombia', 42.82214573583514), ('Comoros', 363.58299776286356), ('Cook Islands', 42.940677966101696), ('Costa Rica', 96.3741878669276), ('Croatia', 77.2159769586882), ('Cuba', 101.37446328702869), ('Curacao', 330.7117117117117), ('Cyprus', 124.679386012323), ('Czech Republic', 134.54676861044544), ('Democratic Republic of the Congo', 31.256134060143513), ('Denmark', 130.62045760430686), ('Djibouti', 41.27693965517241), ('Dominica', 97.80159786950732), ('Dominican Republic', 214.33778508321348), ('East Timor', 84.83998924297431), ('Ecuador', 53.79847369701757), ('Egypt', 86.66197413750062), ('El Salvador', 301.4586283921867), ('Equatorial Guinea', 27.86970161491569), ('Eritrea', 50.29345238095238), ('Estonia', 29.57948615901654), ('Ethiopia', 80.0077994760129), ('Falkland Islands', 0.23330321202661627), ('Faroe Islands', 35.684852835606605), ('Fiji', 48.68047499179162), ('Finland', 16.07074184151769), ('France', 116.23083952855848), ('French Guiana', 2.7407472527472527), ('French Polynesia', 67.79025677945765), ('Gabon', 6.071316225010928), ('Gambia', 170.40796812749005), ('Gaza Strip', 4898.297222222222), ('Georgia', 61.00038737446198), ('Germany', 228.62904526891901), ('Ghana', 112.02278091500966), ('Gibraltar', 4851.833333333333), ('Greece', 86.93538729725633), ('Greenland', 0.026650834731400324), ('Grenada', 308.5174418604651), ('Guadeloupe', 262.5477528089888), ('Guam', 342.94485294117646), ('Guatemala', 146.24095179494714), ('Guernsey', 841.0897435897435), ('Guinea', 44.880572853325305), ('Guinea-Bissau', 45.58809688581315), ('Guyana', 3.5399150575199214), ('Haiti', 379.15073873873877), ('Honduras', 73.43886162904809), ('Hong Kong', 6660.276268115942), ('Hungary', 106.61711527712087), ('Iceland', 3.2585533980582526), ('India', 392.96525894034033), ('Indonesia', 131.03409065253084), ('Iran', 46.83033131067961), ('Iraq', 82.07083729911777), ('Ireland', 66.62647104862465), ('Isle of Man', 150.62762237762237), ('Israel', 382.26986037554167), ('Italy', 203.01071215238602), ('Ivory Coast', 66.7760673317559), ('Jamaica', 252.99690655991265), ('Japan', 334.0750830388926), ('Jersey', 825.2758620689655), ('Jordan', 74.8172080320566), ('Kazakhstan', 6.135494513560131), ('Kenya', 77.74570228837959), ('Kiribati', 128.83847102342787), ('Kosovo', 170.77275649857629), ('Kuwait', 169.68245594342798), ('Kyrgyzstan', 27.816655080494723), ('Laos', 27.63295608108108), ('Latvia', 34.34211707875954), ('Lebanon', 416.7148871029468), ('Lesotho', 74.56323505188601), ('Liberia', 39.964891486859), ('Libya', 3.7214112779476456), ('Liechtenstein', 233.20625), ('Lithuania', 49.997120980091886), ('Luxembourg', 207.43503480278423), ('Macau', 21073.60714285714), ('Macedonia', 80.54983860304127), ('Madagascar', 39.51368814103274), ('Malawi', 143.08779244454948), ('Malaysia', 91.71551961970246), ('Maldives', 1116.6174496644296), ('Mali', 13.956047934513366), ('Malta', 1334.9493670886077), ('Marshall Islands', 392.17127071823205), ('Martinique', 372.15090909090907), ('Mauritania', 3.67364897642379), ('Mauritius', 650.7294117647059), ('Mayotte', 598.6818181818181), ('Mexico', 60.468731784918866), ('Micronesia', 161.55982905982907), ('Moldova', 102.61558004194853), ('Monaco', 15254.0), ('Mongolia', 1.8742638014060338), ('Montenegro', 45.86634810309875), ('Montserrat', 51.127450980392155), ('Morocco', 74.4606561415295), ('Mozambique', 32.01272861467638), ('Myanmar', 73.18329593927086), ('Namibia', 2.965029382791535), ('Nauru', 451.8095238095238), ('Nepal', 217.81842085595287), ('Netherlands', 404.56209228991645), ('New Caledonia', 14.341749663526246), ('New Zealand', 16.952724430549353), ('Nicaragua', 47.007118202040346), ('Niger', 14.094606156274665), ('Nigeria', 189.75352902460358), ('Niue', 6.196153846153846), ('Norfolk Island', 61.0), ('Northern Mariana Islands', 189.6551724137931), ('North Korea', 205.36479782309314), ('Norway', 15.51119202475587), ('Oman', 9.719873990306947), ('Pakistan', 234.1789434678022), ('Palau', 46.15686274509804), ('Panama', 49.4704189870061), ('Papua New Guinea', 16.17321752657506), ('Paraguay', 16.99751691448352), ('Peru', 23.6680768057665), ('Philippines', 332.55096), ('Pitcairn Islands', 1.1914893617021276), ('Poland', 122.63060907942499), ('Portugal', 116.24785535888805), ('Puerto Rico', 413.7110005527916), ('Qatar', 172.91981702054204), ('Republic of the Congo', 12.910345029239766), ('Réunion', 347.61382598331346), ('Romania', 89.30619025047086), ('Russia', 8.32834545212309), ('Rwanda', 453.7296681600729), ('Saint Helena, Ascension and Tristan da Cunha', 18.571428571428573), ('Saint Kitts and Nevis', 197.46360153256705), ('Saint Lucia', 294.15909090909093), ('Saint Pierre and Miquelon', 23.859504132231404), ('Saint Vincent and the Grenadines', 281.08997429305913), ('Samoa', 65.93924408336277), ('San Marino', 536.7540983606557), ('São Tomé and Príncipe', 185.6234439834025), ('Saudi Arabia', 15.2656068453143), ('Senegal', 70.17737212919755), ('Serbia', 92.47143557838758), ('Seychelles', 201.42857142857142), ('Sierra Leone', 88.9889322553666), ('Singapore', 7656.899569583931), ('Sint Maarten', 1167.3235294117646), ('Slovakia', 112.10678087080656), ('Slovenia', 101.0759137769447), ('Solomon Islands', 20.598352713178294), ('Somalia', 16.188502596223362), ('South Africa', 42.004390159873346), ('South Korea', 497.072298943948), ('South Sudan', 17.21186536691659), ('Spain', 93.57600174129846), ('Sri Lanka', 328.54520652339585), ('Sudan', 25.417285060771935), ('Suriname', 3.3176474178976925), ('Svalbard', 0.04250141026674188), ('Swaziland', 72.19102741303847), ('Sweden', 21.309628132668585), ('Switzerland', 188.6812510599123), ('Syria', 117.84968679123016), ('Taiwan', 649.2475819899944), ('Tajikistan', 50.94865129280224), ('Tanzania', 53.52622189380344), ('Thailand', 137.53349119114438), ('Togo', 115.22534119926037), ('Tokelau', 112.75), ('Tonga', 141.51807228915663), ('Trinidad and Tobago', 265.07566302652106), ('Tunisia', 66.74832222969256), ('Turkey', 97.23593155359755), ('Turkmenistan', 10.857850850235607), ('Turks and Caicos Islands', 51.76160337552743), ('Tuvalu', 414.6923076923077), ('Uganda', 160.66484070496526), ('Ukraine', 73.66040261784443), ('United Arab Emirates', 99.01473684210526), ('United Kingdom', 260.8931653052009), ('United States', 33.47616083609686), ('United States Virgin Islands', 310.31518624641836), ('Uruguay', 19.381165054053287), ('Uzbekistan', 64.20487930263747), ('Vanuatu', 21.66100582492411), ('Vatican City', 839.0), ('Venezuela', 33.75479633792007), ('Vietnam', 277.8335386576041), ('Wallis and Futuna Islands', 109.20422535211267), ('West Bank', 466.04982935153583), ('Western Sahara', 2.200263157894737), ('Yemen', 51.447335823383234), ('Zambia', 19.621574291340362), ('Zimbabwe', 34.970897514311964)]\n"
     ]
    }
   ],
   "source": [
    "print([(country[\"Name\"], country[\"Population\"] / country[\"Area\"]) for country in countries])"
   ]
  },
  {
   "cell_type": "markdown",
   "metadata": {},
   "source": [
    "**Average population density for all countries**"
   ]
  },
  {
   "cell_type": "code",
   "execution_count": 39,
   "metadata": {},
   "outputs": [
    {
     "name": "stdout",
     "output_type": "stream",
     "text": [
      "Mean population density is 415.4 people per square kilometer.\n"
     ]
    }
   ],
   "source": [
    "mn = statistics.mean([country[\"Population\"] / country[\"Area\"] for country in countries])\n",
    "print(f\"Mean population density is {mn:.1f} people per square kilometer.\")"
   ]
  }
 ],
 "metadata": {
  "kernelspec": {
   "display_name": "Python 3 (ipykernel)",
   "language": "python",
   "name": "python3"
  },
  "language_info": {
   "codemirror_mode": {
    "name": "ipython",
    "version": 3
   },
   "file_extension": ".py",
   "mimetype": "text/x-python",
   "name": "python",
   "nbconvert_exporter": "python",
   "pygments_lexer": "ipython3",
   "version": "3.9.12"
  }
 },
 "nbformat": 4,
 "nbformat_minor": 2
}
