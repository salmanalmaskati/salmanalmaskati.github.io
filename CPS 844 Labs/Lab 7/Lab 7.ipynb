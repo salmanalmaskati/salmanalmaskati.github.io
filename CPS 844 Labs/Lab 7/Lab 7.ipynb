{
 "cells": [
  {
   "cell_type": "markdown",
   "metadata": {},
   "source": [
    "# <font color='blue'>Lab 7 - CCPS 844 Data Mining</font>\n",
    "### <font color='red'> Answer the following questions and submit a PDF file on the D2L.</font>\n"
   ]
  },
  {
   "cell_type": "markdown",
   "metadata": {},
   "source": [
    "**Select a dataset or datasets of your choice.**\n",
    "* Apply Cross-validation for parameter tuning, model selection, & feature selection like “cross_validation.ipynb”.\n",
    "* Apply a classification algorithm and then evaluate the classification model as it is done in “classification_model_evaluation.ipynb”.\n",
    "* Apply simple linear or multivariate linear regression and then evaluate it as it is done in “regression_model_Evaluation.ipynb”."
   ]
  },
  {
   "cell_type": "code",
   "execution_count": null,
   "metadata": {
    "collapsed": true
   },
   "outputs": [],
   "source": []
  }
 ],
 "metadata": {
  "kernelspec": {
   "display_name": "Python 3",
   "language": "python",
   "name": "python3"
  },
  "language_info": {
   "codemirror_mode": {
    "name": "ipython",
    "version": 3
   },
   "file_extension": ".py",
   "mimetype": "text/x-python",
   "name": "python",
   "nbconvert_exporter": "python",
   "pygments_lexer": "ipython3",
   "version": "3.7.6"
  }
 },
 "nbformat": 4,
 "nbformat_minor": 2
}
