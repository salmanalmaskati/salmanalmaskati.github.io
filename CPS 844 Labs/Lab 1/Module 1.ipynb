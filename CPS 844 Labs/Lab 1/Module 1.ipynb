{
 "cells": [
  {
   "attachments": {},
   "cell_type": "markdown",
   "metadata": {},
   "source": [
    "# <font color='blue'>CCPS 844 Data Mining Module 1</font>\n",
    "You can consult the following link to revise/improve your Python programming skills\n",
    "\n",
    "https://docs.python.org/3/tutorial/index.html"
   ]
  },
  {
   "attachments": {},
   "cell_type": "markdown",
   "metadata": {},
   "source": [
    "Let's begin by revising \n",
    "* Basic operations\n",
    "* Data Structures\n",
    "* creating/using functions"
   ]
  },
  {
   "cell_type": "code",
   "execution_count": 5,
   "metadata": {},
   "outputs": [
    {
     "data": {
      "text/plain": [
       "8"
      ]
     },
     "execution_count": 5,
     "metadata": {},
     "output_type": "execute_result"
    }
   ],
   "source": [
    "2 **3"
   ]
  },
  {
   "attachments": {},
   "cell_type": "markdown",
   "metadata": {},
   "source": [
    "**Split a string using a delimiter**"
   ]
  },
  {
   "cell_type": "code",
   "execution_count": 6,
   "metadata": {},
   "outputs": [
    {
     "data": {
      "text/plain": [
       "['blue', 'red', 'green']"
      ]
     },
     "execution_count": 6,
     "metadata": {},
     "output_type": "execute_result"
    }
   ],
   "source": [
    "x = 'blue,red,green'\n",
    "x.split(\",\")"
   ]
  },
  {
   "attachments": {},
   "cell_type": "markdown",
   "metadata": {},
   "source": [
    "**Use .format() to print a string:**"
   ]
  },
  {
   "cell_type": "code",
   "execution_count": 7,
   "metadata": {},
   "outputs": [],
   "source": [
    "name = \"John\"\n",
    "grade = \"A+\""
   ]
  },
  {
   "cell_type": "code",
   "execution_count": 8,
   "metadata": {},
   "outputs": [
    {
     "name": "stdout",
     "output_type": "stream",
     "text": [
      "John has A+.\n"
     ]
    }
   ],
   "source": [
    "print(\"{} has {}.\".format(name,grade))"
   ]
  },
  {
   "attachments": {},
   "cell_type": "markdown",
   "metadata": {},
   "source": [
    "**An alternative method to do the same using f-Strings: An Improved String Formatting Syntax**"
   ]
  },
  {
   "cell_type": "code",
   "execution_count": 9,
   "metadata": {},
   "outputs": [
    {
     "name": "stdout",
     "output_type": "stream",
     "text": [
      "John has A+.\n"
     ]
    }
   ],
   "source": [
    "print(f\"{name} has {grade}.\")"
   ]
  },
  {
   "attachments": {},
   "cell_type": "markdown",
   "metadata": {},
   "source": [
    "**Given a nested list, use indexing to grab \"g\"**"
   ]
  },
  {
   "cell_type": "code",
   "execution_count": 10,
   "metadata": {},
   "outputs": [],
   "source": [
    "a = [1,[[\"a\",\"b\",\"c\",],[\"d\",\"e\"],[\"f\",\"g\",\"h\"]]]"
   ]
  },
  {
   "cell_type": "code",
   "execution_count": 11,
   "metadata": {},
   "outputs": [
    {
     "data": {
      "text/plain": [
       "[['a', 'b', 'c'], ['d', 'e'], ['f', 'g', 'h']]"
      ]
     },
     "execution_count": 11,
     "metadata": {},
     "output_type": "execute_result"
    }
   ],
   "source": [
    "a[1]"
   ]
  },
  {
   "cell_type": "code",
   "execution_count": 12,
   "metadata": {},
   "outputs": [
    {
     "data": {
      "text/plain": [
       "['f', 'g', 'h']"
      ]
     },
     "execution_count": 12,
     "metadata": {},
     "output_type": "execute_result"
    }
   ],
   "source": [
    "a[1][2]"
   ]
  },
  {
   "cell_type": "code",
   "execution_count": 13,
   "metadata": {},
   "outputs": [
    {
     "data": {
      "text/plain": [
       "'g'"
      ]
     },
     "execution_count": 13,
     "metadata": {},
     "output_type": "execute_result"
    }
   ],
   "source": [
    "a[1][2][1]"
   ]
  },
  {
   "attachments": {},
   "cell_type": "markdown",
   "metadata": {},
   "source": [
    "**Given a nest dictionary grab 60**"
   ]
  },
  {
   "cell_type": "code",
   "execution_count": 14,
   "metadata": {},
   "outputs": [],
   "source": [
    "A = {1:{1:50,2:60,5:90},2:{7:55,10:102},4:{10:100,12:40}}"
   ]
  },
  {
   "cell_type": "code",
   "execution_count": 15,
   "metadata": {},
   "outputs": [
    {
     "data": {
      "text/plain": [
       "{1: 50, 2: 60, 5: 90}"
      ]
     },
     "execution_count": 15,
     "metadata": {},
     "output_type": "execute_result"
    }
   ],
   "source": [
    "A[1]"
   ]
  },
  {
   "cell_type": "code",
   "execution_count": 16,
   "metadata": {},
   "outputs": [
    {
     "data": {
      "text/plain": [
       "60"
      ]
     },
     "execution_count": 16,
     "metadata": {},
     "output_type": "execute_result"
    }
   ],
   "source": [
    "A[1][2]"
   ]
  },
  {
   "attachments": {},
   "cell_type": "markdown",
   "metadata": {},
   "source": [
    "**What is the main difference between a tuple and a list?**"
   ]
  },
  {
   "cell_type": "code",
   "execution_count": 17,
   "metadata": {},
   "outputs": [],
   "source": [
    "someTuple = (1,2)\n",
    "someList  = [1,2] "
   ]
  },
  {
   "cell_type": "code",
   "execution_count": 18,
   "metadata": {},
   "outputs": [
    {
     "name": "stdout",
     "output_type": "stream",
     "text": [
      "1\n",
      "1\n"
     ]
    }
   ],
   "source": [
    "print(someTuple[0])\n",
    "print(someList[0])"
   ]
  },
  {
   "cell_type": "code",
   "execution_count": 19,
   "metadata": {},
   "outputs": [
    {
     "data": {
      "text/plain": [
       "[3, 2]"
      ]
     },
     "execution_count": 19,
     "metadata": {},
     "output_type": "execute_result"
    }
   ],
   "source": [
    "someList[0] = 3  \n",
    "someList"
   ]
  },
  {
   "cell_type": "code",
   "execution_count": 20,
   "metadata": {},
   "outputs": [
    {
     "data": {
      "text/plain": [
       "(1, 2)"
      ]
     },
     "execution_count": 20,
     "metadata": {},
     "output_type": "execute_result"
    }
   ],
   "source": [
    "#immutable\n",
    "#someTuple[0] = 3 \n",
    "someTuple"
   ]
  },
  {
   "cell_type": "code",
   "execution_count": 21,
   "metadata": {},
   "outputs": [],
   "source": [
    "C = [1, 7, 8, 9, 10, 11]"
   ]
  },
  {
   "cell_type": "code",
   "execution_count": 22,
   "metadata": {},
   "outputs": [],
   "source": [
    "import numpy"
   ]
  },
  {
   "cell_type": "code",
   "execution_count": 23,
   "metadata": {},
   "outputs": [
    {
     "data": {
      "text/plain": [
       "array([[ 1,  7,  8],\n",
       "       [ 9, 10, 11]])"
      ]
     },
     "execution_count": 23,
     "metadata": {},
     "output_type": "execute_result"
    }
   ],
   "source": [
    "mat = numpy.reshape(C, (2,3))\n",
    "mat"
   ]
  },
  {
   "cell_type": "code",
   "execution_count": 24,
   "metadata": {},
   "outputs": [
    {
     "data": {
      "text/plain": [
       "array([11])"
      ]
     },
     "execution_count": 24,
     "metadata": {},
     "output_type": "execute_result"
    }
   ],
   "source": [
    "mat[[1],[2]]"
   ]
  },
  {
   "attachments": {},
   "cell_type": "markdown",
   "metadata": {},
   "source": [
    "### Defining and calling a function\n",
    "**You are driving a little too fast, and a police officer stops you. Write a function\n",
    "  to return one of 3 possible results: \"No ticket\", \"Small ticket\", or \"Big Ticket\". \n",
    "  If your speed is 60 or less, the result is \"No Ticket\". If speed is between 61 \n",
    "  and 80 inclusive, the result is \"Small Ticket\". If speed is 81 or more, the result is \"Big    Ticket\". Unless it is your birthday (encoded as a boolean value in the parameters of the function) -- on your birthday, your speed can be 5 higher in all \n",
    "  cases.**"
   ]
  },
  {
   "cell_type": "code",
   "execution_count": 25,
   "metadata": {},
   "outputs": [],
   "source": [
    "def caught_speeding(speed, is_birthday):\n",
    "    \n",
    "    if is_birthday:\n",
    "        speeding = speed - 5\n",
    "    else:\n",
    "        speeding = speed\n",
    "    \n",
    "    if speeding > 80:\n",
    "        return 'Big Ticket'\n",
    "    elif speeding > 60:\n",
    "        return 'Small Ticket'\n",
    "    else:\n",
    "        return 'No Ticket'"
   ]
  },
  {
   "cell_type": "code",
   "execution_count": 26,
   "metadata": {},
   "outputs": [
    {
     "data": {
      "text/plain": [
       "'Small Ticket'"
      ]
     },
     "execution_count": 26,
     "metadata": {},
     "output_type": "execute_result"
    }
   ],
   "source": [
    "caught_speeding(81,True)"
   ]
  },
  {
   "cell_type": "code",
   "execution_count": 27,
   "metadata": {},
   "outputs": [
    {
     "data": {
      "text/plain": [
       "'Big Ticket'"
      ]
     },
     "execution_count": 27,
     "metadata": {},
     "output_type": "execute_result"
    }
   ],
   "source": [
    "caught_speeding(81,False)"
   ]
  },
  {
   "cell_type": "code",
   "execution_count": 28,
   "metadata": {},
   "outputs": [],
   "source": [
    "foo = [2, 18, 9, 22, 17, 24, 8, 12, 27]"
   ]
  },
  {
   "attachments": {},
   "cell_type": "markdown",
   "metadata": {},
   "source": [
    "**Select all elements from the list foo that are divisible by 3**"
   ]
  },
  {
   "cell_type": "code",
   "execution_count": 29,
   "metadata": {},
   "outputs": [
    {
     "data": {
      "text/plain": [
       "[18, 9, 24, 12, 27]"
      ]
     },
     "execution_count": 29,
     "metadata": {},
     "output_type": "execute_result"
    }
   ],
   "source": [
    "list(filter(lambda x: x % 3 == 0, foo))"
   ]
  },
  {
   "attachments": {},
   "cell_type": "markdown",
   "metadata": {},
   "source": [
    "**Multiply all Elements of list foo with 2 and add 10 to each of them**"
   ]
  },
  {
   "cell_type": "code",
   "execution_count": 30,
   "metadata": {},
   "outputs": [
    {
     "data": {
      "text/plain": [
       "[14, 46, 28, 54, 44, 58, 26, 34, 64]"
      ]
     },
     "execution_count": 30,
     "metadata": {},
     "output_type": "execute_result"
    }
   ],
   "source": [
    "list(map(lambda x: x * 2 + 10, foo))"
   ]
  },
  {
   "attachments": {},
   "cell_type": "markdown",
   "metadata": {},
   "source": [
    "# Learning Pandas Basics\n",
    "Pandas is a Python package providing fast, flexible, and expressive data structures designed to make working with “relational” or “labeled” data both easy and intuitive. It aims to be the fundamental high-level building block for doing practical, real world data analysis in Python.\n",
    "\n",
    "http://pandas.pydata.org/pandas-docs/stable/user_guide/index.html"
   ]
  },
  {
   "attachments": {},
   "cell_type": "markdown",
   "metadata": {},
   "source": [
    "## Data Frame\n",
    "DataFrame is a 2-dimensional labeled data structure with columns of potentially different types. You can think of it like a spreadsheet or SQL table, or a dict of Series objects. It is generally the most commonly used pandas object.\n",
    "There are several ways to create a DataFrame. One way way is to use a dictionary."
   ]
  },
  {
   "cell_type": "code",
   "execution_count": 31,
   "metadata": {},
   "outputs": [],
   "source": [
    "#Importing the Pandas library\n",
    "import pandas as pd"
   ]
  },
  {
   "cell_type": "code",
   "execution_count": 32,
   "metadata": {},
   "outputs": [
    {
     "data": {
      "text/html": [
       "<div>\n",
       "<style scoped>\n",
       "    .dataframe tbody tr th:only-of-type {\n",
       "        vertical-align: middle;\n",
       "    }\n",
       "\n",
       "    .dataframe tbody tr th {\n",
       "        vertical-align: top;\n",
       "    }\n",
       "\n",
       "    .dataframe thead th {\n",
       "        text-align: right;\n",
       "    }\n",
       "</style>\n",
       "<table border=\"1\" class=\"dataframe\">\n",
       "  <thead>\n",
       "    <tr style=\"text-align: right;\">\n",
       "      <th></th>\n",
       "      <th>one</th>\n",
       "      <th>two</th>\n",
       "    </tr>\n",
       "  </thead>\n",
       "  <tbody>\n",
       "    <tr>\n",
       "      <th>0</th>\n",
       "      <td>1.0</td>\n",
       "      <td>4.0</td>\n",
       "    </tr>\n",
       "    <tr>\n",
       "      <th>1</th>\n",
       "      <td>2.0</td>\n",
       "      <td>3.0</td>\n",
       "    </tr>\n",
       "    <tr>\n",
       "      <th>2</th>\n",
       "      <td>3.0</td>\n",
       "      <td>2.0</td>\n",
       "    </tr>\n",
       "    <tr>\n",
       "      <th>3</th>\n",
       "      <td>4.0</td>\n",
       "      <td>1.0</td>\n",
       "    </tr>\n",
       "  </tbody>\n",
       "</table>\n",
       "</div>"
      ],
      "text/plain": [
       "   one  two\n",
       "0  1.0  4.0\n",
       "1  2.0  3.0\n",
       "2  3.0  2.0\n",
       "3  4.0  1.0"
      ]
     },
     "execution_count": 32,
     "metadata": {},
     "output_type": "execute_result"
    }
   ],
   "source": [
    "d = {'one' : [1., 2., 3., 4.], 'two' : [4., 3., 2., 1.]}\n",
    "df = pd.DataFrame(d)\n",
    "df"
   ]
  },
  {
   "cell_type": "code",
   "execution_count": 33,
   "metadata": {},
   "outputs": [
    {
     "data": {
      "text/html": [
       "<div>\n",
       "<style scoped>\n",
       "    .dataframe tbody tr th:only-of-type {\n",
       "        vertical-align: middle;\n",
       "    }\n",
       "\n",
       "    .dataframe tbody tr th {\n",
       "        vertical-align: top;\n",
       "    }\n",
       "\n",
       "    .dataframe thead th {\n",
       "        text-align: right;\n",
       "    }\n",
       "</style>\n",
       "<table border=\"1\" class=\"dataframe\">\n",
       "  <thead>\n",
       "    <tr style=\"text-align: right;\">\n",
       "      <th></th>\n",
       "      <th>one</th>\n",
       "      <th>two</th>\n",
       "    </tr>\n",
       "  </thead>\n",
       "  <tbody>\n",
       "    <tr>\n",
       "      <th>d</th>\n",
       "      <td>1.0</td>\n",
       "      <td>4.0</td>\n",
       "    </tr>\n",
       "    <tr>\n",
       "      <th>c</th>\n",
       "      <td>2.0</td>\n",
       "      <td>3.0</td>\n",
       "    </tr>\n",
       "    <tr>\n",
       "      <th>b</th>\n",
       "      <td>3.0</td>\n",
       "      <td>2.0</td>\n",
       "    </tr>\n",
       "    <tr>\n",
       "      <th>a</th>\n",
       "      <td>4.0</td>\n",
       "      <td>1.0</td>\n",
       "    </tr>\n",
       "  </tbody>\n",
       "</table>\n",
       "</div>"
      ],
      "text/plain": [
       "   one  two\n",
       "d  1.0  4.0\n",
       "c  2.0  3.0\n",
       "b  3.0  2.0\n",
       "a  4.0  1.0"
      ]
     },
     "execution_count": 33,
     "metadata": {},
     "output_type": "execute_result"
    }
   ],
   "source": [
    "df.index=['d', 'c', 'b', 'a']\n",
    "df"
   ]
  },
  {
   "attachments": {},
   "cell_type": "markdown",
   "metadata": {},
   "source": [
    "**Control the sequence of columns by using the Columns argument**"
   ]
  },
  {
   "cell_type": "code",
   "execution_count": 34,
   "metadata": {},
   "outputs": [
    {
     "data": {
      "text/html": [
       "<div>\n",
       "<style scoped>\n",
       "    .dataframe tbody tr th:only-of-type {\n",
       "        vertical-align: middle;\n",
       "    }\n",
       "\n",
       "    .dataframe tbody tr th {\n",
       "        vertical-align: top;\n",
       "    }\n",
       "\n",
       "    .dataframe thead th {\n",
       "        text-align: right;\n",
       "    }\n",
       "</style>\n",
       "<table border=\"1\" class=\"dataframe\">\n",
       "  <thead>\n",
       "    <tr style=\"text-align: right;\">\n",
       "      <th></th>\n",
       "      <th>two</th>\n",
       "      <th>one</th>\n",
       "    </tr>\n",
       "  </thead>\n",
       "  <tbody>\n",
       "    <tr>\n",
       "      <th>d</th>\n",
       "      <td>4.0</td>\n",
       "      <td>1.0</td>\n",
       "    </tr>\n",
       "    <tr>\n",
       "      <th>c</th>\n",
       "      <td>3.0</td>\n",
       "      <td>2.0</td>\n",
       "    </tr>\n",
       "    <tr>\n",
       "      <th>b</th>\n",
       "      <td>2.0</td>\n",
       "      <td>3.0</td>\n",
       "    </tr>\n",
       "    <tr>\n",
       "      <th>a</th>\n",
       "      <td>1.0</td>\n",
       "      <td>4.0</td>\n",
       "    </tr>\n",
       "  </tbody>\n",
       "</table>\n",
       "</div>"
      ],
      "text/plain": [
       "   two  one\n",
       "d  4.0  1.0\n",
       "c  3.0  2.0\n",
       "b  2.0  3.0\n",
       "a  1.0  4.0"
      ]
     },
     "execution_count": 34,
     "metadata": {},
     "output_type": "execute_result"
    }
   ],
   "source": [
    "df1 = pd.DataFrame(d, index=['d', 'c', 'b', 'a'], columns=['two', 'one'])\n",
    "#we have changed the sequence of columns\n",
    "df1"
   ]
  },
  {
   "attachments": {},
   "cell_type": "markdown",
   "metadata": {},
   "source": [
    "**Rename Data Frame columns**"
   ]
  },
  {
   "cell_type": "code",
   "execution_count": 35,
   "metadata": {},
   "outputs": [
    {
     "data": {
      "text/html": [
       "<div>\n",
       "<style scoped>\n",
       "    .dataframe tbody tr th:only-of-type {\n",
       "        vertical-align: middle;\n",
       "    }\n",
       "\n",
       "    .dataframe tbody tr th {\n",
       "        vertical-align: top;\n",
       "    }\n",
       "\n",
       "    .dataframe thead th {\n",
       "        text-align: right;\n",
       "    }\n",
       "</style>\n",
       "<table border=\"1\" class=\"dataframe\">\n",
       "  <thead>\n",
       "    <tr style=\"text-align: right;\">\n",
       "      <th></th>\n",
       "      <th>Column 1</th>\n",
       "      <th>Column 2</th>\n",
       "    </tr>\n",
       "  </thead>\n",
       "  <tbody>\n",
       "    <tr>\n",
       "      <th>d</th>\n",
       "      <td>4.0</td>\n",
       "      <td>1.0</td>\n",
       "    </tr>\n",
       "    <tr>\n",
       "      <th>c</th>\n",
       "      <td>3.0</td>\n",
       "      <td>2.0</td>\n",
       "    </tr>\n",
       "    <tr>\n",
       "      <th>b</th>\n",
       "      <td>2.0</td>\n",
       "      <td>3.0</td>\n",
       "    </tr>\n",
       "    <tr>\n",
       "      <th>a</th>\n",
       "      <td>1.0</td>\n",
       "      <td>4.0</td>\n",
       "    </tr>\n",
       "  </tbody>\n",
       "</table>\n",
       "</div>"
      ],
      "text/plain": [
       "   Column 1  Column 2\n",
       "d       4.0       1.0\n",
       "c       3.0       2.0\n",
       "b       2.0       3.0\n",
       "a       1.0       4.0"
      ]
     },
     "execution_count": 35,
     "metadata": {},
     "output_type": "execute_result"
    }
   ],
   "source": [
    "df1.columns = ['Column 1', 'Column 2']\n",
    "df1"
   ]
  },
  {
   "attachments": {},
   "cell_type": "markdown",
   "metadata": {},
   "source": [
    "**Select the row indexed with b**"
   ]
  },
  {
   "cell_type": "code",
   "execution_count": 36,
   "metadata": {},
   "outputs": [
    {
     "data": {
      "text/html": [
       "<div>\n",
       "<style scoped>\n",
       "    .dataframe tbody tr th:only-of-type {\n",
       "        vertical-align: middle;\n",
       "    }\n",
       "\n",
       "    .dataframe tbody tr th {\n",
       "        vertical-align: top;\n",
       "    }\n",
       "\n",
       "    .dataframe thead th {\n",
       "        text-align: right;\n",
       "    }\n",
       "</style>\n",
       "<table border=\"1\" class=\"dataframe\">\n",
       "  <thead>\n",
       "    <tr style=\"text-align: right;\">\n",
       "      <th></th>\n",
       "      <th>Column 1</th>\n",
       "      <th>Column 2</th>\n",
       "    </tr>\n",
       "  </thead>\n",
       "  <tbody>\n",
       "    <tr>\n",
       "      <th>b</th>\n",
       "      <td>2.0</td>\n",
       "      <td>3.0</td>\n",
       "    </tr>\n",
       "  </tbody>\n",
       "</table>\n",
       "</div>"
      ],
      "text/plain": [
       "   Column 1  Column 2\n",
       "b       2.0       3.0"
      ]
     },
     "execution_count": 36,
     "metadata": {},
     "output_type": "execute_result"
    }
   ],
   "source": [
    "df1.loc[['b']]"
   ]
  },
  {
   "attachments": {},
   "cell_type": "markdown",
   "metadata": {},
   "source": [
    "**Reading Dataframe from a CSV file**"
   ]
  },
  {
   "cell_type": "code",
   "execution_count": 37,
   "metadata": {},
   "outputs": [
    {
     "ename": "FileNotFoundError",
     "evalue": "[Errno 2] No such file or directory: 'cars.csv'",
     "output_type": "error",
     "traceback": [
      "\u001b[0;31m---------------------------------------------------------------------------\u001b[0m",
      "\u001b[0;31mFileNotFoundError\u001b[0m                         Traceback (most recent call last)",
      "Cell \u001b[0;32mIn[37], line 1\u001b[0m\n\u001b[0;32m----> 1\u001b[0m cars \u001b[39m=\u001b[39m pd\u001b[39m.\u001b[39;49mread_csv(\u001b[39m'\u001b[39;49m\u001b[39mcars.csv\u001b[39;49m\u001b[39m'\u001b[39;49m)\n\u001b[1;32m      2\u001b[0m cars\n",
      "File \u001b[0;32m/Library/Frameworks/Python.framework/Versions/3.10/lib/python3.10/site-packages/pandas/io/parsers/readers.py:912\u001b[0m, in \u001b[0;36mread_csv\u001b[0;34m(filepath_or_buffer, sep, delimiter, header, names, index_col, usecols, dtype, engine, converters, true_values, false_values, skipinitialspace, skiprows, skipfooter, nrows, na_values, keep_default_na, na_filter, verbose, skip_blank_lines, parse_dates, infer_datetime_format, keep_date_col, date_parser, date_format, dayfirst, cache_dates, iterator, chunksize, compression, thousands, decimal, lineterminator, quotechar, quoting, doublequote, escapechar, comment, encoding, encoding_errors, dialect, on_bad_lines, delim_whitespace, low_memory, memory_map, float_precision, storage_options, dtype_backend)\u001b[0m\n\u001b[1;32m    899\u001b[0m kwds_defaults \u001b[39m=\u001b[39m _refine_defaults_read(\n\u001b[1;32m    900\u001b[0m     dialect,\n\u001b[1;32m    901\u001b[0m     delimiter,\n\u001b[0;32m   (...)\u001b[0m\n\u001b[1;32m    908\u001b[0m     dtype_backend\u001b[39m=\u001b[39mdtype_backend,\n\u001b[1;32m    909\u001b[0m )\n\u001b[1;32m    910\u001b[0m kwds\u001b[39m.\u001b[39mupdate(kwds_defaults)\n\u001b[0;32m--> 912\u001b[0m \u001b[39mreturn\u001b[39;00m _read(filepath_or_buffer, kwds)\n",
      "File \u001b[0;32m/Library/Frameworks/Python.framework/Versions/3.10/lib/python3.10/site-packages/pandas/io/parsers/readers.py:577\u001b[0m, in \u001b[0;36m_read\u001b[0;34m(filepath_or_buffer, kwds)\u001b[0m\n\u001b[1;32m    574\u001b[0m _validate_names(kwds\u001b[39m.\u001b[39mget(\u001b[39m\"\u001b[39m\u001b[39mnames\u001b[39m\u001b[39m\"\u001b[39m, \u001b[39mNone\u001b[39;00m))\n\u001b[1;32m    576\u001b[0m \u001b[39m# Create the parser.\u001b[39;00m\n\u001b[0;32m--> 577\u001b[0m parser \u001b[39m=\u001b[39m TextFileReader(filepath_or_buffer, \u001b[39m*\u001b[39;49m\u001b[39m*\u001b[39;49mkwds)\n\u001b[1;32m    579\u001b[0m \u001b[39mif\u001b[39;00m chunksize \u001b[39mor\u001b[39;00m iterator:\n\u001b[1;32m    580\u001b[0m     \u001b[39mreturn\u001b[39;00m parser\n",
      "File \u001b[0;32m/Library/Frameworks/Python.framework/Versions/3.10/lib/python3.10/site-packages/pandas/io/parsers/readers.py:1407\u001b[0m, in \u001b[0;36mTextFileReader.__init__\u001b[0;34m(self, f, engine, **kwds)\u001b[0m\n\u001b[1;32m   1404\u001b[0m     \u001b[39mself\u001b[39m\u001b[39m.\u001b[39moptions[\u001b[39m\"\u001b[39m\u001b[39mhas_index_names\u001b[39m\u001b[39m\"\u001b[39m] \u001b[39m=\u001b[39m kwds[\u001b[39m\"\u001b[39m\u001b[39mhas_index_names\u001b[39m\u001b[39m\"\u001b[39m]\n\u001b[1;32m   1406\u001b[0m \u001b[39mself\u001b[39m\u001b[39m.\u001b[39mhandles: IOHandles \u001b[39m|\u001b[39m \u001b[39mNone\u001b[39;00m \u001b[39m=\u001b[39m \u001b[39mNone\u001b[39;00m\n\u001b[0;32m-> 1407\u001b[0m \u001b[39mself\u001b[39m\u001b[39m.\u001b[39m_engine \u001b[39m=\u001b[39m \u001b[39mself\u001b[39;49m\u001b[39m.\u001b[39;49m_make_engine(f, \u001b[39mself\u001b[39;49m\u001b[39m.\u001b[39;49mengine)\n",
      "File \u001b[0;32m/Library/Frameworks/Python.framework/Versions/3.10/lib/python3.10/site-packages/pandas/io/parsers/readers.py:1661\u001b[0m, in \u001b[0;36mTextFileReader._make_engine\u001b[0;34m(self, f, engine)\u001b[0m\n\u001b[1;32m   1659\u001b[0m     \u001b[39mif\u001b[39;00m \u001b[39m\"\u001b[39m\u001b[39mb\u001b[39m\u001b[39m\"\u001b[39m \u001b[39mnot\u001b[39;00m \u001b[39min\u001b[39;00m mode:\n\u001b[1;32m   1660\u001b[0m         mode \u001b[39m+\u001b[39m\u001b[39m=\u001b[39m \u001b[39m\"\u001b[39m\u001b[39mb\u001b[39m\u001b[39m\"\u001b[39m\n\u001b[0;32m-> 1661\u001b[0m \u001b[39mself\u001b[39m\u001b[39m.\u001b[39mhandles \u001b[39m=\u001b[39m get_handle(\n\u001b[1;32m   1662\u001b[0m     f,\n\u001b[1;32m   1663\u001b[0m     mode,\n\u001b[1;32m   1664\u001b[0m     encoding\u001b[39m=\u001b[39;49m\u001b[39mself\u001b[39;49m\u001b[39m.\u001b[39;49moptions\u001b[39m.\u001b[39;49mget(\u001b[39m\"\u001b[39;49m\u001b[39mencoding\u001b[39;49m\u001b[39m\"\u001b[39;49m, \u001b[39mNone\u001b[39;49;00m),\n\u001b[1;32m   1665\u001b[0m     compression\u001b[39m=\u001b[39;49m\u001b[39mself\u001b[39;49m\u001b[39m.\u001b[39;49moptions\u001b[39m.\u001b[39;49mget(\u001b[39m\"\u001b[39;49m\u001b[39mcompression\u001b[39;49m\u001b[39m\"\u001b[39;49m, \u001b[39mNone\u001b[39;49;00m),\n\u001b[1;32m   1666\u001b[0m     memory_map\u001b[39m=\u001b[39;49m\u001b[39mself\u001b[39;49m\u001b[39m.\u001b[39;49moptions\u001b[39m.\u001b[39;49mget(\u001b[39m\"\u001b[39;49m\u001b[39mmemory_map\u001b[39;49m\u001b[39m\"\u001b[39;49m, \u001b[39mFalse\u001b[39;49;00m),\n\u001b[1;32m   1667\u001b[0m     is_text\u001b[39m=\u001b[39;49mis_text,\n\u001b[1;32m   1668\u001b[0m     errors\u001b[39m=\u001b[39;49m\u001b[39mself\u001b[39;49m\u001b[39m.\u001b[39;49moptions\u001b[39m.\u001b[39;49mget(\u001b[39m\"\u001b[39;49m\u001b[39mencoding_errors\u001b[39;49m\u001b[39m\"\u001b[39;49m, \u001b[39m\"\u001b[39;49m\u001b[39mstrict\u001b[39;49m\u001b[39m\"\u001b[39;49m),\n\u001b[1;32m   1669\u001b[0m     storage_options\u001b[39m=\u001b[39;49m\u001b[39mself\u001b[39;49m\u001b[39m.\u001b[39;49moptions\u001b[39m.\u001b[39;49mget(\u001b[39m\"\u001b[39;49m\u001b[39mstorage_options\u001b[39;49m\u001b[39m\"\u001b[39;49m, \u001b[39mNone\u001b[39;49;00m),\n\u001b[1;32m   1670\u001b[0m )\n\u001b[1;32m   1671\u001b[0m \u001b[39massert\u001b[39;00m \u001b[39mself\u001b[39m\u001b[39m.\u001b[39mhandles \u001b[39mis\u001b[39;00m \u001b[39mnot\u001b[39;00m \u001b[39mNone\u001b[39;00m\n\u001b[1;32m   1672\u001b[0m f \u001b[39m=\u001b[39m \u001b[39mself\u001b[39m\u001b[39m.\u001b[39mhandles\u001b[39m.\u001b[39mhandle\n",
      "File \u001b[0;32m/Library/Frameworks/Python.framework/Versions/3.10/lib/python3.10/site-packages/pandas/io/common.py:859\u001b[0m, in \u001b[0;36mget_handle\u001b[0;34m(path_or_buf, mode, encoding, compression, memory_map, is_text, errors, storage_options)\u001b[0m\n\u001b[1;32m    854\u001b[0m \u001b[39melif\u001b[39;00m \u001b[39misinstance\u001b[39m(handle, \u001b[39mstr\u001b[39m):\n\u001b[1;32m    855\u001b[0m     \u001b[39m# Check whether the filename is to be opened in binary mode.\u001b[39;00m\n\u001b[1;32m    856\u001b[0m     \u001b[39m# Binary mode does not support 'encoding' and 'newline'.\u001b[39;00m\n\u001b[1;32m    857\u001b[0m     \u001b[39mif\u001b[39;00m ioargs\u001b[39m.\u001b[39mencoding \u001b[39mand\u001b[39;00m \u001b[39m\"\u001b[39m\u001b[39mb\u001b[39m\u001b[39m\"\u001b[39m \u001b[39mnot\u001b[39;00m \u001b[39min\u001b[39;00m ioargs\u001b[39m.\u001b[39mmode:\n\u001b[1;32m    858\u001b[0m         \u001b[39m# Encoding\u001b[39;00m\n\u001b[0;32m--> 859\u001b[0m         handle \u001b[39m=\u001b[39m \u001b[39mopen\u001b[39;49m(\n\u001b[1;32m    860\u001b[0m             handle,\n\u001b[1;32m    861\u001b[0m             ioargs\u001b[39m.\u001b[39;49mmode,\n\u001b[1;32m    862\u001b[0m             encoding\u001b[39m=\u001b[39;49mioargs\u001b[39m.\u001b[39;49mencoding,\n\u001b[1;32m    863\u001b[0m             errors\u001b[39m=\u001b[39;49merrors,\n\u001b[1;32m    864\u001b[0m             newline\u001b[39m=\u001b[39;49m\u001b[39m\"\u001b[39;49m\u001b[39m\"\u001b[39;49m,\n\u001b[1;32m    865\u001b[0m         )\n\u001b[1;32m    866\u001b[0m     \u001b[39melse\u001b[39;00m:\n\u001b[1;32m    867\u001b[0m         \u001b[39m# Binary mode\u001b[39;00m\n\u001b[1;32m    868\u001b[0m         handle \u001b[39m=\u001b[39m \u001b[39mopen\u001b[39m(handle, ioargs\u001b[39m.\u001b[39mmode)\n",
      "\u001b[0;31mFileNotFoundError\u001b[0m: [Errno 2] No such file or directory: 'cars.csv'"
     ]
    }
   ],
   "source": [
    "cars = pd.read_csv('cars.csv')\n",
    "cars"
   ]
  },
  {
   "attachments": {},
   "cell_type": "markdown",
   "metadata": {},
   "source": [
    "**Reading a CSV file and setting the first column as index**"
   ]
  },
  {
   "cell_type": "code",
   "execution_count": null,
   "metadata": {},
   "outputs": [
    {
     "data": {
      "text/html": [
       "<div>\n",
       "<style scoped>\n",
       "    .dataframe tbody tr th:only-of-type {\n",
       "        vertical-align: middle;\n",
       "    }\n",
       "\n",
       "    .dataframe tbody tr th {\n",
       "        vertical-align: top;\n",
       "    }\n",
       "\n",
       "    .dataframe thead th {\n",
       "        text-align: right;\n",
       "    }\n",
       "</style>\n",
       "<table border=\"1\" class=\"dataframe\">\n",
       "  <thead>\n",
       "    <tr style=\"text-align: right;\">\n",
       "      <th></th>\n",
       "      <th>mpg</th>\n",
       "      <th>cyl</th>\n",
       "      <th>disp</th>\n",
       "      <th>hp</th>\n",
       "      <th>drat</th>\n",
       "      <th>wt</th>\n",
       "      <th>qsec</th>\n",
       "      <th>vs</th>\n",
       "      <th>am</th>\n",
       "      <th>gear</th>\n",
       "      <th>carb</th>\n",
       "    </tr>\n",
       "  </thead>\n",
       "  <tbody>\n",
       "    <tr>\n",
       "      <th>Mazda RX4</th>\n",
       "      <td>21.0</td>\n",
       "      <td>6</td>\n",
       "      <td>160.0</td>\n",
       "      <td>110</td>\n",
       "      <td>3.90</td>\n",
       "      <td>2.620</td>\n",
       "      <td>16.46</td>\n",
       "      <td>0</td>\n",
       "      <td>1</td>\n",
       "      <td>4</td>\n",
       "      <td>4</td>\n",
       "    </tr>\n",
       "    <tr>\n",
       "      <th>Mazda RX4 Wag</th>\n",
       "      <td>21.0</td>\n",
       "      <td>6</td>\n",
       "      <td>160.0</td>\n",
       "      <td>110</td>\n",
       "      <td>3.90</td>\n",
       "      <td>2.875</td>\n",
       "      <td>17.02</td>\n",
       "      <td>0</td>\n",
       "      <td>1</td>\n",
       "      <td>4</td>\n",
       "      <td>4</td>\n",
       "    </tr>\n",
       "    <tr>\n",
       "      <th>Datsun 710</th>\n",
       "      <td>22.8</td>\n",
       "      <td>4</td>\n",
       "      <td>108.0</td>\n",
       "      <td>93</td>\n",
       "      <td>3.85</td>\n",
       "      <td>2.320</td>\n",
       "      <td>18.61</td>\n",
       "      <td>1</td>\n",
       "      <td>1</td>\n",
       "      <td>4</td>\n",
       "      <td>1</td>\n",
       "    </tr>\n",
       "    <tr>\n",
       "      <th>Hornet 4 Drive</th>\n",
       "      <td>21.4</td>\n",
       "      <td>6</td>\n",
       "      <td>258.0</td>\n",
       "      <td>110</td>\n",
       "      <td>3.08</td>\n",
       "      <td>3.215</td>\n",
       "      <td>19.44</td>\n",
       "      <td>1</td>\n",
       "      <td>0</td>\n",
       "      <td>3</td>\n",
       "      <td>1</td>\n",
       "    </tr>\n",
       "    <tr>\n",
       "      <th>Hornet Sportabout</th>\n",
       "      <td>18.7</td>\n",
       "      <td>8</td>\n",
       "      <td>360.0</td>\n",
       "      <td>175</td>\n",
       "      <td>3.15</td>\n",
       "      <td>3.440</td>\n",
       "      <td>17.02</td>\n",
       "      <td>0</td>\n",
       "      <td>0</td>\n",
       "      <td>3</td>\n",
       "      <td>2</td>\n",
       "    </tr>\n",
       "    <tr>\n",
       "      <th>Valiant</th>\n",
       "      <td>18.1</td>\n",
       "      <td>6</td>\n",
       "      <td>225.0</td>\n",
       "      <td>105</td>\n",
       "      <td>2.76</td>\n",
       "      <td>3.460</td>\n",
       "      <td>20.22</td>\n",
       "      <td>1</td>\n",
       "      <td>0</td>\n",
       "      <td>3</td>\n",
       "      <td>1</td>\n",
       "    </tr>\n",
       "    <tr>\n",
       "      <th>Duster 360</th>\n",
       "      <td>14.3</td>\n",
       "      <td>8</td>\n",
       "      <td>360.0</td>\n",
       "      <td>245</td>\n",
       "      <td>3.21</td>\n",
       "      <td>3.570</td>\n",
       "      <td>15.84</td>\n",
       "      <td>0</td>\n",
       "      <td>0</td>\n",
       "      <td>3</td>\n",
       "      <td>4</td>\n",
       "    </tr>\n",
       "    <tr>\n",
       "      <th>Merc 240D</th>\n",
       "      <td>24.4</td>\n",
       "      <td>4</td>\n",
       "      <td>146.7</td>\n",
       "      <td>62</td>\n",
       "      <td>3.69</td>\n",
       "      <td>3.190</td>\n",
       "      <td>20.00</td>\n",
       "      <td>1</td>\n",
       "      <td>0</td>\n",
       "      <td>4</td>\n",
       "      <td>2</td>\n",
       "    </tr>\n",
       "    <tr>\n",
       "      <th>Merc 230</th>\n",
       "      <td>22.8</td>\n",
       "      <td>4</td>\n",
       "      <td>140.8</td>\n",
       "      <td>95</td>\n",
       "      <td>3.92</td>\n",
       "      <td>3.150</td>\n",
       "      <td>22.90</td>\n",
       "      <td>1</td>\n",
       "      <td>0</td>\n",
       "      <td>4</td>\n",
       "      <td>2</td>\n",
       "    </tr>\n",
       "    <tr>\n",
       "      <th>Merc 280</th>\n",
       "      <td>19.2</td>\n",
       "      <td>6</td>\n",
       "      <td>167.6</td>\n",
       "      <td>123</td>\n",
       "      <td>3.92</td>\n",
       "      <td>3.440</td>\n",
       "      <td>18.30</td>\n",
       "      <td>1</td>\n",
       "      <td>0</td>\n",
       "      <td>4</td>\n",
       "      <td>4</td>\n",
       "    </tr>\n",
       "    <tr>\n",
       "      <th>Merc 280C</th>\n",
       "      <td>17.8</td>\n",
       "      <td>6</td>\n",
       "      <td>167.6</td>\n",
       "      <td>123</td>\n",
       "      <td>3.92</td>\n",
       "      <td>3.440</td>\n",
       "      <td>18.90</td>\n",
       "      <td>1</td>\n",
       "      <td>0</td>\n",
       "      <td>4</td>\n",
       "      <td>4</td>\n",
       "    </tr>\n",
       "    <tr>\n",
       "      <th>Merc 450SE</th>\n",
       "      <td>16.4</td>\n",
       "      <td>8</td>\n",
       "      <td>275.8</td>\n",
       "      <td>180</td>\n",
       "      <td>3.07</td>\n",
       "      <td>4.070</td>\n",
       "      <td>17.40</td>\n",
       "      <td>0</td>\n",
       "      <td>0</td>\n",
       "      <td>3</td>\n",
       "      <td>3</td>\n",
       "    </tr>\n",
       "    <tr>\n",
       "      <th>Merc 450SL</th>\n",
       "      <td>17.3</td>\n",
       "      <td>8</td>\n",
       "      <td>275.8</td>\n",
       "      <td>180</td>\n",
       "      <td>3.07</td>\n",
       "      <td>3.730</td>\n",
       "      <td>17.60</td>\n",
       "      <td>0</td>\n",
       "      <td>0</td>\n",
       "      <td>3</td>\n",
       "      <td>3</td>\n",
       "    </tr>\n",
       "    <tr>\n",
       "      <th>Merc 450SLC</th>\n",
       "      <td>15.2</td>\n",
       "      <td>8</td>\n",
       "      <td>275.8</td>\n",
       "      <td>180</td>\n",
       "      <td>3.07</td>\n",
       "      <td>3.780</td>\n",
       "      <td>18.00</td>\n",
       "      <td>0</td>\n",
       "      <td>0</td>\n",
       "      <td>3</td>\n",
       "      <td>3</td>\n",
       "    </tr>\n",
       "    <tr>\n",
       "      <th>Cadillac Fleetwood</th>\n",
       "      <td>10.4</td>\n",
       "      <td>8</td>\n",
       "      <td>472.0</td>\n",
       "      <td>205</td>\n",
       "      <td>2.93</td>\n",
       "      <td>5.250</td>\n",
       "      <td>17.98</td>\n",
       "      <td>0</td>\n",
       "      <td>0</td>\n",
       "      <td>3</td>\n",
       "      <td>4</td>\n",
       "    </tr>\n",
       "    <tr>\n",
       "      <th>Lincoln Continental</th>\n",
       "      <td>10.4</td>\n",
       "      <td>8</td>\n",
       "      <td>460.0</td>\n",
       "      <td>215</td>\n",
       "      <td>3.00</td>\n",
       "      <td>5.424</td>\n",
       "      <td>17.82</td>\n",
       "      <td>0</td>\n",
       "      <td>0</td>\n",
       "      <td>3</td>\n",
       "      <td>4</td>\n",
       "    </tr>\n",
       "    <tr>\n",
       "      <th>Chrysler Imperial</th>\n",
       "      <td>14.7</td>\n",
       "      <td>8</td>\n",
       "      <td>440.0</td>\n",
       "      <td>230</td>\n",
       "      <td>3.23</td>\n",
       "      <td>5.345</td>\n",
       "      <td>17.42</td>\n",
       "      <td>0</td>\n",
       "      <td>0</td>\n",
       "      <td>3</td>\n",
       "      <td>4</td>\n",
       "    </tr>\n",
       "    <tr>\n",
       "      <th>Fiat 128</th>\n",
       "      <td>32.4</td>\n",
       "      <td>4</td>\n",
       "      <td>78.7</td>\n",
       "      <td>66</td>\n",
       "      <td>4.08</td>\n",
       "      <td>2.200</td>\n",
       "      <td>19.47</td>\n",
       "      <td>1</td>\n",
       "      <td>1</td>\n",
       "      <td>4</td>\n",
       "      <td>1</td>\n",
       "    </tr>\n",
       "    <tr>\n",
       "      <th>Honda Civic</th>\n",
       "      <td>30.4</td>\n",
       "      <td>4</td>\n",
       "      <td>75.7</td>\n",
       "      <td>52</td>\n",
       "      <td>4.93</td>\n",
       "      <td>1.615</td>\n",
       "      <td>18.52</td>\n",
       "      <td>1</td>\n",
       "      <td>1</td>\n",
       "      <td>4</td>\n",
       "      <td>2</td>\n",
       "    </tr>\n",
       "    <tr>\n",
       "      <th>Toyota Corolla</th>\n",
       "      <td>33.9</td>\n",
       "      <td>4</td>\n",
       "      <td>71.1</td>\n",
       "      <td>65</td>\n",
       "      <td>4.22</td>\n",
       "      <td>1.835</td>\n",
       "      <td>19.90</td>\n",
       "      <td>1</td>\n",
       "      <td>1</td>\n",
       "      <td>4</td>\n",
       "      <td>1</td>\n",
       "    </tr>\n",
       "    <tr>\n",
       "      <th>Toyota Corona</th>\n",
       "      <td>21.5</td>\n",
       "      <td>4</td>\n",
       "      <td>120.1</td>\n",
       "      <td>97</td>\n",
       "      <td>3.70</td>\n",
       "      <td>2.465</td>\n",
       "      <td>20.01</td>\n",
       "      <td>1</td>\n",
       "      <td>0</td>\n",
       "      <td>3</td>\n",
       "      <td>1</td>\n",
       "    </tr>\n",
       "    <tr>\n",
       "      <th>Dodge Challenger</th>\n",
       "      <td>15.5</td>\n",
       "      <td>8</td>\n",
       "      <td>318.0</td>\n",
       "      <td>150</td>\n",
       "      <td>2.76</td>\n",
       "      <td>3.520</td>\n",
       "      <td>16.87</td>\n",
       "      <td>0</td>\n",
       "      <td>0</td>\n",
       "      <td>3</td>\n",
       "      <td>2</td>\n",
       "    </tr>\n",
       "    <tr>\n",
       "      <th>AMC Javelin</th>\n",
       "      <td>15.2</td>\n",
       "      <td>8</td>\n",
       "      <td>304.0</td>\n",
       "      <td>150</td>\n",
       "      <td>3.15</td>\n",
       "      <td>3.435</td>\n",
       "      <td>17.30</td>\n",
       "      <td>0</td>\n",
       "      <td>0</td>\n",
       "      <td>3</td>\n",
       "      <td>2</td>\n",
       "    </tr>\n",
       "    <tr>\n",
       "      <th>Camaro Z28</th>\n",
       "      <td>13.3</td>\n",
       "      <td>8</td>\n",
       "      <td>350.0</td>\n",
       "      <td>245</td>\n",
       "      <td>3.73</td>\n",
       "      <td>3.840</td>\n",
       "      <td>15.41</td>\n",
       "      <td>0</td>\n",
       "      <td>0</td>\n",
       "      <td>3</td>\n",
       "      <td>4</td>\n",
       "    </tr>\n",
       "    <tr>\n",
       "      <th>Pontiac Firebird</th>\n",
       "      <td>19.2</td>\n",
       "      <td>8</td>\n",
       "      <td>400.0</td>\n",
       "      <td>175</td>\n",
       "      <td>3.08</td>\n",
       "      <td>3.845</td>\n",
       "      <td>17.05</td>\n",
       "      <td>0</td>\n",
       "      <td>0</td>\n",
       "      <td>3</td>\n",
       "      <td>2</td>\n",
       "    </tr>\n",
       "    <tr>\n",
       "      <th>Fiat X1-9</th>\n",
       "      <td>27.3</td>\n",
       "      <td>4</td>\n",
       "      <td>79.0</td>\n",
       "      <td>66</td>\n",
       "      <td>4.08</td>\n",
       "      <td>1.935</td>\n",
       "      <td>18.90</td>\n",
       "      <td>1</td>\n",
       "      <td>1</td>\n",
       "      <td>4</td>\n",
       "      <td>1</td>\n",
       "    </tr>\n",
       "    <tr>\n",
       "      <th>Porsche 914-2</th>\n",
       "      <td>26.0</td>\n",
       "      <td>4</td>\n",
       "      <td>120.3</td>\n",
       "      <td>91</td>\n",
       "      <td>4.43</td>\n",
       "      <td>2.140</td>\n",
       "      <td>16.70</td>\n",
       "      <td>0</td>\n",
       "      <td>1</td>\n",
       "      <td>5</td>\n",
       "      <td>2</td>\n",
       "    </tr>\n",
       "    <tr>\n",
       "      <th>Lotus Europa</th>\n",
       "      <td>30.4</td>\n",
       "      <td>4</td>\n",
       "      <td>95.1</td>\n",
       "      <td>113</td>\n",
       "      <td>3.77</td>\n",
       "      <td>1.513</td>\n",
       "      <td>16.90</td>\n",
       "      <td>1</td>\n",
       "      <td>1</td>\n",
       "      <td>5</td>\n",
       "      <td>2</td>\n",
       "    </tr>\n",
       "    <tr>\n",
       "      <th>Ford Pantera L</th>\n",
       "      <td>15.8</td>\n",
       "      <td>8</td>\n",
       "      <td>351.0</td>\n",
       "      <td>264</td>\n",
       "      <td>4.22</td>\n",
       "      <td>3.170</td>\n",
       "      <td>14.50</td>\n",
       "      <td>0</td>\n",
       "      <td>1</td>\n",
       "      <td>5</td>\n",
       "      <td>4</td>\n",
       "    </tr>\n",
       "    <tr>\n",
       "      <th>Ferrari Dino</th>\n",
       "      <td>19.7</td>\n",
       "      <td>6</td>\n",
       "      <td>145.0</td>\n",
       "      <td>175</td>\n",
       "      <td>3.62</td>\n",
       "      <td>2.770</td>\n",
       "      <td>15.50</td>\n",
       "      <td>0</td>\n",
       "      <td>1</td>\n",
       "      <td>5</td>\n",
       "      <td>6</td>\n",
       "    </tr>\n",
       "    <tr>\n",
       "      <th>Maserati Bora</th>\n",
       "      <td>15.0</td>\n",
       "      <td>8</td>\n",
       "      <td>301.0</td>\n",
       "      <td>335</td>\n",
       "      <td>3.54</td>\n",
       "      <td>3.570</td>\n",
       "      <td>14.60</td>\n",
       "      <td>0</td>\n",
       "      <td>1</td>\n",
       "      <td>5</td>\n",
       "      <td>8</td>\n",
       "    </tr>\n",
       "    <tr>\n",
       "      <th>Volvo 142E</th>\n",
       "      <td>21.4</td>\n",
       "      <td>4</td>\n",
       "      <td>121.0</td>\n",
       "      <td>109</td>\n",
       "      <td>4.11</td>\n",
       "      <td>2.780</td>\n",
       "      <td>18.60</td>\n",
       "      <td>1</td>\n",
       "      <td>1</td>\n",
       "      <td>4</td>\n",
       "      <td>2</td>\n",
       "    </tr>\n",
       "  </tbody>\n",
       "</table>\n",
       "</div>"
      ],
      "text/plain": [
       "                      mpg  cyl   disp   hp  drat     wt   qsec  vs  am  gear  \\\n",
       "Mazda RX4            21.0    6  160.0  110  3.90  2.620  16.46   0   1     4   \n",
       "Mazda RX4 Wag        21.0    6  160.0  110  3.90  2.875  17.02   0   1     4   \n",
       "Datsun 710           22.8    4  108.0   93  3.85  2.320  18.61   1   1     4   \n",
       "Hornet 4 Drive       21.4    6  258.0  110  3.08  3.215  19.44   1   0     3   \n",
       "Hornet Sportabout    18.7    8  360.0  175  3.15  3.440  17.02   0   0     3   \n",
       "Valiant              18.1    6  225.0  105  2.76  3.460  20.22   1   0     3   \n",
       "Duster 360           14.3    8  360.0  245  3.21  3.570  15.84   0   0     3   \n",
       "Merc 240D            24.4    4  146.7   62  3.69  3.190  20.00   1   0     4   \n",
       "Merc 230             22.8    4  140.8   95  3.92  3.150  22.90   1   0     4   \n",
       "Merc 280             19.2    6  167.6  123  3.92  3.440  18.30   1   0     4   \n",
       "Merc 280C            17.8    6  167.6  123  3.92  3.440  18.90   1   0     4   \n",
       "Merc 450SE           16.4    8  275.8  180  3.07  4.070  17.40   0   0     3   \n",
       "Merc 450SL           17.3    8  275.8  180  3.07  3.730  17.60   0   0     3   \n",
       "Merc 450SLC          15.2    8  275.8  180  3.07  3.780  18.00   0   0     3   \n",
       "Cadillac Fleetwood   10.4    8  472.0  205  2.93  5.250  17.98   0   0     3   \n",
       "Lincoln Continental  10.4    8  460.0  215  3.00  5.424  17.82   0   0     3   \n",
       "Chrysler Imperial    14.7    8  440.0  230  3.23  5.345  17.42   0   0     3   \n",
       "Fiat 128             32.4    4   78.7   66  4.08  2.200  19.47   1   1     4   \n",
       "Honda Civic          30.4    4   75.7   52  4.93  1.615  18.52   1   1     4   \n",
       "Toyota Corolla       33.9    4   71.1   65  4.22  1.835  19.90   1   1     4   \n",
       "Toyota Corona        21.5    4  120.1   97  3.70  2.465  20.01   1   0     3   \n",
       "Dodge Challenger     15.5    8  318.0  150  2.76  3.520  16.87   0   0     3   \n",
       "AMC Javelin          15.2    8  304.0  150  3.15  3.435  17.30   0   0     3   \n",
       "Camaro Z28           13.3    8  350.0  245  3.73  3.840  15.41   0   0     3   \n",
       "Pontiac Firebird     19.2    8  400.0  175  3.08  3.845  17.05   0   0     3   \n",
       "Fiat X1-9            27.3    4   79.0   66  4.08  1.935  18.90   1   1     4   \n",
       "Porsche 914-2        26.0    4  120.3   91  4.43  2.140  16.70   0   1     5   \n",
       "Lotus Europa         30.4    4   95.1  113  3.77  1.513  16.90   1   1     5   \n",
       "Ford Pantera L       15.8    8  351.0  264  4.22  3.170  14.50   0   1     5   \n",
       "Ferrari Dino         19.7    6  145.0  175  3.62  2.770  15.50   0   1     5   \n",
       "Maserati Bora        15.0    8  301.0  335  3.54  3.570  14.60   0   1     5   \n",
       "Volvo 142E           21.4    4  121.0  109  4.11  2.780  18.60   1   1     4   \n",
       "\n",
       "                     carb  \n",
       "Mazda RX4               4  \n",
       "Mazda RX4 Wag           4  \n",
       "Datsun 710              1  \n",
       "Hornet 4 Drive          1  \n",
       "Hornet Sportabout       2  \n",
       "Valiant                 1  \n",
       "Duster 360              4  \n",
       "Merc 240D               2  \n",
       "Merc 230                2  \n",
       "Merc 280                4  \n",
       "Merc 280C               4  \n",
       "Merc 450SE              3  \n",
       "Merc 450SL              3  \n",
       "Merc 450SLC             3  \n",
       "Cadillac Fleetwood      4  \n",
       "Lincoln Continental     4  \n",
       "Chrysler Imperial       4  \n",
       "Fiat 128                1  \n",
       "Honda Civic             2  \n",
       "Toyota Corolla          1  \n",
       "Toyota Corona           1  \n",
       "Dodge Challenger        2  \n",
       "AMC Javelin             2  \n",
       "Camaro Z28              4  \n",
       "Pontiac Firebird        2  \n",
       "Fiat X1-9               1  \n",
       "Porsche 914-2           2  \n",
       "Lotus Europa            2  \n",
       "Ford Pantera L          4  \n",
       "Ferrari Dino            6  \n",
       "Maserati Bora           8  \n",
       "Volvo 142E              2  "
      ]
     },
     "execution_count": 34,
     "metadata": {},
     "output_type": "execute_result"
    }
   ],
   "source": [
    "cars1 = pd.read_csv('cars.csv', index_col = 0)\n",
    "cars1"
   ]
  },
  {
   "cell_type": "code",
   "execution_count": null,
   "metadata": {},
   "outputs": [
    {
     "data": {
      "text/html": [
       "<div>\n",
       "<style scoped>\n",
       "    .dataframe tbody tr th:only-of-type {\n",
       "        vertical-align: middle;\n",
       "    }\n",
       "\n",
       "    .dataframe tbody tr th {\n",
       "        vertical-align: top;\n",
       "    }\n",
       "\n",
       "    .dataframe thead th {\n",
       "        text-align: right;\n",
       "    }\n",
       "</style>\n",
       "<table border=\"1\" class=\"dataframe\">\n",
       "  <thead>\n",
       "    <tr style=\"text-align: right;\">\n",
       "      <th></th>\n",
       "      <th>Unnamed: 0</th>\n",
       "      <th>mpg</th>\n",
       "      <th>cyl</th>\n",
       "      <th>disp</th>\n",
       "      <th>hp</th>\n",
       "      <th>drat</th>\n",
       "      <th>wt</th>\n",
       "      <th>qsec</th>\n",
       "      <th>vs</th>\n",
       "      <th>am</th>\n",
       "      <th>gear</th>\n",
       "      <th>carb</th>\n",
       "    </tr>\n",
       "  </thead>\n",
       "  <tbody>\n",
       "    <tr>\n",
       "      <th>0</th>\n",
       "      <td>Mazda RX4</td>\n",
       "      <td>21.0</td>\n",
       "      <td>6</td>\n",
       "      <td>160.0</td>\n",
       "      <td>110</td>\n",
       "      <td>3.90</td>\n",
       "      <td>2.620</td>\n",
       "      <td>16.46</td>\n",
       "      <td>0</td>\n",
       "      <td>1</td>\n",
       "      <td>4</td>\n",
       "      <td>4</td>\n",
       "    </tr>\n",
       "    <tr>\n",
       "      <th>1</th>\n",
       "      <td>Mazda RX4 Wag</td>\n",
       "      <td>21.0</td>\n",
       "      <td>6</td>\n",
       "      <td>160.0</td>\n",
       "      <td>110</td>\n",
       "      <td>3.90</td>\n",
       "      <td>2.875</td>\n",
       "      <td>17.02</td>\n",
       "      <td>0</td>\n",
       "      <td>1</td>\n",
       "      <td>4</td>\n",
       "      <td>4</td>\n",
       "    </tr>\n",
       "    <tr>\n",
       "      <th>2</th>\n",
       "      <td>Datsun 710</td>\n",
       "      <td>22.8</td>\n",
       "      <td>4</td>\n",
       "      <td>108.0</td>\n",
       "      <td>93</td>\n",
       "      <td>3.85</td>\n",
       "      <td>2.320</td>\n",
       "      <td>18.61</td>\n",
       "      <td>1</td>\n",
       "      <td>1</td>\n",
       "      <td>4</td>\n",
       "      <td>1</td>\n",
       "    </tr>\n",
       "    <tr>\n",
       "      <th>3</th>\n",
       "      <td>Hornet 4 Drive</td>\n",
       "      <td>21.4</td>\n",
       "      <td>6</td>\n",
       "      <td>258.0</td>\n",
       "      <td>110</td>\n",
       "      <td>3.08</td>\n",
       "      <td>3.215</td>\n",
       "      <td>19.44</td>\n",
       "      <td>1</td>\n",
       "      <td>0</td>\n",
       "      <td>3</td>\n",
       "      <td>1</td>\n",
       "    </tr>\n",
       "  </tbody>\n",
       "</table>\n",
       "</div>"
      ],
      "text/plain": [
       "       Unnamed: 0   mpg  cyl   disp   hp  drat     wt   qsec  vs  am  gear  \\\n",
       "0       Mazda RX4  21.0    6  160.0  110  3.90  2.620  16.46   0   1     4   \n",
       "1   Mazda RX4 Wag  21.0    6  160.0  110  3.90  2.875  17.02   0   1     4   \n",
       "2      Datsun 710  22.8    4  108.0   93  3.85  2.320  18.61   1   1     4   \n",
       "3  Hornet 4 Drive  21.4    6  258.0  110  3.08  3.215  19.44   1   0     3   \n",
       "\n",
       "   carb  \n",
       "0     4  \n",
       "1     4  \n",
       "2     1  \n",
       "3     1  "
      ]
     },
     "execution_count": 35,
     "metadata": {},
     "output_type": "execute_result"
    }
   ],
   "source": [
    "cars[0:4]"
   ]
  },
  {
   "cell_type": "code",
   "execution_count": null,
   "metadata": {},
   "outputs": [
    {
     "data": {
      "text/html": [
       "<div>\n",
       "<style scoped>\n",
       "    .dataframe tbody tr th:only-of-type {\n",
       "        vertical-align: middle;\n",
       "    }\n",
       "\n",
       "    .dataframe tbody tr th {\n",
       "        vertical-align: top;\n",
       "    }\n",
       "\n",
       "    .dataframe thead th {\n",
       "        text-align: right;\n",
       "    }\n",
       "</style>\n",
       "<table border=\"1\" class=\"dataframe\">\n",
       "  <thead>\n",
       "    <tr style=\"text-align: right;\">\n",
       "      <th></th>\n",
       "      <th>mpg</th>\n",
       "      <th>cyl</th>\n",
       "      <th>disp</th>\n",
       "      <th>hp</th>\n",
       "      <th>drat</th>\n",
       "      <th>wt</th>\n",
       "      <th>qsec</th>\n",
       "      <th>vs</th>\n",
       "      <th>am</th>\n",
       "      <th>gear</th>\n",
       "      <th>carb</th>\n",
       "    </tr>\n",
       "  </thead>\n",
       "  <tbody>\n",
       "    <tr>\n",
       "      <th>Mazda RX4</th>\n",
       "      <td>21.0</td>\n",
       "      <td>6</td>\n",
       "      <td>160.0</td>\n",
       "      <td>110</td>\n",
       "      <td>3.90</td>\n",
       "      <td>2.620</td>\n",
       "      <td>16.46</td>\n",
       "      <td>0</td>\n",
       "      <td>1</td>\n",
       "      <td>4</td>\n",
       "      <td>4</td>\n",
       "    </tr>\n",
       "    <tr>\n",
       "      <th>Mazda RX4 Wag</th>\n",
       "      <td>21.0</td>\n",
       "      <td>6</td>\n",
       "      <td>160.0</td>\n",
       "      <td>110</td>\n",
       "      <td>3.90</td>\n",
       "      <td>2.875</td>\n",
       "      <td>17.02</td>\n",
       "      <td>0</td>\n",
       "      <td>1</td>\n",
       "      <td>4</td>\n",
       "      <td>4</td>\n",
       "    </tr>\n",
       "    <tr>\n",
       "      <th>Datsun 710</th>\n",
       "      <td>22.8</td>\n",
       "      <td>4</td>\n",
       "      <td>108.0</td>\n",
       "      <td>93</td>\n",
       "      <td>3.85</td>\n",
       "      <td>2.320</td>\n",
       "      <td>18.61</td>\n",
       "      <td>1</td>\n",
       "      <td>1</td>\n",
       "      <td>4</td>\n",
       "      <td>1</td>\n",
       "    </tr>\n",
       "    <tr>\n",
       "      <th>Hornet 4 Drive</th>\n",
       "      <td>21.4</td>\n",
       "      <td>6</td>\n",
       "      <td>258.0</td>\n",
       "      <td>110</td>\n",
       "      <td>3.08</td>\n",
       "      <td>3.215</td>\n",
       "      <td>19.44</td>\n",
       "      <td>1</td>\n",
       "      <td>0</td>\n",
       "      <td>3</td>\n",
       "      <td>1</td>\n",
       "    </tr>\n",
       "  </tbody>\n",
       "</table>\n",
       "</div>"
      ],
      "text/plain": [
       "                 mpg  cyl   disp   hp  drat     wt   qsec  vs  am  gear  carb\n",
       "Mazda RX4       21.0    6  160.0  110  3.90  2.620  16.46   0   1     4     4\n",
       "Mazda RX4 Wag   21.0    6  160.0  110  3.90  2.875  17.02   0   1     4     4\n",
       "Datsun 710      22.8    4  108.0   93  3.85  2.320  18.61   1   1     4     1\n",
       "Hornet 4 Drive  21.4    6  258.0  110  3.08  3.215  19.44   1   0     3     1"
      ]
     },
     "execution_count": 36,
     "metadata": {},
     "output_type": "execute_result"
    }
   ],
   "source": [
    "cars1[0:4]"
   ]
  },
  {
   "cell_type": "code",
   "execution_count": null,
   "metadata": {},
   "outputs": [
    {
     "data": {
      "text/html": [
       "<div>\n",
       "<style scoped>\n",
       "    .dataframe tbody tr th:only-of-type {\n",
       "        vertical-align: middle;\n",
       "    }\n",
       "\n",
       "    .dataframe tbody tr th {\n",
       "        vertical-align: top;\n",
       "    }\n",
       "\n",
       "    .dataframe thead th {\n",
       "        text-align: right;\n",
       "    }\n",
       "</style>\n",
       "<table border=\"1\" class=\"dataframe\">\n",
       "  <thead>\n",
       "    <tr style=\"text-align: right;\">\n",
       "      <th></th>\n",
       "      <th>Unnamed: 0</th>\n",
       "      <th>mpg</th>\n",
       "      <th>cyl</th>\n",
       "      <th>disp</th>\n",
       "      <th>hp</th>\n",
       "      <th>drat</th>\n",
       "      <th>wt</th>\n",
       "      <th>qsec</th>\n",
       "      <th>vs</th>\n",
       "      <th>am</th>\n",
       "      <th>gear</th>\n",
       "      <th>carb</th>\n",
       "    </tr>\n",
       "  </thead>\n",
       "  <tbody>\n",
       "    <tr>\n",
       "      <th>4</th>\n",
       "      <td>Hornet Sportabout</td>\n",
       "      <td>18.7</td>\n",
       "      <td>8</td>\n",
       "      <td>360.0</td>\n",
       "      <td>175</td>\n",
       "      <td>3.15</td>\n",
       "      <td>3.44</td>\n",
       "      <td>17.02</td>\n",
       "      <td>0</td>\n",
       "      <td>0</td>\n",
       "      <td>3</td>\n",
       "      <td>2</td>\n",
       "    </tr>\n",
       "    <tr>\n",
       "      <th>5</th>\n",
       "      <td>Valiant</td>\n",
       "      <td>18.1</td>\n",
       "      <td>6</td>\n",
       "      <td>225.0</td>\n",
       "      <td>105</td>\n",
       "      <td>2.76</td>\n",
       "      <td>3.46</td>\n",
       "      <td>20.22</td>\n",
       "      <td>1</td>\n",
       "      <td>0</td>\n",
       "      <td>3</td>\n",
       "      <td>1</td>\n",
       "    </tr>\n",
       "  </tbody>\n",
       "</table>\n",
       "</div>"
      ],
      "text/plain": [
       "          Unnamed: 0   mpg  cyl   disp   hp  drat    wt   qsec  vs  am  gear  \\\n",
       "4  Hornet Sportabout  18.7    8  360.0  175  3.15  3.44  17.02   0   0     3   \n",
       "5            Valiant  18.1    6  225.0  105  2.76  3.46  20.22   1   0     3   \n",
       "\n",
       "   carb  \n",
       "4     2  \n",
       "5     1  "
      ]
     },
     "execution_count": 37,
     "metadata": {},
     "output_type": "execute_result"
    }
   ],
   "source": [
    "cars[4:6]"
   ]
  },
  {
   "cell_type": "code",
   "execution_count": null,
   "metadata": {},
   "outputs": [
    {
     "data": {
      "text/html": [
       "<div>\n",
       "<style scoped>\n",
       "    .dataframe tbody tr th:only-of-type {\n",
       "        vertical-align: middle;\n",
       "    }\n",
       "\n",
       "    .dataframe tbody tr th {\n",
       "        vertical-align: top;\n",
       "    }\n",
       "\n",
       "    .dataframe thead th {\n",
       "        text-align: right;\n",
       "    }\n",
       "</style>\n",
       "<table border=\"1\" class=\"dataframe\">\n",
       "  <thead>\n",
       "    <tr style=\"text-align: right;\">\n",
       "      <th></th>\n",
       "      <th>mpg</th>\n",
       "      <th>cyl</th>\n",
       "      <th>disp</th>\n",
       "      <th>hp</th>\n",
       "      <th>drat</th>\n",
       "      <th>wt</th>\n",
       "      <th>qsec</th>\n",
       "      <th>vs</th>\n",
       "      <th>am</th>\n",
       "      <th>gear</th>\n",
       "      <th>carb</th>\n",
       "    </tr>\n",
       "  </thead>\n",
       "  <tbody>\n",
       "    <tr>\n",
       "      <th>Hornet Sportabout</th>\n",
       "      <td>18.7</td>\n",
       "      <td>8</td>\n",
       "      <td>360.0</td>\n",
       "      <td>175</td>\n",
       "      <td>3.15</td>\n",
       "      <td>3.44</td>\n",
       "      <td>17.02</td>\n",
       "      <td>0</td>\n",
       "      <td>0</td>\n",
       "      <td>3</td>\n",
       "      <td>2</td>\n",
       "    </tr>\n",
       "    <tr>\n",
       "      <th>Valiant</th>\n",
       "      <td>18.1</td>\n",
       "      <td>6</td>\n",
       "      <td>225.0</td>\n",
       "      <td>105</td>\n",
       "      <td>2.76</td>\n",
       "      <td>3.46</td>\n",
       "      <td>20.22</td>\n",
       "      <td>1</td>\n",
       "      <td>0</td>\n",
       "      <td>3</td>\n",
       "      <td>1</td>\n",
       "    </tr>\n",
       "  </tbody>\n",
       "</table>\n",
       "</div>"
      ],
      "text/plain": [
       "                    mpg  cyl   disp   hp  drat    wt   qsec  vs  am  gear  \\\n",
       "Hornet Sportabout  18.7    8  360.0  175  3.15  3.44  17.02   0   0     3   \n",
       "Valiant            18.1    6  225.0  105  2.76  3.46  20.22   1   0     3   \n",
       "\n",
       "                   carb  \n",
       "Hornet Sportabout     2  \n",
       "Valiant               1  "
      ]
     },
     "execution_count": 38,
     "metadata": {},
     "output_type": "execute_result"
    }
   ],
   "source": [
    "cars1[4:6]"
   ]
  },
  {
   "cell_type": "code",
   "execution_count": null,
   "metadata": {},
   "outputs": [
    {
     "data": {
      "text/plain": [
       "mpg      22.80\n",
       "cyl       4.00\n",
       "disp    108.00\n",
       "hp       93.00\n",
       "drat      3.85\n",
       "wt        2.32\n",
       "qsec     18.61\n",
       "vs        1.00\n",
       "am        1.00\n",
       "gear      4.00\n",
       "carb      1.00\n",
       "Name: Datsun 710, dtype: float64"
      ]
     },
     "execution_count": 39,
     "metadata": {},
     "output_type": "execute_result"
    }
   ],
   "source": [
    "cars1.iloc[2]"
   ]
  },
  {
   "cell_type": "code",
   "execution_count": null,
   "metadata": {},
   "outputs": [
    {
     "data": {
      "text/html": [
       "<div>\n",
       "<style scoped>\n",
       "    .dataframe tbody tr th:only-of-type {\n",
       "        vertical-align: middle;\n",
       "    }\n",
       "\n",
       "    .dataframe tbody tr th {\n",
       "        vertical-align: top;\n",
       "    }\n",
       "\n",
       "    .dataframe thead th {\n",
       "        text-align: right;\n",
       "    }\n",
       "</style>\n",
       "<table border=\"1\" class=\"dataframe\">\n",
       "  <thead>\n",
       "    <tr style=\"text-align: right;\">\n",
       "      <th></th>\n",
       "      <th>mpg</th>\n",
       "      <th>cyl</th>\n",
       "      <th>disp</th>\n",
       "      <th>hp</th>\n",
       "      <th>drat</th>\n",
       "      <th>wt</th>\n",
       "      <th>qsec</th>\n",
       "      <th>vs</th>\n",
       "      <th>am</th>\n",
       "      <th>gear</th>\n",
       "      <th>carb</th>\n",
       "    </tr>\n",
       "  </thead>\n",
       "  <tbody>\n",
       "    <tr>\n",
       "      <th>Ferrari Dino</th>\n",
       "      <td>19.7</td>\n",
       "      <td>6</td>\n",
       "      <td>145.0</td>\n",
       "      <td>175</td>\n",
       "      <td>3.62</td>\n",
       "      <td>2.77</td>\n",
       "      <td>15.5</td>\n",
       "      <td>0</td>\n",
       "      <td>1</td>\n",
       "      <td>5</td>\n",
       "      <td>6</td>\n",
       "    </tr>\n",
       "    <tr>\n",
       "      <th>Merc 230</th>\n",
       "      <td>22.8</td>\n",
       "      <td>4</td>\n",
       "      <td>140.8</td>\n",
       "      <td>95</td>\n",
       "      <td>3.92</td>\n",
       "      <td>3.15</td>\n",
       "      <td>22.9</td>\n",
       "      <td>1</td>\n",
       "      <td>0</td>\n",
       "      <td>4</td>\n",
       "      <td>2</td>\n",
       "    </tr>\n",
       "  </tbody>\n",
       "</table>\n",
       "</div>"
      ],
      "text/plain": [
       "               mpg  cyl   disp   hp  drat    wt  qsec  vs  am  gear  carb\n",
       "Ferrari Dino  19.7    6  145.0  175  3.62  2.77  15.5   0   1     5     6\n",
       "Merc 230      22.8    4  140.8   95  3.92  3.15  22.9   1   0     4     2"
      ]
     },
     "execution_count": 40,
     "metadata": {},
     "output_type": "execute_result"
    }
   ],
   "source": [
    "cars1.loc[['Ferrari Dino', 'Merc 230']]"
   ]
  },
  {
   "cell_type": "code",
   "execution_count": null,
   "metadata": {},
   "outputs": [
    {
     "data": {
      "text/html": [
       "<div>\n",
       "<style scoped>\n",
       "    .dataframe tbody tr th:only-of-type {\n",
       "        vertical-align: middle;\n",
       "    }\n",
       "\n",
       "    .dataframe tbody tr th {\n",
       "        vertical-align: top;\n",
       "    }\n",
       "\n",
       "    .dataframe thead th {\n",
       "        text-align: right;\n",
       "    }\n",
       "</style>\n",
       "<table border=\"1\" class=\"dataframe\">\n",
       "  <thead>\n",
       "    <tr style=\"text-align: right;\">\n",
       "      <th></th>\n",
       "      <th>mpg</th>\n",
       "      <th>cyl</th>\n",
       "      <th>wt</th>\n",
       "    </tr>\n",
       "  </thead>\n",
       "  <tbody>\n",
       "    <tr>\n",
       "      <th>0</th>\n",
       "      <td>21.0</td>\n",
       "      <td>6</td>\n",
       "      <td>2.620</td>\n",
       "    </tr>\n",
       "    <tr>\n",
       "      <th>1</th>\n",
       "      <td>21.0</td>\n",
       "      <td>6</td>\n",
       "      <td>2.875</td>\n",
       "    </tr>\n",
       "    <tr>\n",
       "      <th>2</th>\n",
       "      <td>22.8</td>\n",
       "      <td>4</td>\n",
       "      <td>2.320</td>\n",
       "    </tr>\n",
       "    <tr>\n",
       "      <th>3</th>\n",
       "      <td>21.4</td>\n",
       "      <td>6</td>\n",
       "      <td>3.215</td>\n",
       "    </tr>\n",
       "    <tr>\n",
       "      <th>4</th>\n",
       "      <td>18.7</td>\n",
       "      <td>8</td>\n",
       "      <td>3.440</td>\n",
       "    </tr>\n",
       "  </tbody>\n",
       "</table>\n",
       "</div>"
      ],
      "text/plain": [
       "    mpg  cyl     wt\n",
       "0  21.0    6  2.620\n",
       "1  21.0    6  2.875\n",
       "2  22.8    4  2.320\n",
       "3  21.4    6  3.215\n",
       "4  18.7    8  3.440"
      ]
     },
     "execution_count": 41,
     "metadata": {},
     "output_type": "execute_result"
    }
   ],
   "source": [
    "cars[['mpg','cyl','wt']].head()"
   ]
  },
  {
   "cell_type": "code",
   "execution_count": null,
   "metadata": {},
   "outputs": [
    {
     "data": {
      "text/html": [
       "<div>\n",
       "<style scoped>\n",
       "    .dataframe tbody tr th:only-of-type {\n",
       "        vertical-align: middle;\n",
       "    }\n",
       "\n",
       "    .dataframe tbody tr th {\n",
       "        vertical-align: top;\n",
       "    }\n",
       "\n",
       "    .dataframe thead th {\n",
       "        text-align: right;\n",
       "    }\n",
       "</style>\n",
       "<table border=\"1\" class=\"dataframe\">\n",
       "  <thead>\n",
       "    <tr style=\"text-align: right;\">\n",
       "      <th></th>\n",
       "      <th>mpg</th>\n",
       "      <th>cyl</th>\n",
       "      <th>wt</th>\n",
       "    </tr>\n",
       "  </thead>\n",
       "  <tbody>\n",
       "    <tr>\n",
       "      <th>Mazda RX4</th>\n",
       "      <td>21.0</td>\n",
       "      <td>6</td>\n",
       "      <td>2.620</td>\n",
       "    </tr>\n",
       "    <tr>\n",
       "      <th>Mazda RX4 Wag</th>\n",
       "      <td>21.0</td>\n",
       "      <td>6</td>\n",
       "      <td>2.875</td>\n",
       "    </tr>\n",
       "    <tr>\n",
       "      <th>Datsun 710</th>\n",
       "      <td>22.8</td>\n",
       "      <td>4</td>\n",
       "      <td>2.320</td>\n",
       "    </tr>\n",
       "    <tr>\n",
       "      <th>Hornet 4 Drive</th>\n",
       "      <td>21.4</td>\n",
       "      <td>6</td>\n",
       "      <td>3.215</td>\n",
       "    </tr>\n",
       "    <tr>\n",
       "      <th>Hornet Sportabout</th>\n",
       "      <td>18.7</td>\n",
       "      <td>8</td>\n",
       "      <td>3.440</td>\n",
       "    </tr>\n",
       "  </tbody>\n",
       "</table>\n",
       "</div>"
      ],
      "text/plain": [
       "                    mpg  cyl     wt\n",
       "Mazda RX4          21.0    6  2.620\n",
       "Mazda RX4 Wag      21.0    6  2.875\n",
       "Datsun 710         22.8    4  2.320\n",
       "Hornet 4 Drive     21.4    6  3.215\n",
       "Hornet Sportabout  18.7    8  3.440"
      ]
     },
     "execution_count": 42,
     "metadata": {},
     "output_type": "execute_result"
    }
   ],
   "source": [
    "cars1[['mpg','cyl','wt']].head()"
   ]
  },
  {
   "cell_type": "code",
   "execution_count": null,
   "metadata": {},
   "outputs": [
    {
     "data": {
      "text/html": [
       "<div>\n",
       "<style scoped>\n",
       "    .dataframe tbody tr th:only-of-type {\n",
       "        vertical-align: middle;\n",
       "    }\n",
       "\n",
       "    .dataframe tbody tr th {\n",
       "        vertical-align: top;\n",
       "    }\n",
       "\n",
       "    .dataframe thead th {\n",
       "        text-align: right;\n",
       "    }\n",
       "</style>\n",
       "<table border=\"1\" class=\"dataframe\">\n",
       "  <thead>\n",
       "    <tr style=\"text-align: right;\">\n",
       "      <th></th>\n",
       "      <th>drat</th>\n",
       "      <th>wt</th>\n",
       "      <th>qsec</th>\n",
       "    </tr>\n",
       "  </thead>\n",
       "  <tbody>\n",
       "    <tr>\n",
       "      <th>Duster 360</th>\n",
       "      <td>3.21</td>\n",
       "      <td>3.570</td>\n",
       "      <td>15.84</td>\n",
       "    </tr>\n",
       "    <tr>\n",
       "      <th>Pontiac Firebird</th>\n",
       "      <td>3.08</td>\n",
       "      <td>3.845</td>\n",
       "      <td>17.05</td>\n",
       "    </tr>\n",
       "    <tr>\n",
       "      <th>Lotus Europa</th>\n",
       "      <td>3.77</td>\n",
       "      <td>1.513</td>\n",
       "      <td>16.90</td>\n",
       "    </tr>\n",
       "  </tbody>\n",
       "</table>\n",
       "</div>"
      ],
      "text/plain": [
       "                  drat     wt   qsec\n",
       "Duster 360        3.21  3.570  15.84\n",
       "Pontiac Firebird  3.08  3.845  17.05\n",
       "Lotus Europa      3.77  1.513  16.90"
      ]
     },
     "execution_count": 43,
     "metadata": {},
     "output_type": "execute_result"
    }
   ],
   "source": [
    "cars1[['drat','wt','qsec']].sample(3)"
   ]
  },
  {
   "cell_type": "code",
   "execution_count": null,
   "metadata": {},
   "outputs": [
    {
     "data": {
      "text/html": [
       "<div>\n",
       "<style scoped>\n",
       "    .dataframe tbody tr th:only-of-type {\n",
       "        vertical-align: middle;\n",
       "    }\n",
       "\n",
       "    .dataframe tbody tr th {\n",
       "        vertical-align: top;\n",
       "    }\n",
       "\n",
       "    .dataframe thead th {\n",
       "        text-align: right;\n",
       "    }\n",
       "</style>\n",
       "<table border=\"1\" class=\"dataframe\">\n",
       "  <thead>\n",
       "    <tr style=\"text-align: right;\">\n",
       "      <th></th>\n",
       "      <th>disp</th>\n",
       "      <th>hp</th>\n",
       "      <th>drat</th>\n",
       "    </tr>\n",
       "  </thead>\n",
       "  <tbody>\n",
       "    <tr>\n",
       "      <th>Ferrari Dino</th>\n",
       "      <td>145.0</td>\n",
       "      <td>175</td>\n",
       "      <td>3.62</td>\n",
       "    </tr>\n",
       "    <tr>\n",
       "      <th>Maserati Bora</th>\n",
       "      <td>301.0</td>\n",
       "      <td>335</td>\n",
       "      <td>3.54</td>\n",
       "    </tr>\n",
       "    <tr>\n",
       "      <th>Volvo 142E</th>\n",
       "      <td>121.0</td>\n",
       "      <td>109</td>\n",
       "      <td>4.11</td>\n",
       "    </tr>\n",
       "  </tbody>\n",
       "</table>\n",
       "</div>"
      ],
      "text/plain": [
       "                disp   hp  drat\n",
       "Ferrari Dino   145.0  175  3.62\n",
       "Maserati Bora  301.0  335  3.54\n",
       "Volvo 142E     121.0  109  4.11"
      ]
     },
     "execution_count": 44,
     "metadata": {},
     "output_type": "execute_result"
    }
   ],
   "source": [
    "cars1[['disp','hp','drat']].tail(3)"
   ]
  },
  {
   "attachments": {},
   "cell_type": "markdown",
   "metadata": {},
   "source": [
    "**Query the columns of a frame with a boolean expression.**\n",
    "\n",
    "https://pandas.pydata.org/pandas-docs/stable/generated/pandas.DataFrame.query.html"
   ]
  },
  {
   "cell_type": "code",
   "execution_count": null,
   "metadata": {},
   "outputs": [
    {
     "data": {
      "text/html": [
       "<div>\n",
       "<style scoped>\n",
       "    .dataframe tbody tr th:only-of-type {\n",
       "        vertical-align: middle;\n",
       "    }\n",
       "\n",
       "    .dataframe tbody tr th {\n",
       "        vertical-align: top;\n",
       "    }\n",
       "\n",
       "    .dataframe thead th {\n",
       "        text-align: right;\n",
       "    }\n",
       "</style>\n",
       "<table border=\"1\" class=\"dataframe\">\n",
       "  <thead>\n",
       "    <tr style=\"text-align: right;\">\n",
       "      <th></th>\n",
       "      <th>mpg</th>\n",
       "      <th>cyl</th>\n",
       "      <th>disp</th>\n",
       "      <th>hp</th>\n",
       "      <th>drat</th>\n",
       "      <th>wt</th>\n",
       "      <th>qsec</th>\n",
       "      <th>vs</th>\n",
       "      <th>am</th>\n",
       "      <th>gear</th>\n",
       "      <th>carb</th>\n",
       "    </tr>\n",
       "  </thead>\n",
       "  <tbody>\n",
       "    <tr>\n",
       "      <th>Mazda RX4</th>\n",
       "      <td>21.0</td>\n",
       "      <td>6</td>\n",
       "      <td>160.0</td>\n",
       "      <td>110</td>\n",
       "      <td>3.90</td>\n",
       "      <td>2.620</td>\n",
       "      <td>16.46</td>\n",
       "      <td>0</td>\n",
       "      <td>1</td>\n",
       "      <td>4</td>\n",
       "      <td>4</td>\n",
       "    </tr>\n",
       "    <tr>\n",
       "      <th>Mazda RX4 Wag</th>\n",
       "      <td>21.0</td>\n",
       "      <td>6</td>\n",
       "      <td>160.0</td>\n",
       "      <td>110</td>\n",
       "      <td>3.90</td>\n",
       "      <td>2.875</td>\n",
       "      <td>17.02</td>\n",
       "      <td>0</td>\n",
       "      <td>1</td>\n",
       "      <td>4</td>\n",
       "      <td>4</td>\n",
       "    </tr>\n",
       "    <tr>\n",
       "      <th>Hornet 4 Drive</th>\n",
       "      <td>21.4</td>\n",
       "      <td>6</td>\n",
       "      <td>258.0</td>\n",
       "      <td>110</td>\n",
       "      <td>3.08</td>\n",
       "      <td>3.215</td>\n",
       "      <td>19.44</td>\n",
       "      <td>1</td>\n",
       "      <td>0</td>\n",
       "      <td>3</td>\n",
       "      <td>1</td>\n",
       "    </tr>\n",
       "    <tr>\n",
       "      <th>Merc 450SE</th>\n",
       "      <td>16.4</td>\n",
       "      <td>8</td>\n",
       "      <td>275.8</td>\n",
       "      <td>180</td>\n",
       "      <td>3.07</td>\n",
       "      <td>4.070</td>\n",
       "      <td>17.40</td>\n",
       "      <td>0</td>\n",
       "      <td>0</td>\n",
       "      <td>3</td>\n",
       "      <td>3</td>\n",
       "    </tr>\n",
       "    <tr>\n",
       "      <th>Merc 450SL</th>\n",
       "      <td>17.3</td>\n",
       "      <td>8</td>\n",
       "      <td>275.8</td>\n",
       "      <td>180</td>\n",
       "      <td>3.07</td>\n",
       "      <td>3.730</td>\n",
       "      <td>17.60</td>\n",
       "      <td>0</td>\n",
       "      <td>0</td>\n",
       "      <td>3</td>\n",
       "      <td>3</td>\n",
       "    </tr>\n",
       "    <tr>\n",
       "      <th>Merc 450SLC</th>\n",
       "      <td>15.2</td>\n",
       "      <td>8</td>\n",
       "      <td>275.8</td>\n",
       "      <td>180</td>\n",
       "      <td>3.07</td>\n",
       "      <td>3.780</td>\n",
       "      <td>18.00</td>\n",
       "      <td>0</td>\n",
       "      <td>0</td>\n",
       "      <td>3</td>\n",
       "      <td>3</td>\n",
       "    </tr>\n",
       "  </tbody>\n",
       "</table>\n",
       "</div>"
      ],
      "text/plain": [
       "                 mpg  cyl   disp   hp  drat     wt   qsec  vs  am  gear  carb\n",
       "Mazda RX4       21.0    6  160.0  110  3.90  2.620  16.46   0   1     4     4\n",
       "Mazda RX4 Wag   21.0    6  160.0  110  3.90  2.875  17.02   0   1     4     4\n",
       "Hornet 4 Drive  21.4    6  258.0  110  3.08  3.215  19.44   1   0     3     1\n",
       "Merc 450SE      16.4    8  275.8  180  3.07  4.070  17.40   0   0     3     3\n",
       "Merc 450SL      17.3    8  275.8  180  3.07  3.730  17.60   0   0     3     3\n",
       "Merc 450SLC     15.2    8  275.8  180  3.07  3.780  18.00   0   0     3     3"
      ]
     },
     "execution_count": 45,
     "metadata": {},
     "output_type": "execute_result"
    }
   ],
   "source": [
    "cars1.query('cyl >= 6 and (hp == 110 or hp == 180 )')"
   ]
  },
  {
   "cell_type": "code",
   "execution_count": null,
   "metadata": {},
   "outputs": [
    {
     "data": {
      "text/html": [
       "<div>\n",
       "<style scoped>\n",
       "    .dataframe tbody tr th:only-of-type {\n",
       "        vertical-align: middle;\n",
       "    }\n",
       "\n",
       "    .dataframe tbody tr th {\n",
       "        vertical-align: top;\n",
       "    }\n",
       "\n",
       "    .dataframe thead th {\n",
       "        text-align: right;\n",
       "    }\n",
       "</style>\n",
       "<table border=\"1\" class=\"dataframe\">\n",
       "  <thead>\n",
       "    <tr style=\"text-align: right;\">\n",
       "      <th></th>\n",
       "      <th>mpg</th>\n",
       "      <th>cyl</th>\n",
       "      <th>disp</th>\n",
       "      <th>hp</th>\n",
       "      <th>drat</th>\n",
       "      <th>wt</th>\n",
       "      <th>qsec</th>\n",
       "      <th>vs</th>\n",
       "      <th>am</th>\n",
       "      <th>gear</th>\n",
       "      <th>carb</th>\n",
       "    </tr>\n",
       "  </thead>\n",
       "  <tbody>\n",
       "    <tr>\n",
       "      <th>Mazda RX4</th>\n",
       "      <td>21.0</td>\n",
       "      <td>6</td>\n",
       "      <td>160.0</td>\n",
       "      <td>110</td>\n",
       "      <td>3.90</td>\n",
       "      <td>2.620</td>\n",
       "      <td>16.46</td>\n",
       "      <td>0</td>\n",
       "      <td>1</td>\n",
       "      <td>4</td>\n",
       "      <td>4</td>\n",
       "    </tr>\n",
       "    <tr>\n",
       "      <th>Mazda RX4 Wag</th>\n",
       "      <td>21.0</td>\n",
       "      <td>6</td>\n",
       "      <td>160.0</td>\n",
       "      <td>110</td>\n",
       "      <td>3.90</td>\n",
       "      <td>2.875</td>\n",
       "      <td>17.02</td>\n",
       "      <td>0</td>\n",
       "      <td>1</td>\n",
       "      <td>4</td>\n",
       "      <td>4</td>\n",
       "    </tr>\n",
       "    <tr>\n",
       "      <th>Hornet 4 Drive</th>\n",
       "      <td>21.4</td>\n",
       "      <td>6</td>\n",
       "      <td>258.0</td>\n",
       "      <td>110</td>\n",
       "      <td>3.08</td>\n",
       "      <td>3.215</td>\n",
       "      <td>19.44</td>\n",
       "      <td>1</td>\n",
       "      <td>0</td>\n",
       "      <td>3</td>\n",
       "      <td>1</td>\n",
       "    </tr>\n",
       "    <tr>\n",
       "      <th>Merc 450SE</th>\n",
       "      <td>16.4</td>\n",
       "      <td>8</td>\n",
       "      <td>275.8</td>\n",
       "      <td>180</td>\n",
       "      <td>3.07</td>\n",
       "      <td>4.070</td>\n",
       "      <td>17.40</td>\n",
       "      <td>0</td>\n",
       "      <td>0</td>\n",
       "      <td>3</td>\n",
       "      <td>3</td>\n",
       "    </tr>\n",
       "    <tr>\n",
       "      <th>Merc 450SL</th>\n",
       "      <td>17.3</td>\n",
       "      <td>8</td>\n",
       "      <td>275.8</td>\n",
       "      <td>180</td>\n",
       "      <td>3.07</td>\n",
       "      <td>3.730</td>\n",
       "      <td>17.60</td>\n",
       "      <td>0</td>\n",
       "      <td>0</td>\n",
       "      <td>3</td>\n",
       "      <td>3</td>\n",
       "    </tr>\n",
       "    <tr>\n",
       "      <th>Merc 450SLC</th>\n",
       "      <td>15.2</td>\n",
       "      <td>8</td>\n",
       "      <td>275.8</td>\n",
       "      <td>180</td>\n",
       "      <td>3.07</td>\n",
       "      <td>3.780</td>\n",
       "      <td>18.00</td>\n",
       "      <td>0</td>\n",
       "      <td>0</td>\n",
       "      <td>3</td>\n",
       "      <td>3</td>\n",
       "    </tr>\n",
       "  </tbody>\n",
       "</table>\n",
       "</div>"
      ],
      "text/plain": [
       "                 mpg  cyl   disp   hp  drat     wt   qsec  vs  am  gear  carb\n",
       "Mazda RX4       21.0    6  160.0  110  3.90  2.620  16.46   0   1     4     4\n",
       "Mazda RX4 Wag   21.0    6  160.0  110  3.90  2.875  17.02   0   1     4     4\n",
       "Hornet 4 Drive  21.4    6  258.0  110  3.08  3.215  19.44   1   0     3     1\n",
       "Merc 450SE      16.4    8  275.8  180  3.07  4.070  17.40   0   0     3     3\n",
       "Merc 450SL      17.3    8  275.8  180  3.07  3.730  17.60   0   0     3     3\n",
       "Merc 450SLC     15.2    8  275.8  180  3.07  3.780  18.00   0   0     3     3"
      ]
     },
     "execution_count": 46,
     "metadata": {},
     "output_type": "execute_result"
    }
   ],
   "source": [
    "cars1[(cars1.cyl >=6) & ((cars1.hp ==110)|(cars1.hp ==180))]"
   ]
  },
  {
   "cell_type": "code",
   "execution_count": null,
   "metadata": {},
   "outputs": [],
   "source": [
    "cylEqualTo6 = cars1.cyl ==6"
   ]
  },
  {
   "cell_type": "code",
   "execution_count": null,
   "metadata": {},
   "outputs": [
    {
     "data": {
      "text/html": [
       "<div>\n",
       "<style scoped>\n",
       "    .dataframe tbody tr th:only-of-type {\n",
       "        vertical-align: middle;\n",
       "    }\n",
       "\n",
       "    .dataframe tbody tr th {\n",
       "        vertical-align: top;\n",
       "    }\n",
       "\n",
       "    .dataframe thead th {\n",
       "        text-align: right;\n",
       "    }\n",
       "</style>\n",
       "<table border=\"1\" class=\"dataframe\">\n",
       "  <thead>\n",
       "    <tr style=\"text-align: right;\">\n",
       "      <th></th>\n",
       "      <th>mpg</th>\n",
       "      <th>cyl</th>\n",
       "      <th>disp</th>\n",
       "      <th>hp</th>\n",
       "      <th>drat</th>\n",
       "      <th>wt</th>\n",
       "      <th>qsec</th>\n",
       "      <th>vs</th>\n",
       "      <th>am</th>\n",
       "      <th>gear</th>\n",
       "      <th>carb</th>\n",
       "    </tr>\n",
       "  </thead>\n",
       "  <tbody>\n",
       "    <tr>\n",
       "      <th>Mazda RX4</th>\n",
       "      <td>21.0</td>\n",
       "      <td>6</td>\n",
       "      <td>160.0</td>\n",
       "      <td>110</td>\n",
       "      <td>3.90</td>\n",
       "      <td>2.620</td>\n",
       "      <td>16.46</td>\n",
       "      <td>0</td>\n",
       "      <td>1</td>\n",
       "      <td>4</td>\n",
       "      <td>4</td>\n",
       "    </tr>\n",
       "    <tr>\n",
       "      <th>Mazda RX4 Wag</th>\n",
       "      <td>21.0</td>\n",
       "      <td>6</td>\n",
       "      <td>160.0</td>\n",
       "      <td>110</td>\n",
       "      <td>3.90</td>\n",
       "      <td>2.875</td>\n",
       "      <td>17.02</td>\n",
       "      <td>0</td>\n",
       "      <td>1</td>\n",
       "      <td>4</td>\n",
       "      <td>4</td>\n",
       "    </tr>\n",
       "    <tr>\n",
       "      <th>Hornet 4 Drive</th>\n",
       "      <td>21.4</td>\n",
       "      <td>6</td>\n",
       "      <td>258.0</td>\n",
       "      <td>110</td>\n",
       "      <td>3.08</td>\n",
       "      <td>3.215</td>\n",
       "      <td>19.44</td>\n",
       "      <td>1</td>\n",
       "      <td>0</td>\n",
       "      <td>3</td>\n",
       "      <td>1</td>\n",
       "    </tr>\n",
       "    <tr>\n",
       "      <th>Valiant</th>\n",
       "      <td>18.1</td>\n",
       "      <td>6</td>\n",
       "      <td>225.0</td>\n",
       "      <td>105</td>\n",
       "      <td>2.76</td>\n",
       "      <td>3.460</td>\n",
       "      <td>20.22</td>\n",
       "      <td>1</td>\n",
       "      <td>0</td>\n",
       "      <td>3</td>\n",
       "      <td>1</td>\n",
       "    </tr>\n",
       "    <tr>\n",
       "      <th>Merc 280</th>\n",
       "      <td>19.2</td>\n",
       "      <td>6</td>\n",
       "      <td>167.6</td>\n",
       "      <td>123</td>\n",
       "      <td>3.92</td>\n",
       "      <td>3.440</td>\n",
       "      <td>18.30</td>\n",
       "      <td>1</td>\n",
       "      <td>0</td>\n",
       "      <td>4</td>\n",
       "      <td>4</td>\n",
       "    </tr>\n",
       "    <tr>\n",
       "      <th>Merc 280C</th>\n",
       "      <td>17.8</td>\n",
       "      <td>6</td>\n",
       "      <td>167.6</td>\n",
       "      <td>123</td>\n",
       "      <td>3.92</td>\n",
       "      <td>3.440</td>\n",
       "      <td>18.90</td>\n",
       "      <td>1</td>\n",
       "      <td>0</td>\n",
       "      <td>4</td>\n",
       "      <td>4</td>\n",
       "    </tr>\n",
       "    <tr>\n",
       "      <th>Ferrari Dino</th>\n",
       "      <td>19.7</td>\n",
       "      <td>6</td>\n",
       "      <td>145.0</td>\n",
       "      <td>175</td>\n",
       "      <td>3.62</td>\n",
       "      <td>2.770</td>\n",
       "      <td>15.50</td>\n",
       "      <td>0</td>\n",
       "      <td>1</td>\n",
       "      <td>5</td>\n",
       "      <td>6</td>\n",
       "    </tr>\n",
       "  </tbody>\n",
       "</table>\n",
       "</div>"
      ],
      "text/plain": [
       "                 mpg  cyl   disp   hp  drat     wt   qsec  vs  am  gear  carb\n",
       "Mazda RX4       21.0    6  160.0  110  3.90  2.620  16.46   0   1     4     4\n",
       "Mazda RX4 Wag   21.0    6  160.0  110  3.90  2.875  17.02   0   1     4     4\n",
       "Hornet 4 Drive  21.4    6  258.0  110  3.08  3.215  19.44   1   0     3     1\n",
       "Valiant         18.1    6  225.0  105  2.76  3.460  20.22   1   0     3     1\n",
       "Merc 280        19.2    6  167.6  123  3.92  3.440  18.30   1   0     4     4\n",
       "Merc 280C       17.8    6  167.6  123  3.92  3.440  18.90   1   0     4     4\n",
       "Ferrari Dino    19.7    6  145.0  175  3.62  2.770  15.50   0   1     5     6"
      ]
     },
     "execution_count": 48,
     "metadata": {},
     "output_type": "execute_result"
    }
   ],
   "source": [
    "cars1[cylEqualTo6]"
   ]
  },
  {
   "cell_type": "code",
   "execution_count": null,
   "metadata": {},
   "outputs": [],
   "source": [
    "import requests"
   ]
  },
  {
   "cell_type": "code",
   "execution_count": null,
   "metadata": {},
   "outputs": [],
   "source": [
    "html = requests.get(\"https://www.torontomu.ca/index.html/\")"
   ]
  },
  {
   "cell_type": "code",
   "execution_count": null,
   "metadata": {},
   "outputs": [
    {
     "data": {
      "text/plain": [
       "b'<!DOCTYPE html>\\r\\n\\r\\n\\r\\n\\r\\n\\r\\n\\r\\n\\r\\n\\r\\n\\r\\n\\r\\n\\r\\n\\r\\n\\r\\n\\r\\n\\r\\n\\r\\n\\r\\n\\r\\n\\r\\n\\r\\n\\r\\n\\r\\n\\r\\n\\r\\n\\r\\n\\r\\n\\r\\n\\r\\n\\r\\n\\r\\n\\r\\n\\r\\n\\r\\n\\r\\n\\r\\n\\r\\n\\r\\n<html lang=\"en\">\\r\\n<head>\\r\\n    <link rel=\"icon\" href=\"/content/dam/tmu_favicon.ico\" type=\"image/x-icon\"/>\\r\\n    \\r\\n\\r\\n\\r\\n\\r\\n\\r\\n\\r\\n\\r\\n\\r\\n\\r\\n\\r\\n    <meta charset=\"UTF-8\">\\r\\n    <meta http-equiv=\"X-UA-Compatible\" content=\"IE=edge\">\\r\\n    <meta name=\"viewport\" content=\"width=device-width, initial-scale=1\">\\r\\n    <meta http-equiv=\"content-type\" content=\"text/html; charset=UTF-8\">\\r\\n\\r\\n    <meta property=\"og:type\" content=\"website\">\\r\\n    <meta property=\"og:site_name\" content=\"Toronto Metropolitan University\">\\r\\n    <meta property=\"og:url\" content=\"https://www.torontomu.ca/index/\">\\r\\n    \\r\\n    <meta property=\"og:title\" content=\"Toronto Metropolitan University Home\">\\r\\n    \\r\\n    \\r\\n    <meta property=\"og:description\" content=\"Toronto Metropolitan University is located in the heart of Canada\\'s largest city. Its distinctly urban campus features a culture that\\'s innovative and entrepreneurial and a community that\\'s welcoming and inclusive.\">\\r\\n    \\r\\n    \\r\\n    <meta property=\"og:image\" content=\"https://www.torontomu.ca/content/dam/news-events/news/2017/03/ryerson-quad-lto.jpg\">\\r\\n    \\r\\n    <meta name=\"twitter:card\" content=\"summary_large_image\">\\r\\n    <meta name=\"twitter:url\" value=\"https://www.torontomu.ca/index/\">\\r\\n    \\r\\n    <meta name=\"twitter:site\" content=\"@TorontoMet\">\\r\\n    \\r\\n    \\r\\n    <meta name=\"twitter:title\" content=\"Toronto Metropolitan University Home\">\\r\\n    \\r\\n    \\r\\n    <meta name=\"twitter:description\" content=\"Toronto Metropolitan University is located in the heart of Canada\\'s largest city. Its distinctly urban campus features a culture that\\'s innovative and entrepreneurial and a community that\\'s welcoming and inclusive.\">\\r\\n    \\r\\n    \\r\\n    <meta name=\"twitter:image\" content=\"https://www.torontomu.ca/content/dam/news-events/news/2017/03/ryerson-quad-lto.jpg\">\\r\\n    \\r\\n\\r\\n    <title>Toronto Metropolitan University Home - Toronto Metropolitan University\\r\\n    </title>\\r\\n    \\r\\n    \\r\\n    <meta name=\"description\" content=\"Toronto Metropolitan University is located in the heart of Canada\\'s largest city. Its distinctly urban campus features a culture that\\'s innovative and entrepreneurial and a community that\\'s welcoming and inclusive.\">\\r\\n    \\r\\n    <meta name=\"msvalidate.01\" content=\"BE317D2A394B67B73CDA358D1ABADA23\" />\\n<meta name=\"p:domain_verify\" content=\"f6d3d6a9b5967912e5ac7af547eb89db\"/>\\n<meta name=\"google-site-verification\" content=\"hFoSJefbbE-j3tER-L9W1IaY7P2Nz6uAo8n4QEErE5g\" />\\n<meta name=\"facebook-domain-verification\" content=\"4yhkpm5e8yw5z24uwfcbri53uul00p\" />\\n\\r\\n    \\r\\n\\r\\n\\r\\n\\r\\n\\r\\n\\r\\n\\r\\n\\r\\n\\r\\n\\r\\n\\r\\n\\r\\n\\r\\n\\r\\n\\r\\n\\r\\n\\r\\n\\r\\n\\r\\n\\r\\n    <!-- Page-hiding snippet starts --> \\n<style>.async-hide { opacity: 0 !important} </style>\\n<script>(function(a,s,y,n,c,h,i,d,e){s.className+=\\' \\'+y;h.start=1*new Date;\\nh.end=i=function(){s.className=s.className.replace(RegExp(\\' ?\\'+y),\\'\\')};\\n(a[n]=a[n]||[]).hide=h;setTimeout(function(){i();h.end=null},c);h.timeout=c;\\n})(window,document.documentElement,\\'async-hide\\',\\'dataLayer\\',4000,\\n{\\'GTM-WTQJF65\\':true});</script>\\n<!-- Page-hiding snippet ends --> \\n\\n<!-- Modified GA tracking script starts --> \\n<script>\\n(function(i,s,o,g,r,a,m){i[\\'GoogleAnalyticsObject\\']=r;i[r]=i[r]||function(){\\n(i[r].q=i[r].q||[]).push(arguments)},i[r].l=1*new Date();a=s.createElement(o),\\nm=s.getElementsByTagName(o)[0];a.async=1;a.src=g;m.parentNode.insertBefore(a,m)\\n})(window,document,\\'script\\',\\'https://www.google-analytics.com/analytics.js\\',\\'ga\\');\\nga(\\'create\\', \\'UA-8117641-1\\', \\'auto\\', {allowLinker: true});\\nga(\\'require\\', \\'GTM-WTQJF65\\'); \\n</script>\\n<!-- Modified GA tracking script ends-->\\n\\n<!-- Google Tag Manager -->\\n<script>(function(w,d,s,l,i){w[l]=w[l]||[];w[l].push({\\'gtm.start\\':\\nnew Date().getTime(),event:\\'gtm.js\\'});var f=d.getElementsByTagName(s)[0],\\nj=d.createElement(s),dl=l!=\\'dataLayer\\'?\\'&l=\\'+l:\\'\\';j.async=true;j.src=\\n\\'https://www.googletagmanager.com/gtm.js?id=\\'+i+dl;f.parentNode.insertBefore(j,f);\\n})(window,document,\\'script\\',\\'dataLayer\\',\\'GTM-MJMHPZ\\');</script>\\n<!-- End Google Tag Manager -->\\r\\n    \\r\\n    \\r\\n\\r\\n\\r\\n\\r\\n\\r\\n\\r\\n\\r\\n\\r\\n\\r\\n\\r\\n \\r\\n\\r\\n\\r\\n\\r\\n\\r\\n\\r\\n\\r\\n\\r\\n\\r\\n\\r\\n\\r\\n\\r\\n\\r\\n\\r\\n\\r\\n<script>\\r\\nvar cqMode = \"DISABLED\";\\r\\nvar cqTemplate = \"homepageMain\";\\r\\nvar runMode = \"publish\"; \\r\\n</script>\\r\\n<script src=\"https://code.jquery.com/jquery-3.6.3.min.js\"/></script>\\r\\n\\r\\n\\r\\n    \\r\\n\\r\\n    \\r\\n\\r\\n\\r\\n\\r\\n\\r\\n\\r\\n\\r\\n\\r\\n\\r\\n\\r\\n</head>\\r\\n<body>\\r\\n    \\r\\n<link rel=\"stylesheet\" href=\"/etc.clientlibs/ryecms/static/clientlib-all.73f5f5c76cf942f24d5e797d15b82d02.css\" type=\"text/css\">\\n<script src=\"/etc.clientlibs/ryecms/static/clientlib-all.2bdef7042c56e313034b89b07fa6ce56.js\"></script>\\n\\r\\n    \\r\\n    \\r\\n<link rel=\"stylesheet\" href=\"/rye-api/color.default.004C9B.004C9B.css\" type=\"text/css\">\\r\\n    \\r\\n    \\r\\n<script src=\"/etc.clientlibs/ryecms/static/customStyles/default.d41d8cd98f00b204e9800998ecf8427e.js\"></script>\\n\\r\\n    \\r\\n<!-- red -->\\r\\n<div id=\"AppArmorAlertID_76\"></div>\\r\\n<script type=\"text/javascript\" src=\"//torontomu.apparmor.com/Notifications/Feeds/Javascript/?AlertID=76\" async></script>\\r\\n\\r\\n<!-- yellow -->\\r\\n<div id=\"AppArmorAlertID_77\"></div>\\r\\n<script type=\"text/javascript\" src=\"//torontomu.apparmor.com/Notifications/Feeds/Javascript/?AlertID=77\" async></script>\\r\\n\\r\\n<!-- system -->\\r\\n<div id=\"systemAlert\"></div>\\r\\n\\r\\n<!-- Google Tag Manager (noscript) -->\\r\\n<noscript>\\r\\n    <iframe src=\"https://www.googletagmanager.com/ns.html?id=GTM-MJMHPZ\"\\r\\n            height=\"0\" width=\"0\" style=\"display:none;visibility:hidden\"></iframe>\\r\\n</noscript>\\r\\n<!-- End Google Tag Manager (noscript) -->\\r\\n\\r\\n\\r\\n\\r\\n\\r\\n\\r\\n\\r\\n\\r\\n\\r\\n\\r\\n\\r\\n\\r\\n    \\r\\n    \\r\\n<div class=\"resGlobalHeader\">\\r\\n\\r\\n\\r\\n\\r\\n\\r\\n\\r\\n\\r\\n\\r\\n\\r\\n\\r\\n\\r\\n\\r\\n\\r\\n<div class=\"global-header-top\">\\r\\n\\t<div class=\"container\">\\r\\n\\t\\t<div class=\"row\">\\r\\n\\t\\t\\t<div class=\"col-xs-12\">\\r\\n\\t\\t\\t\\t<div class=\"res-global-header\">\\r\\n\\t\\t\\t\\t\\t<a id=\"skip-to-main\" class=\"btn btn-default\" href=\"#main-content\">Skip to Main Content</a>\\r\\n\\t\\t\\t\\t\\t<nav aria-label=\"global\"\\r\\n\\t\\t\\t\\t\\t\\tclass=\"navbar navbar-default\">\\r\\n\\t\\t\\t\\t\\t\\t<div class=\"container-fluid\">\\r\\n\\t\\t\\t\\t\\t\\t\\t<div class=\"navbar-header\">\\r\\n\\t\\t\\t\\t\\t\\t\\t\\t<a class=\"navbar-brand\" href=\"https://www.torontomu.ca/\"> <img src=\"/etc.clientlibs/ryecms/static/clientlib-site/resources/images/tmu_logo.svg\" alt=\"Toronto Metropolitan University\" title=\"Toronto Metropolitan University\">\\r\\n\\t\\t\\t\\t\\t\\t\\t\\t</a>\\r\\n\\t\\t\\t\\t\\t\\t\\t\\t<button id=\"gh-other-btn\" type=\"button\"\\r\\n\\t\\t\\t\\t\\t\\t\\t\\t\\tclass=\"navbar-toggle collapsed\" data-toggle=\"collapse\"\\r\\n\\t\\t\\t\\t\\t\\t\\t\\t\\tdata-target=\"#gh-other-content\" aria-expanded=\"false\">\\r\\n\\t\\t\\t\\t\\t\\t\\t\\t\\t<span class=\"sr-only\">Toggle navigation</span> <span\\r\\n\\t\\t\\t\\t\\t\\t\\t\\t\\t\\tclass=\"fa fa-bars\"></span>\\r\\n\\t\\t\\t\\t\\t\\t\\t\\t</button>\\r\\n\\t\\t\\t\\t\\t\\t\\t\\t<button id=\"gh-info-btn\" type=\"button\"\\r\\n\\t\\t\\t\\t\\t\\t\\t\\t\\tclass=\"navbar-toggle collapsed\" data-toggle=\"collapse\"\\r\\n\\t\\t\\t\\t\\t\\t\\t\\t\\tdata-target=\"#gh-info-content\" aria-expanded=\"false\">\\r\\n\\t\\t\\t\\t\\t\\t\\t\\t\\t<span class=\"sr-only\">Toggle information</span> <span\\r\\n\\t\\t\\t\\t\\t\\t\\t\\t\\t\\tclass=\"fa fa-info-circle\"></span>\\r\\n\\t\\t\\t\\t\\t\\t\\t\\t</button>\\r\\n\\t\\t\\t\\t\\t\\t\\t\\t<button id=\"gh-search-btn\" type=\"button\"\\r\\n\\t\\t\\t\\t\\t\\t\\t\\t\\tclass=\"navbar-toggle collapsed\" data-toggle=\"collapse\"\\r\\n\\t\\t\\t\\t\\t\\t\\t\\t\\tdata-target=\"#gh-search-content\" aria-expanded=\"false\">\\r\\n\\t\\t\\t\\t\\t\\t\\t\\t\\t<span class=\"sr-only\">Toggle search</span> <span\\r\\n\\t\\t\\t\\t\\t\\t\\t\\t\\t\\tclass=\"fa fa-search\"></span>\\r\\n\\t\\t\\t\\t\\t\\t\\t\\t</button>\\r\\n\\t\\t\\t\\t\\t\\t\\t</div>\\r\\n\\t\\t\\t\\t\\t\\t\\t<div class=\"navbar-content\">\\r\\n\\t\\t\\t\\t\\t\\t\\t\\t<form role=\"search\" id=\"gh-search-content\" class=\"resSearch nav navbar-nav collapse navbar-collapse navbar-form\" method=\"GET\" action=\"https://www.torontomu.ca/search/\">\\r\\n\\t\\t\\t\\t\\t\\t\\t\\t\\t<div class=\"input-group gh-search-container\">\\r\\n\\t\\t\\t\\t\\t\\t\\t\\t\\t\\t<label for=\"search\" class=\"sr-only\">Search Site and People</label>\\r\\n\\t\\t\\t\\t\\t\\t\\t\\t\\t\\t<input id=\"search\" name=\"q\" type=\"text\" class=\"form-control\" placeholder=\"Search Site and People\" autocomplete=\"off\">\\r\\n\\t\\t\\t\\t\\t\\t\\t\\t\\t\\t<span class=\"input-group-btn\">\\r\\n\\t\\t\\t\\t\\t\\t\\t\\t\\t\\t\\t<button aria-label=\"Search\" class=\"btn btn-default\"\\r\\n\\t\\t\\t\\t\\t\\t\\t\\t\\t\\t\\t\\ttype=\"submit\">\\r\\n\\t\\t\\t\\t\\t\\t\\t\\t\\t\\t\\t\\t<i class=\"fa fa-search\" title=\"Search Torontomu.ca\"></i>\\r\\n\\t\\t\\t\\t\\t\\t\\t\\t\\t\\t\\t</button>\\r\\n\\t\\t\\t\\t\\t\\t\\t\\t\\t\\t</span>\\r\\n\\t\\t\\t\\t\\t\\t\\t\\t\\t</div>\\r\\n\\t\\t\\t\\t\\t\\t\\t\\t</form>\\r\\n\\t\\t\\t\\t\\t\\t\\t\\t<div class=\"navbar-right\">\\r\\n\\t\\t\\t\\t\\t\\t\\t\\t\\t<ul id=\"gh-info-content\"\\r\\n\\t\\t\\t\\t\\t\\t\\t\\t\\t\\tclass=\"nav navbar-nav collapse navbar-collapse navbar-left\" role=\"presentation\">\\r\\n\\t\\t\\t\\t\\t\\t\\t\\t\\t\\t<li class=\"dropdown hidden-xs\"><a href=\"#\" class=\"dropdown-toggle\" data-toggle=\"dropdown\" role=\"button\" aria-haspopup=\"true\" aria-expanded=\"false\"> <span\\r\\n\\t\\t\\t\\t\\t\\t\\t\\t\\t\\t\\t\\tclass=\"fa fa-info-circle\"></span><span class=\"hidden-sm\">\\r\\n\\t\\t\\t\\t\\t\\t\\t\\t\\t\\t\\t\\t\\tInfo for <span class=\"caret\"></span>\\r\\n\\t\\t\\t\\t\\t\\t\\t\\t\\t\\t\\t</span>\\r\\n\\t\\t\\t\\t\\t\\t\\t\\t\\t\\t</a>\\r\\n\\t\\t\\t\\t\\t\\t\\t\\t\\t\\t\\t<ul class=\"dropdown-menu\">\\r\\n\\t\\t\\t\\t\\t\\t\\t\\t\\t\\t\\t\\t<li><a href=\"/future-students/\">Future Students</a></li>\\r\\n\\t\\t\\t\\t\\t\\t\\t\\t\\t\\t\\t\\t<li><a href=\"/current-students/\">Current Students</a></li>\\r\\n\\t\\t\\t\\t\\t\\t\\t\\t\\t\\t\\t\\t<li><a href=\"/faculty-staff/\">Faculty and Staff</a></li>\\r\\n\\t\\t\\t\\t\\t\\t\\t\\t\\t\\t\\t\\t<li><a href=\"/teachers-counsellors/\">Teachers and\\r\\n\\t\\t\\t\\t\\t\\t\\t\\t\\t\\t\\t\\t\\t\\tCounsellors</a></li>\\r\\n\\t\\t\\t\\t\\t\\t\\t\\t\\t\\t\\t\\t<li><a href=\"/alumni/\">Alumni</a></li>\\r\\n\\t\\t\\t\\t\\t\\t\\t\\t\\t\\t\\t\\t<li><a href=\"/media/\">Media</a></li>\\r\\n\\t\\t\\t\\t\\t\\t\\t\\t\\t\\t\\t\\t<li><a href=\"/giving/\">Donors</a></li>\\r\\n\\t\\t\\t\\t\\t\\t\\t\\t\\t\\t\\t</ul></li>\\r\\n\\t\\t\\t\\t\\t\\t\\t\\t\\t\\t<li class=\"visible-xs\"><a href=\"/future-students/\">Future\\r\\n\\t\\t\\t\\t\\t\\t\\t\\t\\t\\t\\t\\tStudents</a></li>\\r\\n\\t\\t\\t\\t\\t\\t\\t\\t\\t\\t<li class=\"visible-xs\"><a href=\"/current-students/\">Current\\r\\n\\t\\t\\t\\t\\t\\t\\t\\t\\t\\t\\t\\tStudents</a></li>\\r\\n\\t\\t\\t\\t\\t\\t\\t\\t\\t\\t<li class=\"visible-xs\"><a href=\"/faculty-staff/\">Faculty\\r\\n\\t\\t\\t\\t\\t\\t\\t\\t\\t\\t\\t\\tand Staff</a></li>\\r\\n\\t\\t\\t\\t\\t\\t\\t\\t\\t\\t<li class=\"visible-xs\"><a href=\"/teachers-counsellors/\">Teachers\\r\\n\\t\\t\\t\\t\\t\\t\\t\\t\\t\\t\\t\\tand Counsellors</a></li>\\r\\n\\t\\t\\t\\t\\t\\t\\t\\t\\t\\t<li class=\"visible-xs\"><a href=\"/alumni/\">Alumni</a></li>\\r\\n\\t\\t\\t\\t\\t\\t\\t\\t\\t\\t<li class=\"visible-xs\"><a href=\"/media/\">Media</a></li>\\r\\n\\t\\t\\t\\t\\t\\t\\t\\t\\t\\t<li class=\"visible-xs\"><a href=\"/giving/\">Donors</a></li>\\r\\n\\t\\t\\t\\t\\t\\t\\t\\t\\t</ul>\\r\\n\\t\\t\\t\\t\\t\\t\\t\\t\\t<ul id=\"gh-other-content\"\\r\\n\\t\\t\\t\\t\\t\\t\\t\\t\\t\\tclass=\"nav navbar-nav collapse navbar-collapse navbar-left\">\\r\\n\\t\\t\\t\\t\\t\\t\\t\\t\\t\\t<li class=\"visible-xs\"><a href=\"/about/\">About</a></li>\\r\\n\\t\\t\\t\\t\\t\\t\\t\\t\\t\\t<li class=\"visible-xs\"><a href=\"/programs/\">Programs</a></li>\\r\\n\\t\\t\\t\\t\\t\\t\\t\\t\\t\\t<li class=\"visible-xs\"><a href=\"/admissions/\">Admissions</a></li>\\r\\n\\t\\t\\t\\t\\t\\t\\t\\t\\t\\t<li class=\"visible-xs\"><a href=\"/campus-life/\">Campus\\r\\n\\t\\t\\t\\t\\t\\t\\t\\t\\t\\t\\t\\tLife</a></li>\\r\\n\\t\\t\\t\\t\\t\\t\\t\\t\\t\\t<li class=\"visible-xs\"><a href=\"/research/\">Research & Innovation</a></li>\\r\\n\\t\\t\\t\\t\\t\\t\\t\\t\\t\\t<li class=\"visible-xs\"><a href=\"/equity/\">Equity & Community Inclusion</a></li>\\r\\n\\t\\t\\t\\t\\t\\t\\t\\t\\t\\t<li class=\"divider visible-xs\"></li>\\r\\n\\t\\t\\t\\t\\t\\t\\t\\t\\t\\t<li class=\"call-to-action\"><a href=\"/admissions/\">Apply</a></li>\\r\\n\\t\\t\\t\\t\\t\\t\\t\\t\\t\\t<li class=\"call-to-action\"><a href=\"/admissions/visits-tours/\">Visit</a></li>\\r\\n\\t\\t\\t\\t\\t\\t\\t\\t\\t\\t<li class=\"call-to-action\"><a href=\"/giving/\">Give</a></li>\\r\\n\\t\\t\\t\\t\\t\\t\\t\\t\\t\\t<li class=\"divider\"></li>\\r\\n\\t\\t\\t\\t\\t\\t\\t\\t\\t\\t<li><a href=\"https://my.torontomu.ca/\">my.torontomu</a></li>\\r\\n\\t\\t\\t\\t\\t\\t\\t\\t\\t</ul>\\r\\n\\t\\t\\t\\t\\t\\t\\t\\t\\t\\r\\n\\t\\t\\t\\t\\t\\t\\t\\t</div>\\r\\n\\t\\t\\t\\t\\t\\t\\t</div>\\r\\n\\t\\t\\t\\t\\t\\t</div>\\r\\n\\t\\t\\t\\t\\t</nav>\\r\\n\\t\\t\\t\\t</div>\\r\\n\\t\\t\\t</div>\\r\\n\\t\\t</div>\\r\\n\\t</div>\\r\\n</div>\\r\\n\\r\\n\\r\\n\\t<div class=\"global-header-bottom\">\\r\\n\\t\\t<div class=\"container\">\\r\\n\\t\\t\\t<div class=\"row hidden-xs\">\\r\\n\\t\\t\\t\\t<div class=\"col-xs-12\">\\r\\n\\t\\t\\t\\t\\t<nav aria-label=\"primary\" class=\"res-global-header\">\\r\\n\\t\\t\\t\\t\\t\\t<div class=\"gh-horizontal-nav\">\\r\\n\\t\\t\\t\\t\\t\\t\\t<ul class=\"list-inline\">\\r\\n\\t\\t\\t\\t\\t\\t\\t\\t<li><a href=\"/about/\">About</a></li>\\r\\n\\t\\t\\t\\t\\t\\t\\t\\t<li><a href=\"/programs/\">Programs</a></li>\\r\\n\\t\\t\\t\\t\\t\\t\\t\\t<li><a href=\"/admissions/\">Admissions</a></li>\\r\\n\\t\\t\\t\\t\\t\\t\\t\\t<li><a href=\"/campus-life/\">Campus Life</a></li>\\r\\n\\t\\t\\t\\t\\t\\t\\t\\t<li><a href=\"/research/\">Research & Innovation</a></li>\\r\\n\\t\\t\\t\\t\\t\\t\\t\\t<li><a href=\"/equity/\">Equity & Community Inclusion</a></li>\\r\\n\\t\\t\\t\\t\\t\\t\\t</ul>\\r\\n\\t\\t\\t\\t\\t\\t</div>\\r\\n\\t\\t\\t\\t\\t</nav>\\r\\n\\t\\t\\t\\t</div>\\r\\n\\t\\t\\t</div>\\r\\n\\t\\t</div>\\r\\n\\t</div>\\r\\n\\r\\n</div>\\n\\r\\n    \\r\\n    \\r\\n    \\r\\n    \\r\\n    \\r\\n\\r\\n    \\r\\n<div class=\"homepageSlideshow resSlideshow\">\\r\\n\\r\\n\\r\\n\\r\\n\\r\\n\\r\\n\\r\\n\\r\\n\\r\\n\\r\\n\\r\\n\\r\\n\\r\\n\\r\\n\\r\\n\\r\\n\\r\\n\\r\\n\\r\\n\\r\\n\\r\\n\\r\\n\\r\\n\\r\\n \\r\\n\\r\\n<div class=\"res-slideshow\">\\r\\n    \\r\\n        <div class=\"contentwide\">\\r\\n            \\r\\n                <div class=\"container\">\\r\\n                    <div class=\"row template-slideshow\">\\r\\n                        <div class=\"col-xs-12\">\\r\\n            \\r\\n            <div id=\"50db8b57-31e9-4f65-8b2e-c61b65541a28\" class=\"carousel slide\"  >\\r\\n            \\r\\n                <div class=\"carousel-inner\">\\r\\n                    \\r\\n                    <div class=\"item active\"  id=\"50db8b57-31e9-4f65-8b2e-c61b65541a28-tab-0\">\\r\\n                        <img src=\"/content/dam/images/homepage-pma/2023/ovpri-annoucement.jpg\" alt=\"a busy Gould street full of students at golden hour\">\\r\\n                        \\r\\n                        <div class=\"carousel-caption with-text\">\\r\\n                            \\r\\n                            <p class=\"carousel-main-text\"><a href=\"/content/ryerson/research/news-events/2023/04/toronto-metropolitan-university-awarded--98-6-million-in-funding/\">TMU awarded $98.6M to lead innovative migration and immigration research</a></p>\\r\\n                            \\r\\n                            \\r\\n                            \\r\\n                            \\r\\n                            \\r\\n                            <a class=\"btn btn-default hidden-xs\" href=\"/content/ryerson/research/news-events/2023/04/toronto-metropolitan-university-awarded--98-6-million-in-funding/\" aria-hidden=\"true\">Find out more</a>\\r\\n                            \\r\\n                        </div>\\r\\n                        \\r\\n                    </div>\\r\\n                    \\r\\n                </div>\\r\\n                \\r\\n            </div> \\r\\n            \\r\\n                        </div>\\r\\n                    </div>\\r\\n                </div>\\r\\n            \\r\\n        </div>\\r\\n    \\r\\n    \\r\\n</div>\\r\\n<script>\\r\\n    $(document).ready(function(){\\r\\n    \\t\\r\\n        $(\"#50db8b57-31e9-4f65-8b2e-c61b65541a28-play, #50db8b57-31e9-4f65-8b2e-c61b65541a28-pause\").click(function() {\\r\\n            if ($(this).attr(\"id\") == \"50db8b57-31e9-4f65-8b2e-c61b65541a28-play\") {\\r\\n                $(\\'#50db8b57-31e9-4f65-8b2e-c61b65541a28\\').carousel(\\'cycle\\');\\r\\n                $(this).attr(\"id\", \"50db8b57-31e9-4f65-8b2e-c61b65541a28-pause\");\\r\\n                $(\"#50db8b57-31e9-4f65-8b2e-c61b65541a28-pause i\").attr(\"class\", \"fa fa-pause\");\\r\\n            } else {\\r\\n                $(\\'#50db8b57-31e9-4f65-8b2e-c61b65541a28\\').carousel(\\'pause\\');\\r\\n                $(this).attr(\"id\", \"50db8b57-31e9-4f65-8b2e-c61b65541a28-play\");\\r\\n                $(\"#50db8b57-31e9-4f65-8b2e-c61b65541a28-play i\").attr(\"class\", \"fa fa-play\");\\r\\n            }\\r\\n        });\\r\\n        \\r\\n        \\t\\t$(\\'#50db8b57-31e9-4f65-8b2e-c61b65541a28\\').carousel(\\'cycle\\');\\r\\n        \\t\\r\\n    });\\r\\n</script>\\r\\n</div>\\n\\r\\n    \\r\\n<div class=\"container\">\\r\\n    \\r\\n\\r\\n\\r\\n\\r\\n\\r\\n\\r\\n\\r\\n\\r\\n\\r\\n\\r\\n\\r\\n\\r\\n\\r\\n\\r\\n    <div class=\"row template-content\">\\r\\n            \\r\\n            \\r\\n        <main id=\"mainContent\"\\r\\n              class=\"content-area-section col-md-12 col-sm-12\">\\r\\n            <div class=\"sr-only\" id=\"main-content\" tabindex=\"-1\">You are now in the main content area</div>\\r\\n                \\r\\n            <div class=\"beforeContent stackparsys\">\\r\\n\\r\\n\\r\\n\\r\\n\\r\\n\\r\\n\\r\\n\\r\\n\\r\\n</div>\\n\\r\\n                \\r\\n                \\r\\n            <div class=\"resPageHeading heading\"><h1 class=\"headingHidden\">Toronto Metropolitan University Home\\r\\n            </h1></div>\\r\\n\\r\\n<div class=\"content stackparsys\">\\r\\n\\r\\n\\r\\n\\r\\n\\r\\n\\r\\n\\r\\n\\r\\n\\r\\n\\r\\n\\r\\n\\t\\t\\t\\t\\r\\n\\t\\t\\t\\t<div class=\"resButtons section\">\\r\\n\\r\\n\\r\\n\\r\\n\\r\\n\\r\\n\\r\\n\\r\\n\\r\\n\\r\\n\\r\\n\\r\\n\\r\\n\\r\\n\\r\\n\\r\\n\\r\\n\\r\\n\\r\\n\\r\\n\\r\\n\\r\\n\\r\\n\\r\\n \\r\\n\\r\\n    \\r\\n<div class=\"res-buttons\">\\r\\n    \\r\\n        <div class=\"buttonTransition\">\\r\\n            <div class=\"row\">\\r\\n            <div class=\"row-height\">\\r\\n                \\r\\n\\r\\n                    <div class=\"col col-xs-12 col-sm-12 outside-full-height\">\\r\\n                        <div class=\"inside inside-full-height\">\\r\\n\\t                        <a class=\"btn btn-default btn-block\" href=\"/covid-19/\">\\r\\n\\t                        \\t\\r\\n\\t                            <span>COVID-19 updates and resources for students, faculty and staff</span>\\r\\n\\t                        \\t\\r\\n\\t                        </a>\\r\\n                        </div>\\r\\n                    </div>\\r\\n                \\r\\n                \\r\\n                \\r\\n            </div>\\r\\n            </div>\\r\\n        </div>\\r\\n    \\r\\n    \\r\\n</div>\\r\\n\\r\\n</div>\\n\\r\\n\\t\\t\\t\\t\\r\\n\\r\\n\\t\\t\\t\\t\\r\\n\\t\\t\\t\\t<div class=\"resTitle section\">\\r\\n\\r\\n\\r\\n\\r\\n\\r\\n\\r\\n\\r\\n\\r\\n\\r\\n\\r\\n\\r\\n\\r\\n\\r\\n\\r\\n\\r\\n\\r\\n\\r\\n\\r\\n\\r\\n\\r\\n\\r\\n\\r\\n\\r\\n\\r\\n\\r\\n\\r\\n\\r\\n<h2>\\r\\n\\t\\r\\n    Future Students\\r\\n    \\r\\n\\t\\r\\n</h2>\\r\\n\\r\\n\\r\\n</div>\\n\\r\\n\\t\\t\\t\\t\\r\\n\\r\\n\\t\\t\\t\\t\\r\\n\\t\\t\\t\\t<div class=\"resButtons section\">\\r\\n\\r\\n\\r\\n\\r\\n\\r\\n\\r\\n\\r\\n\\r\\n\\r\\n\\r\\n\\r\\n\\r\\n\\r\\n\\r\\n\\r\\n\\r\\n\\r\\n\\r\\n\\r\\n\\r\\n\\r\\n\\r\\n\\r\\n\\r\\n \\r\\n\\r\\n    \\r\\n<div class=\"res-buttons\">\\r\\n    \\r\\n        <div class=\"buttonDefault\">\\r\\n            <div class=\"row\">\\r\\n            <div class=\"row-height\">\\r\\n                \\r\\n\\r\\n                    <div class=\"col col-xs-12 col-sm-3 outside-full-height\">\\r\\n                        <div class=\"inside inside-full-height\">\\r\\n\\t                        <a class=\"btn btn-default btn-block\" href=\"/programs/undergraduate/\">\\r\\n\\t                        \\t\\r\\n\\t                            <span>Undergraduate Programs</span>\\r\\n\\t                        \\t\\r\\n\\t                        </a>\\r\\n                        </div>\\r\\n                    </div>\\r\\n                \\r\\n                \\r\\n                \\r\\n\\r\\n                    <div class=\"col col-xs-12 col-sm-3 outside-full-height\">\\r\\n                        <div class=\"inside inside-full-height\">\\r\\n\\t                        <a class=\"btn btn-default btn-block\" href=\"/graduate/programs/\">\\r\\n\\t                        \\t\\r\\n\\t                            <span>Graduate Programs</span>\\r\\n\\t                        \\t\\r\\n\\t                        </a>\\r\\n                        </div>\\r\\n                    </div>\\r\\n                \\r\\n                \\r\\n                \\r\\n\\r\\n                    <div class=\"col col-xs-12 col-sm-3 outside-full-height\">\\r\\n                        <div class=\"inside inside-full-height\">\\r\\n\\t                        <a class=\"btn btn-default btn-block\" href=\"/admissions/undergraduate/international/\">\\r\\n\\t                        \\t\\r\\n\\t                            <span>International Applicants</span>\\r\\n\\t                        \\t\\r\\n\\t                        </a>\\r\\n                        </div>\\r\\n                    </div>\\r\\n                \\r\\n                \\r\\n                \\r\\n\\r\\n                    <div class=\"col col-xs-12 col-sm-3 outside-full-height\">\\r\\n                        <div class=\"inside inside-full-height\">\\r\\n\\t                        <a class=\"btn btn-default btn-block\" href=\"https://continuing.ryerson.ca/\">\\r\\n\\t                        \\t\\r\\n\\t                            <span>Continuing Education</span>\\r\\n\\t                        \\t\\r\\n\\t                        </a>\\r\\n                        </div>\\r\\n                    </div>\\r\\n                \\r\\n                \\r\\n                \\r\\n            </div>\\r\\n            </div>\\r\\n        </div>\\r\\n    \\r\\n    \\r\\n</div>\\r\\n\\r\\n</div>\\n\\r\\n\\t\\t\\t\\t\\r\\n\\r\\n\\t\\t\\t\\t\\r\\n\\t\\t\\t\\t<div class=\"resTitle section\">\\r\\n\\r\\n\\r\\n\\r\\n\\r\\n\\r\\n\\r\\n\\r\\n\\r\\n\\r\\n\\r\\n\\r\\n\\r\\n\\r\\n\\r\\n\\r\\n\\r\\n\\r\\n\\r\\n\\r\\n\\r\\n\\r\\n\\r\\n\\r\\n\\r\\n\\r\\n\\r\\n<h2>\\r\\n\\t\\r\\n    News\\r\\n    \\r\\n\\t\\r\\n</h2>\\r\\n\\r\\n\\r\\n</div>\\n\\r\\n\\t\\t\\t\\t\\r\\n\\r\\n\\t\\t\\t\\t\\r\\n\\t\\t\\t\\t<div class=\"resNewsStack section\">\\r\\n\\r\\n\\r\\n\\r\\n\\r\\n\\r\\n\\r\\n\\r\\n\\r\\n\\r\\n\\r\\n\\r\\n\\r\\n\\r\\n\\r\\n\\r\\n\\r\\n\\r\\n\\r\\n\\r\\n\\r\\n\\r\\n\\r\\n\\r\\n \\r\\n\\r\\n\\r\\n\\t\\r\\n\\t\\r\\n\\t\\t<div class=\"0ca65952-ee56-4d5d-a591-80b6a39a3474 row\">\\r\\n\\t\\t\\r\\n\\t\\t\\t<div class=\"stackContentMain col-sm-12\"></div>\\r\\n\\t\\t</div>\\r\\n\\t\\t<script>\\r\\n\\t\\tjQuery(document).ready(function() {\\r\\n\\t\\t\\tjQuery(\".0ca65952-ee56-4d5d-a591-80b6a39a3474 .stackContentMain\").initStackComponent({\\r\\n\\t\\t\\t\\ttype:\"news\",\\r\\n                uuid:\"0ca65952-ee56-4d5d-a591-80b6a39a3474\",\\r\\n\\t\\t        url:\"/content/ryerson/index/jcr:content/content/resnewsstack\",\\r\\n\\t\\t        limit:\"4\",\\r\\n\\t\\t        resultsPerPage:0,\\r\\n\\t\\t        offset:\"0\",\\r\\n\\t\\t        gridColumnClass:\"col-lg-3 col-md-3 col-sm-6 col-xs-12\",\\r\\n\\t\\t        displayAs:\"grid\",\\r\\n\\t\\t        enableFilteringByTags:false,\\r\\n\\t\\t        paginationType:\"numbered\",\\r\\n\\t\\t        filterTags:[],\\r\\n\\t\\t        tagDisplay:\"uncategorized\",\\r\\n\\t\\t        tagFiltering:\"additive\",\\r\\n\\t\\t        categorizedTags:[],\\r\\n\\t\\t        enableSearch:false,\\r\\n\\t\\t        displayItems:{\\r\\n\\t\\t        \\tdisplayAuthor:false,\\r\\n\\t\\t        \\tdisplayCategory:false,\\r\\n\\t\\t        \\tdisplayDate:true,\\r\\n\\t\\t        \\tdisplayTitle:\"title\",\\r\\n\\t\\t        \\tdisplaySubTitle:false,\\r\\n\\t\\t        \\tdisplaySummary:true,\\r\\n\\t\\t        \\tdisplayTags:false,\\r\\n\\t\\t        \\topenInNewWindow:false\\r\\n\\t\\t        },\\r\\n\\t\\t        gridLayout:{\\r\\n\\t\\t        \\tgridColumnClass:\"col-lg-3 col-md-3 col-sm-6 col-xs-12\",\\r\\n\\t\\t        \\tdeviceLarge:4,\\r\\n\\t\\t        \\tdeviceMedium:4,\\r\\n\\t\\t        \\tdeviceSmall:2,\\r\\n\\t\\t        \\tdeviceExtraXSmall:1\\r\\n\\t\\t        }\\r\\n\\t\\t\\t})\\r\\n\\t\\t});\\r\\n\\t\\t</script>\\r\\n\\t\\r\\n\\r\\n</div>\\n\\r\\n\\t\\t\\t\\t\\r\\n\\r\\n\\t\\t\\t\\t\\r\\n\\t\\t\\t\\t<div class=\"resHtmlSnippet section\">\\r\\n\\r\\n\\r\\n\\r\\n\\r\\n\\r\\n\\r\\n\\r\\n\\r\\n\\r\\n\\r\\n\\r\\n\\r\\n\\r\\n\\r\\n\\r\\n\\r\\n\\r\\n\\r\\n\\r\\n\\r\\n\\r\\n\\r\\n\\r\\n\\r\\n\\r\\n<div id=\"rye-a0f1c2d2-a850-439e-b5bb-a8878b77c6f7\" class=\"res-html-snippet\">\\r\\n\\t\\r\\n\\t\\r\\n        <div class=\"res-text\"> \\n <p><a href=\"/content/ryerson/news-events.html\"><strong>More News</strong></a>&nbsp;&nbsp;<i class=\"fas fa-chevron-right icon-styles\"></i></p> \\n</div>\\r\\n    \\r\\n\\t\\r\\n</div>\\r\\n\\r\\n<script>\\r\\n$(\"#rye-a0f1c2d2-a850-439e-b5bb-a8878b77c6f7 input, #rye-a0f1c2d2-a850-439e-b5bb-a8878b77c6f7 select\").each(function(i, v) {\\r\\n\\tif (!$(this).hasClass(\\'form-control\\')) {\\r\\n\\t\\tif ($(this).is(\"input[type=\\'file\\']\")) {\\r\\n\\t\\t\\t$(this).attr(\\'id\\', \\'rye-a0f1c2d2-a850-439e-b5bb-a8878b77c6f7_upload\\'+i).wrap(\"<span class=\\'htmlSnippetForm\\'></span>\").after(\"<label for=\\'rye-a0f1c2d2-a850-439e-b5bb-a8878b77c6f7_upload\"+i+\"\\' class=\\'customInput\\'>Choose file</label>\");\\r\\n\\t\\t} else {\\r\\n\\t\\t\\t$(this).wrap(\"<span class=\\'htmlSnippetForm\\'></span>\").after(\"<span class=\\'customInput\\'></span>\");\\r\\n\\t\\t}\\r\\n\\t}\\r\\n});\\r\\n</script>\\r\\n\\r\\n\\t<style>\\r\\n\\t\\t#rye-a0f1c2d2-a850-439e-b5bb-a8878b77c6f7 iframe{ height:;}\\r\\n\\t\\t@media screen and (min-width: 768px) { #rye-a0f1c2d2-a850-439e-b5bb-a8878b77c6f7 iframe{ height:;} }\\r\\n\\t\\t@media screen and (min-width: 992px) { #rye-a0f1c2d2-a850-439e-b5bb-a8878b77c6f7 iframe{ height:;} }\\r\\n\\t\\t@media screen and (min-width: 1200px) { #rye-a0f1c2d2-a850-439e-b5bb-a8878b77c6f7 iframe{ height:;} }\\r\\n\\t</style>\\r\\n</div>\\n\\r\\n\\t\\t\\t\\t\\r\\n\\r\\n\\t\\t\\t\\t\\r\\n\\t\\t\\t\\t<div class=\"resTwoColOneTwo section\">\\r\\n\\r\\n\\r\\n\\r\\n\\r\\n\\r\\n\\r\\n\\r\\n\\r\\n\\r\\n  \\r\\n\\r\\n\\r\\n\\r\\n\\r\\n\\r\\n\\r\\n\\r\\n\\r\\n\\r\\n\\r\\n\\r\\n\\r\\n\\r\\n\\r\\n\\r\\n\\r\\n  \\r\\n\\t\\r\\n\\r\\n\\r\\n<div class=\"row\">\\r\\n\\t\\r\\n\\t\\t<div class=\"col-md-4\">\\r\\n\\t\\t\\t<div class=\"stackparsys\">\\r\\n\\r\\n\\r\\n\\r\\n\\r\\n\\r\\n\\r\\n\\r\\n\\r\\n\\r\\n\\r\\n\\t\\t\\t\\t\\r\\n\\t\\t\\t\\t<div class=\"resTitle section\">\\r\\n\\r\\n\\r\\n\\r\\n\\r\\n\\r\\n\\r\\n\\r\\n\\r\\n\\r\\n\\r\\n\\r\\n\\r\\n\\r\\n\\r\\n\\r\\n\\r\\n\\r\\n\\r\\n\\r\\n\\r\\n\\r\\n\\r\\n\\r\\n\\r\\n\\r\\n\\r\\n<h2>\\r\\n\\t\\r\\n    Events\\r\\n    \\r\\n\\t\\r\\n</h2>\\r\\n\\r\\n\\r\\n</div>\\n\\r\\n\\t\\t\\t\\t\\r\\n\\r\\n\\t\\t\\t\\t\\r\\n\\t\\t\\t\\t<div class=\"resEventStack section\">\\r\\n\\r\\n\\r\\n\\r\\n\\r\\n\\r\\n\\r\\n\\r\\n\\r\\n\\r\\n\\r\\n\\r\\n\\r\\n\\r\\n\\r\\n\\r\\n\\r\\n\\r\\n\\r\\n\\r\\n\\r\\n\\r\\n\\r\\n\\r\\n\\r\\n\\r\\n\\r\\n    \\r\\n    \\r\\n\\t\\t<div class=\"568e2692-3c38-46b5-9e07-a62a1c24e664 row\">\\r\\n\\t\\t\\r\\n\\t\\t\\t<div class=\"stackContentMain col-sm-12\"></div>\\r\\n\\t\\t</div>\\r\\n        <script>\\r\\n            jQuery(document).ready(function() {\\r\\n                jQuery(\".568e2692-3c38-46b5-9e07-a62a1c24e664 .stackContentMain\").initStackComponent({\\r\\n                    type:\"event\",\\r\\n                    uuid:\"568e2692-3c38-46b5-9e07-a62a1c24e664\",\\r\\n                    url:\"/content/ryerson/index/jcr:content/content/restwocolonetwo/c1/reseventstack\",\\r\\n                    limit:\"3\",\\r\\n                    resultsPerPage:0,\\r\\n                    offset:\"0\",\\r\\n                    gridColumnClass:\"col-lg-4 col-md-4 col-sm-4 col-xs-12\",\\r\\n                    displayAs:\"list\",\\r\\n                    enableFilteringByTags:false,\\r\\n                    paginationType:\"paged\",\\r\\n                    filterTags:[],\\r\\n    \\t\\t        tagDisplay:\"uncategorized\",\\r\\n    \\t\\t        tagFiltering:\"additive\",\\r\\n    \\t\\t        categorizedTags:[],\\r\\n    \\t\\t        enableSearch:false,\\r\\n                    displayItems:{\\r\\n                        displayTitle: true,\\r\\n                        displaySummary: true,\\r\\n                        displayDateAndTime: true,\\r\\n                        displayEventOpenTo: true,\\r\\n                        displayLocation: false,\\r\\n                        displayContact: false,\\r\\n                        displayWebsite: false,\\r\\n                        displayRegistrationLink: false,\\r\\n                        displayTags: false,\\r\\n                        openInNewWindow:false\\r\\n                    },\\r\\n                    gridLayout:{\\r\\n                        gridColumnClass:\"col-lg-4 col-md-4 col-sm-4 col-xs-12\",\\r\\n                        deviceLarge:3,\\r\\n                        deviceMedium:3,\\r\\n                        deviceSmall:3,\\r\\n                        deviceExtraXSmall:1\\r\\n                    }\\r\\n                })\\r\\n            });\\r\\n        </script>\\r\\n    \\r\\n\\r\\n</div>\\n\\r\\n\\t\\t\\t\\t\\r\\n\\r\\n\\t\\t\\t\\t\\r\\n\\t\\t\\t\\t<div class=\"resHtmlSnippet section\">\\r\\n\\r\\n\\r\\n\\r\\n\\r\\n\\r\\n\\r\\n\\r\\n\\r\\n\\r\\n\\r\\n\\r\\n\\r\\n\\r\\n\\r\\n\\r\\n\\r\\n\\r\\n\\r\\n\\r\\n\\r\\n\\r\\n\\r\\n\\r\\n\\r\\n\\r\\n<div id=\"rye-764f0981-880b-4921-904a-0621bb9156ed\" class=\"res-html-snippet\">\\r\\n\\t\\r\\n\\t\\r\\n        <div class=\"res-text\"> \\n <p><a href=\"/content/ryerson/news-events/events.html\"><strong>All Events</strong></a>&nbsp;&nbsp;<i class=\"fas fa-chevron-right icon-styles\"></i></p> \\n</div>\\r\\n    \\r\\n\\t\\r\\n</div>\\r\\n\\r\\n<script>\\r\\n$(\"#rye-764f0981-880b-4921-904a-0621bb9156ed input, #rye-764f0981-880b-4921-904a-0621bb9156ed select\").each(function(i, v) {\\r\\n\\tif (!$(this).hasClass(\\'form-control\\')) {\\r\\n\\t\\tif ($(this).is(\"input[type=\\'file\\']\")) {\\r\\n\\t\\t\\t$(this).attr(\\'id\\', \\'rye-764f0981-880b-4921-904a-0621bb9156ed_upload\\'+i).wrap(\"<span class=\\'htmlSnippetForm\\'></span>\").after(\"<label for=\\'rye-764f0981-880b-4921-904a-0621bb9156ed_upload\"+i+\"\\' class=\\'customInput\\'>Choose file</label>\");\\r\\n\\t\\t} else {\\r\\n\\t\\t\\t$(this).wrap(\"<span class=\\'htmlSnippetForm\\'></span>\").after(\"<span class=\\'customInput\\'></span>\");\\r\\n\\t\\t}\\r\\n\\t}\\r\\n});\\r\\n</script>\\r\\n\\r\\n\\t<style>\\r\\n\\t\\t#rye-764f0981-880b-4921-904a-0621bb9156ed iframe{ height:;}\\r\\n\\t\\t@media screen and (min-width: 768px) { #rye-764f0981-880b-4921-904a-0621bb9156ed iframe{ height:;} }\\r\\n\\t\\t@media screen and (min-width: 992px) { #rye-764f0981-880b-4921-904a-0621bb9156ed iframe{ height:;} }\\r\\n\\t\\t@media screen and (min-width: 1200px) { #rye-764f0981-880b-4921-904a-0621bb9156ed iframe{ height:;} }\\r\\n\\t</style>\\r\\n</div>\\n\\r\\n\\t\\t\\t\\t</div>\\n\\r\\n\\t\\t</div> \\r\\n\\t\\t\\r\\n\\t\\t\\r\\n\\t\\t\\r\\n\\t\\t\\r\\n\\t\\t\\t<div class=\"clearfix visible-xs-block\"></div>\\r\\n\\t\\t\\r\\n\\t\\r\\n\\t\\t<div class=\"col-md-8\">\\r\\n\\t\\t\\t<div class=\"stackparsys\">\\r\\n\\r\\n\\r\\n\\r\\n\\r\\n\\r\\n\\r\\n\\r\\n\\r\\n\\r\\n\\r\\n\\t\\t\\t\\t\\r\\n\\t\\t\\t\\t<div class=\"resTitle section\">\\r\\n\\r\\n\\r\\n\\r\\n\\r\\n\\r\\n\\r\\n\\r\\n\\r\\n\\r\\n\\r\\n\\r\\n\\r\\n\\r\\n\\r\\n\\r\\n\\r\\n\\r\\n\\r\\n\\r\\n\\r\\n\\r\\n\\r\\n\\r\\n\\r\\n\\r\\n\\r\\n<h2>\\r\\n\\t\\r\\n    Explore More\\r\\n    \\r\\n\\t\\r\\n</h2>\\r\\n\\r\\n\\r\\n</div>\\n\\r\\n\\t\\t\\t\\t\\r\\n\\r\\n\\t\\t\\t\\t\\r\\n\\t\\t\\t\\t<div class=\"resButtons section\">\\r\\n\\r\\n\\r\\n\\r\\n\\r\\n\\r\\n\\r\\n\\r\\n\\r\\n\\r\\n\\r\\n\\r\\n\\r\\n\\r\\n\\r\\n\\r\\n\\r\\n\\r\\n\\r\\n\\r\\n\\r\\n\\r\\n\\r\\n\\r\\n \\r\\n\\r\\n    \\r\\n<div class=\"res-buttons\">\\r\\n    \\r\\n        <div class=\"buttonTransition\">\\r\\n            <div class=\"row\">\\r\\n            <div class=\"row-height\">\\r\\n                \\r\\n\\r\\n                    <div class=\"col col-xs-12 col-sm-6 outside-full-height\">\\r\\n                        <div class=\"inside inside-full-height\">\\r\\n\\t                        <a class=\"btn btn-default btn-block\" href=\"/admissions/undergraduate/choose-login/\">\\r\\n\\t                        \\t\\r\\n\\t                            <span>Choose &gt; TMU Applicant Portal</span>\\r\\n\\t                        \\t\\r\\n\\t                        </a>\\r\\n                        </div>\\r\\n                    </div>\\r\\n                \\r\\n                \\r\\n                \\r\\n\\r\\n                    <div class=\"col col-xs-12 col-sm-6 outside-full-height\">\\r\\n                        <div class=\"inside inside-full-height\">\\r\\n\\t                        <a class=\"btn btn-default btn-block\" href=\"/career-coop-student-success/\">\\r\\n\\t                        \\t\\r\\n\\t                            <span>Career, Co-op and Student Success</span>\\r\\n\\t                        \\t\\r\\n\\t                        </a>\\r\\n                        </div>\\r\\n                    </div>\\r\\n                \\r\\n                \\r\\n                    </div></div>\\r\\n                    <div class=\"row\">\\r\\n                    <div class=\"row-height\">\\r\\n                \\r\\n                \\r\\n\\r\\n                    <div class=\"col col-xs-12 col-sm-6 outside-full-height\">\\r\\n                        <div class=\"inside inside-full-height\">\\r\\n\\t                        <a class=\"btn btn-default btn-block\" href=\"/student-financial-assistance/\">\\r\\n\\t                        \\t\\r\\n\\t                            <span>Financial Assistance</span>\\r\\n\\t                        \\t\\r\\n\\t                        </a>\\r\\n                        </div>\\r\\n                    </div>\\r\\n                \\r\\n                \\r\\n                \\r\\n\\r\\n                    <div class=\"col col-xs-12 col-sm-6 outside-full-height\">\\r\\n                        <div class=\"inside inside-full-height\">\\r\\n\\t                        <a class=\"btn btn-default btn-block\" href=\"/admissions/scholarships-awards/\">\\r\\n\\t                        \\t\\r\\n\\t                            <span>Scholarships &amp; Awards</span>\\r\\n\\t                        \\t\\r\\n\\t                        </a>\\r\\n                        </div>\\r\\n                    </div>\\r\\n                \\r\\n                \\r\\n                    </div></div>\\r\\n                    <div class=\"row\">\\r\\n                    <div class=\"row-height\">\\r\\n                \\r\\n                \\r\\n\\r\\n                    <div class=\"col col-xs-12 col-sm-6 outside-full-height\">\\r\\n                        <div class=\"inside inside-full-height\">\\r\\n\\t                        <a class=\"btn btn-default btn-block\" href=\"/housing/\">\\r\\n\\t                        \\t\\r\\n\\t                            <span>Housing &amp; Residence</span>\\r\\n\\t                        \\t\\r\\n\\t                        </a>\\r\\n                        </div>\\r\\n                    </div>\\r\\n                \\r\\n                \\r\\n                \\r\\n\\r\\n                    <div class=\"col col-xs-12 col-sm-6 outside-full-height\">\\r\\n                        <div class=\"inside inside-full-height\">\\r\\n\\t                        <a class=\"btn btn-default btn-block\" href=\"https://library.torontomu.ca/\">\\r\\n\\t                        \\t\\r\\n\\t                            <span>Library</span>\\r\\n\\t                        \\t\\r\\n\\t                        </a>\\r\\n                        </div>\\r\\n                    </div>\\r\\n                \\r\\n                \\r\\n                    </div></div>\\r\\n                    <div class=\"row\">\\r\\n                    <div class=\"row-height\">\\r\\n                \\r\\n                \\r\\n\\r\\n                    <div class=\"col col-xs-12 col-sm-6 outside-full-height\">\\r\\n                        <div class=\"inside inside-full-height\">\\r\\n\\t                        <a class=\"btn btn-default btn-block\" href=\"/english-language-institute/\">\\r\\n\\t                        \\t\\r\\n\\t                            <span>English Language Institute</span>\\r\\n\\t                        \\t\\r\\n\\t                        </a>\\r\\n                        </div>\\r\\n                    </div>\\r\\n                \\r\\n                \\r\\n                \\r\\n\\r\\n                    <div class=\"col col-xs-12 col-sm-6 outside-full-height\">\\r\\n                        <div class=\"inside inside-full-height\">\\r\\n\\t                        <a class=\"btn btn-default btn-block\" href=\"/contact/\">\\r\\n\\t                        \\t\\r\\n\\t                            <span>Contact Directory</span>\\r\\n\\t                        \\t\\r\\n\\t                        </a>\\r\\n                        </div>\\r\\n                    </div>\\r\\n                \\r\\n                \\r\\n                \\r\\n            </div>\\r\\n            </div>\\r\\n        </div>\\r\\n    \\r\\n    \\r\\n</div>\\r\\n\\r\\n</div>\\n\\r\\n\\t\\t\\t\\t</div>\\n\\r\\n\\t\\t</div> \\r\\n\\t\\t\\r\\n\\t\\t\\t<div class=\"clearfix visible-lg-block\"></div>\\r\\n\\t\\t\\r\\n\\t\\t\\r\\n\\t\\t\\t<div class=\"clearfix visible-md-block\"></div>\\r\\n\\t\\t\\r\\n\\t\\t\\r\\n\\t\\t\\t<div class=\"clearfix visible-sm-block\"></div>\\r\\n\\t\\t\\r\\n\\t\\t\\r\\n\\t\\t\\t<div class=\"clearfix visible-xs-block\"></div>\\r\\n\\t\\t\\r\\n\\t\\r\\n</div></div>\\n\\r\\n\\t\\t\\t\\t</div>\\n\\r\\n\\r\\n\\r\\n\\r\\n\\r\\n\\r\\n\\r\\n\\r\\n\\r\\n\\r\\n\\r\\n\\r\\n\\r\\n\\r\\n\\r\\n\\r\\n\\r\\n\\r\\n\\r\\n\\r\\n\\r\\n\\r\\n\\r\\n\\r\\n\\t\\t\\t\\t\\t\\r\\n\\t\\t\\t\\t\\t\\r\\n\\t\\t        \\t\\r\\n\\t\\t\\t\\t\\t\\t<div class=\"afterContent stackparsys\">\\r\\n\\r\\n\\r\\n\\r\\n\\r\\n\\r\\n\\r\\n\\r\\n\\r\\n</div>\\n\\r\\n\\t\\t\\t\\t\\t\\r\\n\\t\\t\\t\\t</main>\\r\\n\\t\\t\\t\\t\\r\\n        \\t</div>\\r\\n        </div>\\r\\n        \\r\\n       \\t\\t<footer class=\"res-local-footer-wrapper\" aria-label=\"local\">\\r\\n                <div class=\"container\">\\r\\n                    <div class=\"resLocalFooter\">\\r\\n\\r\\n\\r\\n\\r\\n\\r\\n\\r\\n\\r\\n\\r\\n\\r\\n\\r\\n\\r\\n<div class=\"res-local-footer\">\\r\\n\\t<div class=\"row template-local-footer\">\\r\\n\\t\\t<div class=\"col-xs-12\"> \\r\\n\\t\\t\\t\\r\\n\\t\\t\\t\\r\\n\\r\\n\\r\\n\\r\\n\\r\\n\\r\\n\\r\\n\\r\\n\\r\\n\\r\\n\\r\\n\\r\\n\\r\\n\\r\\n\\t\\t\\t\\r\\n\\t\\t\\t\\r\\n\\t\\t\\t<div class=\"content stackparsys\">\\r\\n\\r\\n\\r\\n\\r\\n\\r\\n\\r\\n\\r\\n\\r\\n\\r\\n</div>\\n\\r\\n\\t\\t\\t\\r\\n\\t\\t</div>\\r\\n\\t</div>\\r\\n</div>\\r\\n</div>\\n\\r\\n                </div>\\r\\n            </footer>\\r\\n        \\r\\n\\t\\t\\r\\n\\t\\t\\t<div class=\"resGlobalFooter\">\\r\\n\\r\\n\\r\\n\\r\\n\\r\\n\\r\\n\\r\\n\\r\\n\\r\\n\\r\\n\\r\\n\\r\\n<footer class=\"resGlobalFooter\" aria-label=\"global\">\\r\\n\\t<div class=\"top-middle-container\"> <!-- top-middle-container starts -->\\r\\n\\t\\t<div class=\"container\">\\r\\n\\t\\t\\r\\n\\t\\t<!-- Footer Top -->\\r\\n\\t\\t<div class=\"row footer-top\">\\r\\n\\t\\t    <div class=\"col-sm-9 col-xs-6\">\\r\\n\\t\\t        <strong>Toronto Metropolitan University</strong><br/>\\r\\n\\t\\t    </div>\\r\\n\\t\\t    <div class=\"col-sm-3 col-xs-6 text-right footer-toggle\">\\r\\n\\t\\t        <a title=\"Expand/Hide Footer\" data-toggle=\"collapse\" href=\"#footer-data\" aria-label=\"expand or hide footer\" aria-expanded=\"false\" aria-controls=\"footer-data\" class=\"footer-toggle-button\">\\r\\n\\t\\t        </a>\\r\\n\\t\\t    </div>\\r\\n\\t\\t</div>\\r\\n\\t\\t\\r\\n\\t\\t<!-- Footer Middle -->\\r\\n\\t\\t<div class=\"row collapse in footer-middle\" id=\"footer-data\">\\r\\n\\t\\t    <div class=\"col-sm-7 col-xs-5 text-left\">\\r\\n\\t\\t        <address>\\r\\n\\t\\t            350 Victoria Street<br>\\r\\n\\t\\t            Toronto, ON M5B 2K3<br>\\r\\n\\t\\t            <abbr title=\"Phone\">P:</abbr> 416-979-5000\\r\\n\\t\\t        </address>\\r\\n\\t\\t        <ol class=\"breadcrumb min\">\\r\\n\\t\\t            <li><a href=\"/contact/\">Directory</a></li>\\r\\n\\t\\t            <li><a href=\"/maps/\">Maps and Directions</a></li>\\r\\n\\t\\t        </ol>\\r\\n\\t\\t    </div>\\r\\n\\t\\t    <div class=\"col-sm-5 col-xs-7 text-right\">\\r\\n\\t\\t        <p>Follow Us</p>\\r\\n\\t\\t        <p>\\r\\n\\t\\t            <a href=\"https://www.facebook.com/torontomet\" target=\"_blank\"><i class=\"fa fa-facebook-f icon-circle\" title=\"Facebook\" aria-hidden=\"true\"></i><span class=\"sr-only\">Facebook, opens new window</span></a>\\r\\n\\t\\t            <a href=\"https://www.instagram.com/torontomet\" target=\"_blank\"><i class=\"fa fa-instagram icon-circle\" title=\"Instagram\" aria-hidden=\"true\"></i><span class=\"sr-only\">Instagram, opens new window</span></a>\\r\\n\\t\\t            <a href=\"https://twitter.com/torontomet\" target=\"_blank\"><i class=\"fa fa-twitter icon-circle\" title=\"Twitter\" aria-hidden=\"true\"></i><span class=\"sr-only\">Twitter, opens new window</span></a>\\r\\n\\t\\t            <a href=\"https://www.youtube.com/TorontoMetropolitanUniversity\" target=\"_blank\"><i class=\"fa fa-youtube icon-circle\" title=\"YouTube\" aria-hidden=\"true\"></i><span class=\"sr-only\">YouTube, opens new window</span></a>\\r\\n\\t\\t            <a href=\"https://www.linkedin.com/company/torontometropolitanuniversity\" target=\"_blank\"><i class=\"fa fa-linkedin icon-circle\" title=\"LinkedIn\" aria-hidden=\"true\"></i><span class=\"sr-only\">LinkedIn, opens new window</span></a>\\r\\n\\t\\t            <a href=\"https://www.tiktok.com/@torontomet\" target=\"_blank\"><i class=\"fa fa-tiktok icon-circle\" title=\"Tiktok\" aria-hidden=\"true\"></i><span class=\"sr-only\">Tiktok, opens new window</span></a>\\r\\n\\t\\t        </p>\\r\\n\\t\\t        <ol class=\"breadcrumb min\">\\r\\n\\t\\t            <li><a href=\"/jobs/\">Careers</a></li>\\r\\n\\t\\t            <li><a href=\"/media/\">Media Room</a></li>\\r\\n\\t\\t        </ol>\\r\\n\\t\\t    </div>\\r\\n\\t\\t</div>\\r\\n\\t\\t\\r\\n\\t\\t</div>\\r\\n\\t</div> <!-- top-middle-container ends -->\\r\\n\\t\\r\\n\\t<div class=\"bottom-container\"> <!-- bottom-container starts -->\\r\\n\\t\\t<div class=\"container\">\\r\\n\\t\\t\\r\\n\\t\\t<!-- Footer Bottom -->\\r\\n\\t\\t<div class=\"row footer-bottom\">\\r\\n\\t\\t    <div class=\"col-xs-12\">\\r\\n\\t\\t        <ol class=\"breadcrumb min\">\\r\\n\\t\\t            <li><a href=\"/privacy/\">Privacy Policy</a></li>\\r\\n\\t\\t            <li><a href=\"/accessibility/\">Accessibility</a></li>\\r\\n\\t\\t            <li><a href=\"/terms-conditions/\">Terms & Conditions</a></li>\\r\\n\\t\\t        </ol>\\r\\n\\t\\t    </div>\\r\\n\\t\\t</div>\\r\\n\\t\\t\\r\\n\\t\\t</div>\\r\\n\\t</div> <!-- bottom-container ends -->\\r\\n</footer>\\r\\n</div>\\n\\r\\n\\t\\t\\r\\n        \\r\\n\\r\\n\\r\\n\\r\\n\\r\\n\\r\\n\\r\\n\\r\\n\\r\\n \\r\\n        \\r\\n    \\r\\n    \\r\\n    \\r\\n    </body>\\r\\n</html> '"
      ]
     },
     "execution_count": 51,
     "metadata": {},
     "output_type": "execute_result"
    }
   ],
   "source": [
    "html.content"
   ]
  },
  {
   "attachments": {},
   "cell_type": "markdown",
   "metadata": {},
   "source": [
    "**© Dr. Muhammad Naeem Irfan. Can't be posted on the internet**"
   ]
  }
 ],
 "metadata": {
  "kernelspec": {
   "display_name": "Python 3 (ipykernel)",
   "language": "python",
   "name": "python3"
  },
  "language_info": {
   "codemirror_mode": {
    "name": "ipython",
    "version": 3
   },
   "file_extension": ".py",
   "mimetype": "text/x-python",
   "name": "python",
   "nbconvert_exporter": "python",
   "pygments_lexer": "ipython3",
   "version": "3.10.2"
  }
 },
 "nbformat": 4,
 "nbformat_minor": 1
}
