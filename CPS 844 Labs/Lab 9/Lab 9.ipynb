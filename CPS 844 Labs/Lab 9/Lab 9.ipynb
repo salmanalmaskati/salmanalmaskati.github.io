{
 "cells": [
  {
   "cell_type": "markdown",
   "metadata": {},
   "source": [
    "# <font color='blue'>Lab 9 - CCPS 844 Data Mining</font>\n",
    "### <font color='red'> Answer the following questions and submit a PDF file on the D2L.</font>\n"
   ]
  },
  {
   "cell_type": "markdown",
   "metadata": {},
   "source": [
    "**Select a dataset of your choice.**\n",
    "\n",
    "* Find number of optimal features from your dataset using the Recursive feature elimination with cross-validation.\n",
    "* Prepare a dataset with optimal features and call info and describe methods on it\n",
    "* Apply PCA on the dataset (with optimal features) to get a dataset with reduced dimenion\n",
    "* There should be a reason to pick n_components to reduce the dimension of the dataset by using PCA\n",
    "* What is the dimension of the dataset before and after applying PCA?"
   ]
  },
  {
   "cell_type": "code",
   "execution_count": null,
   "metadata": {
    "collapsed": true
   },
   "outputs": [],
   "source": []
  }
 ],
 "metadata": {
  "kernelspec": {
   "display_name": "Python 3",
   "language": "python",
   "name": "python3"
  },
  "language_info": {
   "codemirror_mode": {
    "name": "ipython",
    "version": 3
   },
   "file_extension": ".py",
   "mimetype": "text/x-python",
   "name": "python",
   "nbconvert_exporter": "python",
   "pygments_lexer": "ipython3",
   "version": "3.7.6"
  }
 },
 "nbformat": 4,
 "nbformat_minor": 2
}
