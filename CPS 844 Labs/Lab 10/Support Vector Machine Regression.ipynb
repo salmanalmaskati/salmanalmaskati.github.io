{
 "cells": [
  {
   "cell_type": "markdown",
   "metadata": {},
   "source": [
    "# <font color='blue'>Module 10 - CCPS 844 Data Mining</font>\n",
    "\n",
    "# Support Vector Machine Regression"
   ]
  },
  {
   "cell_type": "markdown",
   "metadata": {},
   "source": [
    "The method of Support Vector Classification can be extended to solve regression problems. This method is called Support Vector Regression.\n",
    "\n",
    "The model produced by support vector classification (as described above) depends only on a subset of the training data, because the cost function for building the model does not care about training points that lie beyond the margin. Analogously, the model produced by Support Vector Regression depends only on a subset of the training data, because the cost function for building the model ignores any training data close to the model prediction."
   ]
  },
  {
   "cell_type": "markdown",
   "metadata": {},
   "source": [
    "#### Creating the data"
   ]
  },
  {
   "cell_type": "code",
   "execution_count": 1,
   "metadata": {},
   "outputs": [],
   "source": [
    "X = [[0, 0], [2, 2]]\n",
    "y = [0.5, 2.5]"
   ]
  },
  {
   "cell_type": "markdown",
   "metadata": {},
   "source": [
    "#### Fit the model"
   ]
  },
  {
   "cell_type": "code",
   "execution_count": 2,
   "metadata": {},
   "outputs": [
    {
     "data": {
      "text/plain": [
       "array([1.5])"
      ]
     },
     "execution_count": 2,
     "metadata": {},
     "output_type": "execute_result"
    }
   ],
   "source": [
    "from sklearn import svm\n",
    "clf = svm.SVR()\n",
    "clf.fit(X, y) \n",
    "\"\"\"SVR(C=1.0, cache_size=200, coef0=0.0, degree=3, epsilon=0.1, gamma='auto',\n",
    "    kernel='rbf', max_iter=-1, shrinking=True, tol=0.001, verbose=False)\"\"\"\n",
    "clf.predict([[1, 1]])"
   ]
  },
  {
   "cell_type": "code",
   "execution_count": 3,
   "metadata": {},
   "outputs": [
    {
     "data": {
      "text/plain": [
       "array([0.6])"
      ]
     },
     "execution_count": 3,
     "metadata": {},
     "output_type": "execute_result"
    }
   ],
   "source": [
    "clf.predict([[0, 0]])"
   ]
  },
  {
   "cell_type": "markdown",
   "metadata": {},
   "source": [
    "Init signature: svm.SVR(kernel='rbf', degree=3, gamma='auto', coef0=0.0, tol=0.001, C=1.0, epsilon=0.1, shrinking=True, cache_size=200, verbose=False, max_iter=-1)\n",
    "Docstring:     \n",
    "Epsilon-Support Vector Regression.\n",
    "\n",
    "The free parameters in the model are C and epsilon.\n",
    "\n",
    "The implementation is based on libsvm.\n",
    "\n",
    "Read more in the :ref:`User Guide <svm_regression>`.\n",
    "\n",
    "Parameters\n",
    "----------\n",
    "C : float, optional (default=1.0)\n",
    "    Penalty parameter C of the error term.\n",
    "\n",
    "epsilon : float, optional (default=0.1)\n",
    "     Epsilon in the epsilon-SVR model. It specifies the epsilon-tube\n",
    "     within which no penalty is associated in the training loss function\n",
    "     with points predicted within a distance epsilon from the actual\n",
    "     value.\n",
    "\n",
    "kernel : string, optional (default='rbf')\n",
    "     Specifies the kernel type to be used in the algorithm.\n",
    "     It must be one of 'linear', 'poly', 'rbf', 'sigmoid', 'precomputed' or\n",
    "     a callable.\n",
    "     If none is given, 'rbf' will be used. If a callable is given it is\n",
    "     used to precompute the kernel matrix.\n",
    "\n",
    "degree : int, optional (default=3)\n",
    "    Degree of the polynomial kernel function ('poly').\n",
    "    Ignored by all other kernels.\n",
    "\n",
    "gamma : float, optional (default='auto')\n",
    "    Kernel coefficient for 'rbf', 'poly' and 'sigmoid'.\n",
    "    If gamma is 'auto' then 1/n_features will be used instead.\n",
    "\n",
    "coef0 : float, optional (default=0.0)\n",
    "    Independent term in kernel function.\n",
    "    It is only significant in 'poly' and 'sigmoid'.\n",
    "\n",
    "shrinking : boolean, optional (default=True)\n",
    "    Whether to use the shrinking heuristic.\n",
    "\n",
    "tol : float, optional (default=1e-3)\n",
    "    Tolerance for stopping criterion.\n",
    "\n",
    "cache_size : float, optional\n",
    "    Specify the size of the kernel cache (in MB).\n",
    "\n",
    "verbose : bool, default: False\n",
    "    Enable verbose output. Note that this setting takes advantage of a\n",
    "    per-process runtime setting in libsvm that, if enabled, may not work\n",
    "    properly in a multithreaded context.\n",
    "\n",
    "max_iter : int, optional (default=-1)\n",
    "    Hard limit on iterations within solver, or -1 for no limit.\n",
    "\n",
    "Attributes\n",
    "----------\n",
    "support_ : array-like, shape = [n_SV]\n",
    "    Indices of support vectors.\n",
    "\n",
    "support_vectors_ : array-like, shape = [nSV, n_features]\n",
    "    Support vectors.\n",
    "\n",
    "dual_coef_ : array, shape = [1, n_SV]\n",
    "    Coefficients of the support vector in the decision function.\n",
    "\n",
    "coef_ : array, shape = [1, n_features]\n",
    "    Weights assigned to the features (coefficients in the primal\n",
    "    problem). This is only available in the case of a linear kernel.\n",
    "\n",
    "    `coef_` is readonly property derived from `dual_coef_` and\n",
    "    `support_vectors_`.\n",
    "\n",
    "intercept_ : array, shape = [1]\n",
    "    Constants in decision function.\n",
    "\n",
    "sample_weight : array-like, shape = [n_samples]\n",
    "        Individual weights for each sample\n",
    "\n",
    "Examples\n",
    "--------\n",
    ">>> from sklearn.svm import SVR\n",
    ">>> import numpy as np\n",
    ">>> n_samples, n_features = 10, 5\n",
    ">>> np.random.seed(0)\n",
    ">>> y = np.random.randn(n_samples)\n",
    ">>> X = np.random.randn(n_samples, n_features)\n",
    ">>> clf = SVR(C=1.0, epsilon=0.2)\n",
    ">>> clf.fit(X, y) #doctest: +NORMALIZE_WHITESPACE\n",
    "SVR(C=1.0, cache_size=200, coef0=0.0, degree=3, epsilon=0.2, gamma='auto',\n",
    "    kernel='rbf', max_iter=-1, shrinking=True, tol=0.001, verbose=False)\n",
    "\n",
    "See also\n",
    "--------\n",
    "NuSVR\n",
    "    Support Vector Machine for regression implemented using libsvm\n",
    "    using a parameter to control the number of support vectors.\n",
    "\n",
    "LinearSVR\n",
    "    Scalable Linear Support Vector Machine for regression\n",
    "    implemented using liblinear.\n",
    "File:           c:\\users\\naeem\\anaconda3\\lib\\site-packages\\sklearn\\svm\\classes.py\n",
    "Type:           ABCMeta"
   ]
  },
  {
   "cell_type": "code",
   "execution_count": 4,
   "metadata": {},
   "outputs": [],
   "source": [
    "# Importing the libraries\n",
    "import numpy as np\n",
    "import matplotlib.pyplot as plt\n",
    "import pandas as pd\n",
    "\n",
    "# Importing the dataset\n",
    "dataset = pd.read_csv('Position_Salaries.csv')\n",
    "X = dataset.iloc[:, 1:2].values\n",
    "y = dataset.iloc[:, 2].values\n"
   ]
  },
  {
   "cell_type": "code",
   "execution_count": 5,
   "metadata": {},
   "outputs": [
    {
     "name": "stdout",
     "output_type": "stream",
     "text": [
      "[[ 1]\n",
      " [ 2]\n",
      " [ 3]\n",
      " [ 4]\n",
      " [ 5]\n",
      " [ 6]\n",
      " [ 7]\n",
      " [ 8]\n",
      " [ 9]\n",
      " [10]]\n"
     ]
    }
   ],
   "source": [
    "print(X)"
   ]
  },
  {
   "cell_type": "code",
   "execution_count": 6,
   "metadata": {},
   "outputs": [
    {
     "name": "stdout",
     "output_type": "stream",
     "text": [
      "[  45000   50000   60000   80000  110000  150000  200000  300000  500000\n",
      " 1000000]\n"
     ]
    }
   ],
   "source": [
    "print(y)"
   ]
  },
  {
   "cell_type": "code",
   "execution_count": 7,
   "metadata": {},
   "outputs": [
    {
     "data": {
      "text/plain": [
       "SVR(gamma='auto')"
      ]
     },
     "execution_count": 7,
     "metadata": {},
     "output_type": "execute_result"
    }
   ],
   "source": [
    "# Fitting SVR to the dataset\n",
    "from sklearn.svm import SVR\n",
    "regressor = SVR(kernel = 'rbf',gamma='auto')\n",
    "regressor.fit(X, y)\n"
   ]
  },
  {
   "cell_type": "code",
   "execution_count": 8,
   "metadata": {},
   "outputs": [
    {
     "data": {
      "text/plain": [
       "array([130001.55760156])"
      ]
     },
     "execution_count": 8,
     "metadata": {},
     "output_type": "execute_result"
    }
   ],
   "source": [
    "# Predicting a new result\n",
    "y_pred = regressor.predict([[6.5]])\n",
    "y_pred"
   ]
  },
  {
   "cell_type": "markdown",
   "metadata": {},
   "source": [
    "**Look at the Salaries and you can observe that for level 6.5, the salary should be in between 150K to 200K**"
   ]
  },
  {
   "cell_type": "code",
   "execution_count": 9,
   "metadata": {},
   "outputs": [],
   "source": [
    "# Importing the dataset\n",
    "dataset = pd.read_csv('Position_Salaries.csv')\n",
    "X = dataset.iloc[:, 1:2].values\n",
    "y = dataset.iloc[:, 2].values\n",
    "#y is 1D array converting it to 2D array\n",
    "y = np.reshape(y, (-1,1)) \n",
    "# Feature Scaling\n",
    "from sklearn.preprocessing import StandardScaler\n",
    "sc_X = StandardScaler()\n",
    "sc_y = StandardScaler()\n",
    "X = sc_X.fit_transform(X)\n",
    "y = sc_y.fit_transform(y)"
   ]
  },
  {
   "cell_type": "code",
   "execution_count": 10,
   "metadata": {},
   "outputs": [
    {
     "data": {
      "text/plain": [
       "(10, 1)"
      ]
     },
     "execution_count": 10,
     "metadata": {},
     "output_type": "execute_result"
    }
   ],
   "source": [
    "y.shape"
   ]
  },
  {
   "cell_type": "code",
   "execution_count": 11,
   "metadata": {},
   "outputs": [
    {
     "data": {
      "text/plain": [
       "array([[-0.72004253],\n",
       "       [-0.70243757],\n",
       "       [-0.66722767],\n",
       "       [-0.59680786],\n",
       "       [-0.49117815],\n",
       "       [-0.35033854],\n",
       "       [-0.17428902],\n",
       "       [ 0.17781001],\n",
       "       [ 0.88200808],\n",
       "       [ 2.64250325]])"
      ]
     },
     "execution_count": 11,
     "metadata": {},
     "output_type": "execute_result"
    }
   ],
   "source": [
    "y"
   ]
  },
  {
   "cell_type": "markdown",
   "metadata": {},
   "source": [
    "**Converting y to appropriate shape**"
   ]
  },
  {
   "cell_type": "code",
   "execution_count": 12,
   "metadata": {},
   "outputs": [
    {
     "name": "stdout",
     "output_type": "stream",
     "text": [
      "(10,)\n"
     ]
    },
    {
     "data": {
      "text/plain": [
       "array([-0.72004253, -0.70243757, -0.66722767, -0.59680786, -0.49117815,\n",
       "       -0.35033854, -0.17428902,  0.17781001,  0.88200808,  2.64250325])"
      ]
     },
     "execution_count": 12,
     "metadata": {},
     "output_type": "execute_result"
    }
   ],
   "source": [
    "import numpy as np\n",
    "y = np.ravel(y, order='F')\n",
    "print(y.shape)\n",
    "y"
   ]
  },
  {
   "cell_type": "code",
   "execution_count": 13,
   "metadata": {},
   "outputs": [
    {
     "data": {
      "text/plain": [
       "SVR()"
      ]
     },
     "execution_count": 13,
     "metadata": {},
     "output_type": "execute_result"
    }
   ],
   "source": [
    "#y = np.reshape(y, (10,)) \n",
    "# Fitting to scaled data\n",
    "regressor = SVR(kernel = 'rbf')\n",
    "regressor.fit(X, y)\n"
   ]
  },
  {
   "cell_type": "code",
   "execution_count": 14,
   "metadata": {},
   "outputs": [
    {
     "data": {
      "text/plain": [
       "array([[170370.0204065]])"
      ]
     },
     "execution_count": 14,
     "metadata": {},
     "output_type": "execute_result"
    }
   ],
   "source": [
    "# Predicting a new result\n",
    "y_pred = regressor.predict(sc_X.transform(np.array([[6.5]])))\n",
    "y_pred = sc_y.inverse_transform(y_pred.reshape(-1, 1))\n",
    "y_pred"
   ]
  }
 ],
 "metadata": {
  "kernelspec": {
   "display_name": "Python 3 (ipykernel)",
   "language": "python",
   "name": "python3"
  },
  "language_info": {
   "codemirror_mode": {
    "name": "ipython",
    "version": 3
   },
   "file_extension": ".py",
   "mimetype": "text/x-python",
   "name": "python",
   "nbconvert_exporter": "python",
   "pygments_lexer": "ipython3",
   "version": "3.9.12"
  }
 },
 "nbformat": 4,
 "nbformat_minor": 2
}
