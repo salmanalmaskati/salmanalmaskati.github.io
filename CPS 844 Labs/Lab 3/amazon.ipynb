{
 "cells": [
  {
   "cell_type": "code",
   "execution_count": 21,
   "metadata": {},
   "outputs": [],
   "source": [
    "import requests\n",
    "from bs4 import BeautifulSoup\n",
    "\n",
    "# Specify the URL of the web page\n",
    "url = 'https://www.amazon.ca/gp/new-releases/?ref_=nav_cs_newreleases'\n",
    "\n",
    "# Send a GET request to the URL and retrieve the HTML content\n",
    "response = requests.get(url)\n",
    "html_content = response.text\n",
    "\n",
    "# Create a Beautiful Soup object\n",
    "soup = BeautifulSoup(html_content, 'html.parser')\n"
   ]
  },
  {
   "cell_type": "code",
   "execution_count": 27,
   "metadata": {},
   "outputs": [
    {
     "data": {
      "text/plain": [
       "[<h2 class=\"a-carousel-heading a-inline-block\">Hot New Releases in Patio, Lawn &amp; Garden</h2>,\n",
       " <h2 class=\"a-carousel-heading a-inline-block\">Hot New Releases in Clothing &amp; Accessories</h2>,\n",
       " <h2 class=\"a-carousel-heading a-inline-block\">Hot New Releases in Health &amp; Personal Care</h2>,\n",
       " <h2 class=\"a-carousel-heading a-inline-block\">Hot New Releases in Watches</h2>,\n",
       " <h2 class=\"a-carousel-heading a-inline-block\">Hot New Releases in Home</h2>,\n",
       " <h2 class=\"a-carousel-heading a-inline-block\">Hot New Releases in Electronics</h2>]"
      ]
     },
     "execution_count": 27,
     "metadata": {},
     "output_type": "execute_result"
    }
   ],
   "source": [
    "soup.find_all(class_='a-carousel-heading a-inline-block')\n"
   ]
  },
  {
   "cell_type": "code",
   "execution_count": 33,
   "metadata": {},
   "outputs": [
    {
     "data": {
      "text/plain": [
       "<title>Amazon.ca Hot New Releases: The bestselling new &amp; future releases on Amazon</title>"
      ]
     },
     "execution_count": 33,
     "metadata": {},
     "output_type": "execute_result"
    }
   ],
   "source": [
    "soup.find('title')\n"
   ]
  },
  {
   "cell_type": "code",
   "execution_count": 34,
   "metadata": {},
   "outputs": [
    {
     "data": {
      "text/plain": [
       "<title>Amazon.ca Hot New Releases: The bestselling new &amp; future releases on Amazon</title>"
      ]
     },
     "execution_count": 34,
     "metadata": {},
     "output_type": "execute_result"
    }
   ],
   "source": [
    "soup.head.title"
   ]
  },
  {
   "cell_type": "code",
   "execution_count": 46,
   "metadata": {},
   "outputs": [],
   "source": [
    "element = soup.find(class_='p13n-sc-truncate-desktop-type2  p13n-sc-truncated')"
   ]
  },
  {
   "cell_type": "code",
   "execution_count": 103,
   "metadata": {},
   "outputs": [
    {
     "name": "stdout",
     "output_type": "stream",
     "text": [
      "Title: <title>Yoda's species | Wookieepedia | Fandom</title>\n",
      "Intro: The species to which the Jedi Grand Master Yoda belonged was ancient and shrouded in mystery. Members of this species were rarely seen anywhere in the galaxy. The few members of this species seen in the galaxy were all Force-sensitive, and the species' homeworld and name were unknown.\n",
      "\n",
      "\n",
      "Designation\n",
      "Sentient[1]\n",
      "\n",
      "\n",
      "Skin color\n",
      "Green[1]\n",
      "\n",
      "\n",
      "Hair color\n",
      "Auburn[2]White[3]\n",
      "\n",
      "\n",
      "Eye color\n",
      "Green-gold[4]Brown[5]\n",
      "\n",
      "\n",
      "Distinctions\n",
      "Long ears, three-fingered hands and three toes on the feet[3]\n",
      "\n",
      "\n",
      "Average lifespan\n",
      "At least several centuries[6]\n",
      "\n",
      "\n",
      "Homeworld\n",
      "Yoda's homeworld[7]\n",
      "\n",
      "\n",
      "Diet\n",
      "Carnivorous[source?]\n",
      "\n"
     ]
    },
    {
     "data": {
      "text/html": [
       "<div>\n",
       "<style scoped>\n",
       "    .dataframe tbody tr th:only-of-type {\n",
       "        vertical-align: middle;\n",
       "    }\n",
       "\n",
       "    .dataframe tbody tr th {\n",
       "        vertical-align: top;\n",
       "    }\n",
       "\n",
       "    .dataframe thead th {\n",
       "        text-align: right;\n",
       "    }\n",
       "</style>\n",
       "<table border=\"1\" class=\"dataframe\">\n",
       "  <thead>\n",
       "    <tr style=\"text-align: right;\">\n",
       "      <th></th>\n",
       "      <th>0</th>\n",
       "    </tr>\n",
       "  </thead>\n",
       "  <tbody>\n",
       "    <tr>\n",
       "      <th>0</th>\n",
       "      <td>DesignationSentient[1]</td>\n",
       "    </tr>\n",
       "    <tr>\n",
       "      <th>1</th>\n",
       "      <td>Skin colorGreen[1]</td>\n",
       "    </tr>\n",
       "    <tr>\n",
       "      <th>2</th>\n",
       "      <td>Hair colorAuburn[2]White[3]</td>\n",
       "    </tr>\n",
       "    <tr>\n",
       "      <th>3</th>\n",
       "      <td>Eye colorGreen-gold[4]Brown[5]</td>\n",
       "    </tr>\n",
       "    <tr>\n",
       "      <th>4</th>\n",
       "      <td>DistinctionsLong ears, three-fingered hands an...</td>\n",
       "    </tr>\n",
       "    <tr>\n",
       "      <th>5</th>\n",
       "      <td>Average lifespanAt least several centuries[6]</td>\n",
       "    </tr>\n",
       "    <tr>\n",
       "      <th>6</th>\n",
       "      <td>HomeworldYoda's homeworld[7]</td>\n",
       "    </tr>\n",
       "    <tr>\n",
       "      <th>7</th>\n",
       "      <td>DietCarnivorous</td>\n",
       "    </tr>\n",
       "  </tbody>\n",
       "</table>\n",
       "</div>"
      ],
      "text/plain": [
       "                                                   0\n",
       "0                             DesignationSentient[1]\n",
       "1                                 Skin colorGreen[1]\n",
       "2                        Hair colorAuburn[2]White[3]\n",
       "3                     Eye colorGreen-gold[4]Brown[5]\n",
       "4  DistinctionsLong ears, three-fingered hands an...\n",
       "5      Average lifespanAt least several centuries[6]\n",
       "6                       HomeworldYoda's homeworld[7]\n",
       "7                                    DietCarnivorous"
      ]
     },
     "execution_count": 103,
     "metadata": {},
     "output_type": "execute_result"
    }
   ],
   "source": [
    "from bs4 import BeautifulSoup\n",
    "import requests\n",
    "import pandas as pd\n",
    "\n",
    "# Specify the URL of the Amazon product page\n",
    "url = 'https://starwars.fandom.com/wiki/Yoda%27s_species'\n",
    "\n",
    "# Fetch the HTML content using requests\n",
    "response = requests.get(url)\n",
    "html_content = response.content\n",
    "\n",
    "# Create a Beautiful Soup object\n",
    "soup = BeautifulSoup(html_content, 'html.parser')\n",
    "\n",
    "# Find the element by class name\n",
    "title=soup.find('title')\n",
    "print(f\"Title: {title}\")\n",
    "\n",
    "intro = soup.find(lambda tag: tag.name == 'p' and 'Jedi Grand Master Yoda' in tag.get_text())\n",
    "\n",
    "# Extract the text content of the specific <p> tag\n",
    "intro_text = intro.get_text()\n",
    "print(f'Intro: {intro_text}')\n",
    "\n",
    "char_table=[]\n",
    "\n",
    "charc=soup.find_all(class_='pi-item pi-data pi-item-spacing pi-border-color')\n",
    "for tab in charc:\n",
    "    charc_text=tab.get_text()\n",
    "    char_table.append(charc_text)\n",
    "    print(charc_text)\n",
    "\n",
    "df=pd.DataFrame(char_table)\n",
    "df = df.applymap(lambda x: x.replace('\\n', ''))  # Remove newline characters\n",
    "df = df.applymap(lambda x: x.replace('[source?]', ''))  # Remove [source?] text if present\n",
    "\n",
    "df"
   ]
  },
  {
   "cell_type": "code",
   "execution_count": null,
   "metadata": {},
   "outputs": [],
   "source": []
  }
 ],
 "metadata": {
  "kernelspec": {
   "display_name": "Python 3",
   "language": "python",
   "name": "python3"
  },
  "language_info": {
   "codemirror_mode": {
    "name": "ipython",
    "version": 3
   },
   "file_extension": ".py",
   "mimetype": "text/x-python",
   "name": "python",
   "nbconvert_exporter": "python",
   "pygments_lexer": "ipython3",
   "version": "3.10.2"
  },
  "orig_nbformat": 4
 },
 "nbformat": 4,
 "nbformat_minor": 2
}
