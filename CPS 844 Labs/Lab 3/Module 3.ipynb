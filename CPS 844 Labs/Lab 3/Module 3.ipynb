{
 "cells": [
  {
   "cell_type": "markdown",
   "metadata": {},
   "source": [
    "# <font color='blue'>CCPS 844 Data Mining Module 3</font>\n",
    "\n",
    "# <font color='red'>Web Scraping</font>\n",
    "\n",
    "Web scraping, web harvesting, or web data extraction is data scraping used for extracting data from websites.\n",
    "\n",
    "The Internet provides abundant sources of information for professionals and enthusiasts from various industries. Extracting data from websites however, can be tedious, especially if you need to repeatedly retrieve data in the same format everyday.\n",
    "\n",
    "For Example: If you follow the stock market, getting closing prices everyday can be a pain, especially when you have to open several webpages to record them regularly. You can make your data extraction easier by building your own web scraper to retrieve stock indices automatically."
   ]
  },
  {
   "cell_type": "markdown",
   "metadata": {},
   "source": [
    "## <font color='red'>Scraping Rules</font>\n",
    "* You should check a website's Terms and Conditions before you scrape them. Be careful to read the statements about legal use of data, as usually, the data you scrape should not be used for commercial purposes.\n",
    "* Do not request data from the website too aggressively with your program (also known as spamming), as this may break the website. Make sure your program behaves in a reasonable manner (i.e. acts like a human), one request for one webpage per second is good practice.\n",
    "* The layout of a website may change from time to time, so make sure to revisit the site and rewrite your code as needed"
   ]
  },
  {
   "cell_type": "code",
   "execution_count": 1,
   "metadata": {},
   "outputs": [],
   "source": [
    "from lxml import html\n",
    "import requests"
   ]
  },
  {
   "cell_type": "code",
   "execution_count": 2,
   "metadata": {},
   "outputs": [
    {
     "data": {
      "text/plain": [
       "\"ï»¿<html>\\n    <head>\\n    </head>\\n    <body>\\n        <p>\\n            A status_code of 200 means that the page downloaded successfully. We won't fully dive into status codes here, but a status code starting with a 2 generally indicates success, and a code starting with a 4 or a 5 indicates an error.\\n        </p>\\n        <p>\\n            We can use the BeautifulSoup library to parse this document, and extract the text from the p tag. We first have to import the library, and create an instance of the BeautifulSoup class to parse our document.\\n        </p>\\n    </body>\\n</html>\""
      ]
     },
     "execution_count": 2,
     "metadata": {},
     "output_type": "execute_result"
    }
   ],
   "source": [
    "file = open(\"test.html\", \"r\")\n",
    "pg = file.read()\n",
    "file.close()\n",
    "pg"
   ]
  },
  {
   "cell_type": "code",
   "execution_count": 3,
   "metadata": {},
   "outputs": [
    {
     "data": {
      "text/plain": [
       "ï»¿<html>\n",
       "<head>\n",
       "</head>\n",
       "<body>\n",
       "<p>\n",
       "            A status_code of 200 means that the page downloaded successfully. We won't fully dive into status codes here, but a status code starting with a 2 generally indicates success, and a code starting with a 4 or a 5 indicates an error.\n",
       "        </p>\n",
       "<p>\n",
       "            We can use the BeautifulSoup library to parse this document, and extract the text from the p tag. We first have to import the library, and create an instance of the BeautifulSoup class to parse our document.\n",
       "        </p>\n",
       "</body>\n",
       "</html>"
      ]
     },
     "execution_count": 3,
     "metadata": {},
     "output_type": "execute_result"
    }
   ],
   "source": [
    "from bs4 import BeautifulSoup\n",
    "soup = BeautifulSoup(pg, 'html.parser')\n",
    "soup"
   ]
  },
  {
   "cell_type": "code",
   "execution_count": 4,
   "metadata": {},
   "outputs": [
    {
     "data": {
      "text/plain": [
       "[<p>\n",
       "             A status_code of 200 means that the page downloaded successfully. We won't fully dive into status codes here, but a status code starting with a 2 generally indicates success, and a code starting with a 4 or a 5 indicates an error.\n",
       "         </p>,\n",
       " <p>\n",
       "             We can use the BeautifulSoup library to parse this document, and extract the text from the p tag. We first have to import the library, and create an instance of the BeautifulSoup class to parse our document.\n",
       "         </p>]"
      ]
     },
     "execution_count": 4,
     "metadata": {},
     "output_type": "execute_result"
    }
   ],
   "source": [
    "soup.find_all('p')"
   ]
  },
  {
   "cell_type": "code",
   "execution_count": 5,
   "metadata": {},
   "outputs": [
    {
     "data": {
      "text/plain": [
       "[\"\\n            A status_code of 200 means that the page downloaded successfully. We won't fully dive into status codes here, but a status code starting with a 2 generally indicates success, and a code starting with a 4 or a 5 indicates an error.\\n        \",\n",
       " '\\n            We can use the BeautifulSoup library to parse this document, and extract the text from the p tag. We first have to import the library, and create an instance of the BeautifulSoup class to parse our document.\\n        ']"
      ]
     },
     "execution_count": 5,
     "metadata": {},
     "output_type": "execute_result"
    }
   ],
   "source": [
    "pageText = []\n",
    "for paragraph in soup.find_all('p'):\n",
    "    pageText.append(paragraph.get_text())\n",
    "    #Docstring: L.append(object) -> None -- append object to end of the list\n",
    "    \n",
    "pageText"
   ]
  },
  {
   "cell_type": "markdown",
   "metadata": {},
   "source": [
    "**Select a tokenizer of your choice**\n",
    "https://www.nltk.org/_modules/nltk/tokenize.html"
   ]
  },
  {
   "cell_type": "code",
   "execution_count": 6,
   "metadata": {},
   "outputs": [],
   "source": [
    "from nltk.tokenize.punkt import PunktSentenceTokenizer"
   ]
  },
  {
   "cell_type": "code",
   "execution_count": 7,
   "metadata": {},
   "outputs": [],
   "source": [
    "tknizer = PunktSentenceTokenizer()"
   ]
  },
  {
   "cell_type": "code",
   "execution_count": 8,
   "metadata": {},
   "outputs": [
    {
     "data": {
      "text/plain": [
       "['Hi.', 'How are you.', 'A simple example.']"
      ]
     },
     "execution_count": 8,
     "metadata": {},
     "output_type": "execute_result"
    }
   ],
   "source": [
    "#tknizer.tokenize()Docstring: Given a text, returns a list of the sentences in that text.\n",
    "#Period \".\" (full stop) is used as a delimiter\n",
    "tknizer.tokenize(\"Hi. How are you. A simple example.\")"
   ]
  },
  {
   "cell_type": "code",
   "execution_count": 9,
   "metadata": {},
   "outputs": [
    {
     "data": {
      "text/plain": [
       "['\\n            A status_code of 200 means that the page downloaded successfully.',\n",
       " \"We won't fully dive into status codes here, but a status code starting with a 2 generally indicates success, and a code starting with a 4 or a 5 indicates an error.\"]"
      ]
     },
     "execution_count": 9,
     "metadata": {},
     "output_type": "execute_result"
    }
   ],
   "source": [
    "tknizer.tokenize(pageText[0])"
   ]
  },
  {
   "cell_type": "code",
   "execution_count": 10,
   "metadata": {},
   "outputs": [],
   "source": [
    "from nltk.tokenize.regexp import WhitespaceTokenizer"
   ]
  },
  {
   "cell_type": "code",
   "execution_count": 11,
   "metadata": {},
   "outputs": [],
   "source": [
    "toknizer = WhitespaceTokenizer()"
   ]
  },
  {
   "cell_type": "code",
   "execution_count": 12,
   "metadata": {},
   "outputs": [
    {
     "name": "stdout",
     "output_type": "stream",
     "text": [
      "['A', 'status_code', 'of', '200', 'means', 'that', 'the', 'page', 'downloaded', 'successfully.', 'We', \"won't\", 'fully', 'dive', 'into', 'status', 'codes', 'here,', 'but', 'a', 'status', 'code', 'starting', 'with', 'a', '2', 'generally', 'indicates', 'success,', 'and', 'a', 'code', 'starting', 'with', 'a', '4', 'or', 'a', '5', 'indicates', 'an', 'error.']\n"
     ]
    }
   ],
   "source": [
    "print(toknizer.tokenize(pageText[0]))"
   ]
  },
  {
   "cell_type": "code",
   "execution_count": 13,
   "metadata": {},
   "outputs": [
    {
     "name": "stdout",
     "output_type": "stream",
     "text": [
      "['A', 'status_code', 'of', '200', 'means', 'that', 'the', 'page', 'downloaded', 'successfully.', 'We', \"won't\", 'fully', 'dive', 'into', 'status', 'codes', 'here,', 'but', 'a', 'status', 'code', 'starting', 'with', 'a', '2', 'generally', 'indicates', 'success,', 'and', 'a', 'code', 'starting', 'with', 'a', '4', 'or', 'a', '5', 'indicates', 'an', 'error.', 'We', 'can', 'use', 'the', 'BeautifulSoup', 'library', 'to', 'parse', 'this', 'document,', 'and', 'extract', 'the', 'text', 'from', 'the', 'p', 'tag.', 'We', 'first', 'have', 'to', 'import', 'the', 'library,', 'and', 'create', 'an', 'instance', 'of', 'the', 'BeautifulSoup', 'class', 'to', 'parse', 'our', 'document.']\n"
     ]
    }
   ],
   "source": [
    "words = []\n",
    "for txt in pageText:\n",
    "    # following script can be used, if we don't want to use the toknizer library\n",
    "    # dictionaryU1.extend(twt.lower().strip().strip('\"').strip(\"'\").split())\n",
    "    words.extend(toknizer.tokenize(txt))\n",
    "    #extend() Docstring: L.extend(iterable) -> None -- extend list by appending elements from the iterable\n",
    "print(words)"
   ]
  },
  {
   "cell_type": "code",
   "execution_count": 14,
   "metadata": {},
   "outputs": [
    {
     "name": "stdout",
     "output_type": "stream",
     "text": [
      "{'A': 1, 'status_code': 1, 'of': 2, '200': 1, 'means': 1, 'that': 1, 'the': 6, 'page': 1, 'downloaded': 1, 'successfully.': 1, 'We': 3, \"won't\": 1, 'fully': 1, 'dive': 1, 'into': 1, 'status': 2, 'codes': 1, 'here,': 1, 'but': 1, 'a': 5, 'code': 2, 'starting': 2, 'with': 2, '2': 1, 'generally': 1, 'indicates': 2, 'success,': 1, 'and': 3, '4': 1, 'or': 1, '5': 1, 'an': 2, 'error.': 1, 'can': 1, 'use': 1, 'BeautifulSoup': 2, 'library': 1, 'to': 3, 'parse': 2, 'this': 1, 'document,': 1, 'extract': 1, 'text': 1, 'from': 1, 'p': 1, 'tag.': 1, 'first': 1, 'have': 1, 'import': 1, 'library,': 1, 'create': 1, 'instance': 1, 'class': 1, 'our': 1, 'document.': 1}\n"
     ]
    }
   ],
   "source": [
    "dictForDF = {}\n",
    "for aWord in words:\n",
    "    dictForDF[aWord] = dictForDF.get(aWord,0)+1\n",
    "print(dictForDF)"
   ]
  },
  {
   "cell_type": "code",
   "execution_count": 15,
   "metadata": {},
   "outputs": [
    {
     "data": {
      "text/html": [
       "<div>\n",
       "<style scoped>\n",
       "    .dataframe tbody tr th:only-of-type {\n",
       "        vertical-align: middle;\n",
       "    }\n",
       "\n",
       "    .dataframe tbody tr th {\n",
       "        vertical-align: top;\n",
       "    }\n",
       "\n",
       "    .dataframe thead th {\n",
       "        text-align: right;\n",
       "    }\n",
       "</style>\n",
       "<table border=\"1\" class=\"dataframe\">\n",
       "  <thead>\n",
       "    <tr style=\"text-align: right;\">\n",
       "      <th></th>\n",
       "      <th>words</th>\n",
       "    </tr>\n",
       "  </thead>\n",
       "  <tbody>\n",
       "    <tr>\n",
       "      <th>0</th>\n",
       "      <td>A</td>\n",
       "    </tr>\n",
       "    <tr>\n",
       "      <th>1</th>\n",
       "      <td>status_code</td>\n",
       "    </tr>\n",
       "    <tr>\n",
       "      <th>2</th>\n",
       "      <td>of</td>\n",
       "    </tr>\n",
       "    <tr>\n",
       "      <th>3</th>\n",
       "      <td>200</td>\n",
       "    </tr>\n",
       "    <tr>\n",
       "      <th>4</th>\n",
       "      <td>means</td>\n",
       "    </tr>\n",
       "    <tr>\n",
       "      <th>5</th>\n",
       "      <td>that</td>\n",
       "    </tr>\n",
       "    <tr>\n",
       "      <th>6</th>\n",
       "      <td>the</td>\n",
       "    </tr>\n",
       "    <tr>\n",
       "      <th>7</th>\n",
       "      <td>page</td>\n",
       "    </tr>\n",
       "    <tr>\n",
       "      <th>8</th>\n",
       "      <td>downloaded</td>\n",
       "    </tr>\n",
       "    <tr>\n",
       "      <th>9</th>\n",
       "      <td>successfully.</td>\n",
       "    </tr>\n",
       "  </tbody>\n",
       "</table>\n",
       "</div>"
      ],
      "text/plain": [
       "           words\n",
       "0              A\n",
       "1    status_code\n",
       "2             of\n",
       "3            200\n",
       "4          means\n",
       "5           that\n",
       "6            the\n",
       "7           page\n",
       "8     downloaded\n",
       "9  successfully."
      ]
     },
     "execution_count": 15,
     "metadata": {},
     "output_type": "execute_result"
    }
   ],
   "source": [
    "import pandas as pd\n",
    "dfWords = pd.DataFrame(words,columns=[\"words\"])\n",
    "dfWords.head(10)"
   ]
  },
  {
   "cell_type": "code",
   "execution_count": 16,
   "metadata": {},
   "outputs": [
    {
     "data": {
      "text/html": [
       "<div>\n",
       "<style scoped>\n",
       "    .dataframe tbody tr th:only-of-type {\n",
       "        vertical-align: middle;\n",
       "    }\n",
       "\n",
       "    .dataframe tbody tr th {\n",
       "        vertical-align: top;\n",
       "    }\n",
       "\n",
       "    .dataframe thead th {\n",
       "        text-align: right;\n",
       "    }\n",
       "</style>\n",
       "<table border=\"1\" class=\"dataframe\">\n",
       "  <thead>\n",
       "    <tr style=\"text-align: right;\">\n",
       "      <th></th>\n",
       "      <th>words</th>\n",
       "    </tr>\n",
       "  </thead>\n",
       "  <tbody>\n",
       "    <tr>\n",
       "      <th>the</th>\n",
       "      <td>6</td>\n",
       "    </tr>\n",
       "    <tr>\n",
       "      <th>a</th>\n",
       "      <td>5</td>\n",
       "    </tr>\n",
       "    <tr>\n",
       "      <th>and</th>\n",
       "      <td>3</td>\n",
       "    </tr>\n",
       "    <tr>\n",
       "      <th>to</th>\n",
       "      <td>3</td>\n",
       "    </tr>\n",
       "    <tr>\n",
       "      <th>We</th>\n",
       "      <td>3</td>\n",
       "    </tr>\n",
       "    <tr>\n",
       "      <th>status</th>\n",
       "      <td>2</td>\n",
       "    </tr>\n",
       "    <tr>\n",
       "      <th>BeautifulSoup</th>\n",
       "      <td>2</td>\n",
       "    </tr>\n",
       "    <tr>\n",
       "      <th>parse</th>\n",
       "      <td>2</td>\n",
       "    </tr>\n",
       "    <tr>\n",
       "      <th>indicates</th>\n",
       "      <td>2</td>\n",
       "    </tr>\n",
       "    <tr>\n",
       "      <th>with</th>\n",
       "      <td>2</td>\n",
       "    </tr>\n",
       "    <tr>\n",
       "      <th>starting</th>\n",
       "      <td>2</td>\n",
       "    </tr>\n",
       "    <tr>\n",
       "      <th>code</th>\n",
       "      <td>2</td>\n",
       "    </tr>\n",
       "    <tr>\n",
       "      <th>an</th>\n",
       "      <td>2</td>\n",
       "    </tr>\n",
       "    <tr>\n",
       "      <th>of</th>\n",
       "      <td>2</td>\n",
       "    </tr>\n",
       "    <tr>\n",
       "      <th>tag.</th>\n",
       "      <td>1</td>\n",
       "    </tr>\n",
       "    <tr>\n",
       "      <th>document,</th>\n",
       "      <td>1</td>\n",
       "    </tr>\n",
       "    <tr>\n",
       "      <th>use</th>\n",
       "      <td>1</td>\n",
       "    </tr>\n",
       "    <tr>\n",
       "      <th>library</th>\n",
       "      <td>1</td>\n",
       "    </tr>\n",
       "    <tr>\n",
       "      <th>our</th>\n",
       "      <td>1</td>\n",
       "    </tr>\n",
       "    <tr>\n",
       "      <th>class</th>\n",
       "      <td>1</td>\n",
       "    </tr>\n",
       "    <tr>\n",
       "      <th>instance</th>\n",
       "      <td>1</td>\n",
       "    </tr>\n",
       "    <tr>\n",
       "      <th>this</th>\n",
       "      <td>1</td>\n",
       "    </tr>\n",
       "    <tr>\n",
       "      <th>create</th>\n",
       "      <td>1</td>\n",
       "    </tr>\n",
       "    <tr>\n",
       "      <th>p</th>\n",
       "      <td>1</td>\n",
       "    </tr>\n",
       "    <tr>\n",
       "      <th>library,</th>\n",
       "      <td>1</td>\n",
       "    </tr>\n",
       "    <tr>\n",
       "      <th>import</th>\n",
       "      <td>1</td>\n",
       "    </tr>\n",
       "    <tr>\n",
       "      <th>have</th>\n",
       "      <td>1</td>\n",
       "    </tr>\n",
       "    <tr>\n",
       "      <th>extract</th>\n",
       "      <td>1</td>\n",
       "    </tr>\n",
       "    <tr>\n",
       "      <th>text</th>\n",
       "      <td>1</td>\n",
       "    </tr>\n",
       "    <tr>\n",
       "      <th>can</th>\n",
       "      <td>1</td>\n",
       "    </tr>\n",
       "    <tr>\n",
       "      <th>first</th>\n",
       "      <td>1</td>\n",
       "    </tr>\n",
       "    <tr>\n",
       "      <th>from</th>\n",
       "      <td>1</td>\n",
       "    </tr>\n",
       "    <tr>\n",
       "      <th>A</th>\n",
       "      <td>1</td>\n",
       "    </tr>\n",
       "    <tr>\n",
       "      <th>error.</th>\n",
       "      <td>1</td>\n",
       "    </tr>\n",
       "    <tr>\n",
       "      <th>5</th>\n",
       "      <td>1</td>\n",
       "    </tr>\n",
       "    <tr>\n",
       "      <th>200</th>\n",
       "      <td>1</td>\n",
       "    </tr>\n",
       "    <tr>\n",
       "      <th>means</th>\n",
       "      <td>1</td>\n",
       "    </tr>\n",
       "    <tr>\n",
       "      <th>that</th>\n",
       "      <td>1</td>\n",
       "    </tr>\n",
       "    <tr>\n",
       "      <th>page</th>\n",
       "      <td>1</td>\n",
       "    </tr>\n",
       "    <tr>\n",
       "      <th>downloaded</th>\n",
       "      <td>1</td>\n",
       "    </tr>\n",
       "    <tr>\n",
       "      <th>successfully.</th>\n",
       "      <td>1</td>\n",
       "    </tr>\n",
       "    <tr>\n",
       "      <th>won't</th>\n",
       "      <td>1</td>\n",
       "    </tr>\n",
       "    <tr>\n",
       "      <th>fully</th>\n",
       "      <td>1</td>\n",
       "    </tr>\n",
       "    <tr>\n",
       "      <th>dive</th>\n",
       "      <td>1</td>\n",
       "    </tr>\n",
       "    <tr>\n",
       "      <th>into</th>\n",
       "      <td>1</td>\n",
       "    </tr>\n",
       "    <tr>\n",
       "      <th>codes</th>\n",
       "      <td>1</td>\n",
       "    </tr>\n",
       "    <tr>\n",
       "      <th>here,</th>\n",
       "      <td>1</td>\n",
       "    </tr>\n",
       "    <tr>\n",
       "      <th>but</th>\n",
       "      <td>1</td>\n",
       "    </tr>\n",
       "    <tr>\n",
       "      <th>2</th>\n",
       "      <td>1</td>\n",
       "    </tr>\n",
       "    <tr>\n",
       "      <th>generally</th>\n",
       "      <td>1</td>\n",
       "    </tr>\n",
       "    <tr>\n",
       "      <th>success,</th>\n",
       "      <td>1</td>\n",
       "    </tr>\n",
       "    <tr>\n",
       "      <th>status_code</th>\n",
       "      <td>1</td>\n",
       "    </tr>\n",
       "    <tr>\n",
       "      <th>4</th>\n",
       "      <td>1</td>\n",
       "    </tr>\n",
       "    <tr>\n",
       "      <th>or</th>\n",
       "      <td>1</td>\n",
       "    </tr>\n",
       "    <tr>\n",
       "      <th>document.</th>\n",
       "      <td>1</td>\n",
       "    </tr>\n",
       "  </tbody>\n",
       "</table>\n",
       "</div>"
      ],
      "text/plain": [
       "               words\n",
       "the                6\n",
       "a                  5\n",
       "and                3\n",
       "to                 3\n",
       "We                 3\n",
       "status             2\n",
       "BeautifulSoup      2\n",
       "parse              2\n",
       "indicates          2\n",
       "with               2\n",
       "starting           2\n",
       "code               2\n",
       "an                 2\n",
       "of                 2\n",
       "tag.               1\n",
       "document,          1\n",
       "use                1\n",
       "library            1\n",
       "our                1\n",
       "class              1\n",
       "instance           1\n",
       "this               1\n",
       "create             1\n",
       "p                  1\n",
       "library,           1\n",
       "import             1\n",
       "have               1\n",
       "extract            1\n",
       "text               1\n",
       "can                1\n",
       "first              1\n",
       "from               1\n",
       "A                  1\n",
       "error.             1\n",
       "5                  1\n",
       "200                1\n",
       "means              1\n",
       "that               1\n",
       "page               1\n",
       "downloaded         1\n",
       "successfully.      1\n",
       "won't              1\n",
       "fully              1\n",
       "dive               1\n",
       "into               1\n",
       "codes              1\n",
       "here,              1\n",
       "but                1\n",
       "2                  1\n",
       "generally          1\n",
       "success,           1\n",
       "status_code        1\n",
       "4                  1\n",
       "or                 1\n",
       "document.          1"
      ]
     },
     "execution_count": 16,
     "metadata": {},
     "output_type": "execute_result"
    }
   ],
   "source": [
    "dfc = pd.DataFrame(dfWords.words.value_counts())\n",
    "dfc"
   ]
  },
  {
   "cell_type": "code",
   "execution_count": 17,
   "metadata": {},
   "outputs": [
    {
     "data": {
      "text/plain": [
       "Index(['words'], dtype='object')"
      ]
     },
     "execution_count": 17,
     "metadata": {},
     "output_type": "execute_result"
    }
   ],
   "source": [
    "dfc.columns"
   ]
  },
  {
   "cell_type": "code",
   "execution_count": 18,
   "metadata": {},
   "outputs": [
    {
     "data": {
      "text/html": [
       "<div>\n",
       "<style scoped>\n",
       "    .dataframe tbody tr th:only-of-type {\n",
       "        vertical-align: middle;\n",
       "    }\n",
       "\n",
       "    .dataframe tbody tr th {\n",
       "        vertical-align: top;\n",
       "    }\n",
       "\n",
       "    .dataframe thead th {\n",
       "        text-align: right;\n",
       "    }\n",
       "</style>\n",
       "<table border=\"1\" class=\"dataframe\">\n",
       "  <thead>\n",
       "    <tr style=\"text-align: right;\">\n",
       "      <th></th>\n",
       "      <th>Count</th>\n",
       "    </tr>\n",
       "  </thead>\n",
       "  <tbody>\n",
       "    <tr>\n",
       "      <th>the</th>\n",
       "      <td>6</td>\n",
       "    </tr>\n",
       "    <tr>\n",
       "      <th>a</th>\n",
       "      <td>5</td>\n",
       "    </tr>\n",
       "    <tr>\n",
       "      <th>and</th>\n",
       "      <td>3</td>\n",
       "    </tr>\n",
       "    <tr>\n",
       "      <th>to</th>\n",
       "      <td>3</td>\n",
       "    </tr>\n",
       "    <tr>\n",
       "      <th>We</th>\n",
       "      <td>3</td>\n",
       "    </tr>\n",
       "    <tr>\n",
       "      <th>status</th>\n",
       "      <td>2</td>\n",
       "    </tr>\n",
       "    <tr>\n",
       "      <th>BeautifulSoup</th>\n",
       "      <td>2</td>\n",
       "    </tr>\n",
       "    <tr>\n",
       "      <th>parse</th>\n",
       "      <td>2</td>\n",
       "    </tr>\n",
       "    <tr>\n",
       "      <th>indicates</th>\n",
       "      <td>2</td>\n",
       "    </tr>\n",
       "    <tr>\n",
       "      <th>with</th>\n",
       "      <td>2</td>\n",
       "    </tr>\n",
       "    <tr>\n",
       "      <th>starting</th>\n",
       "      <td>2</td>\n",
       "    </tr>\n",
       "    <tr>\n",
       "      <th>code</th>\n",
       "      <td>2</td>\n",
       "    </tr>\n",
       "    <tr>\n",
       "      <th>an</th>\n",
       "      <td>2</td>\n",
       "    </tr>\n",
       "    <tr>\n",
       "      <th>of</th>\n",
       "      <td>2</td>\n",
       "    </tr>\n",
       "    <tr>\n",
       "      <th>tag.</th>\n",
       "      <td>1</td>\n",
       "    </tr>\n",
       "    <tr>\n",
       "      <th>document,</th>\n",
       "      <td>1</td>\n",
       "    </tr>\n",
       "    <tr>\n",
       "      <th>use</th>\n",
       "      <td>1</td>\n",
       "    </tr>\n",
       "    <tr>\n",
       "      <th>library</th>\n",
       "      <td>1</td>\n",
       "    </tr>\n",
       "    <tr>\n",
       "      <th>our</th>\n",
       "      <td>1</td>\n",
       "    </tr>\n",
       "    <tr>\n",
       "      <th>class</th>\n",
       "      <td>1</td>\n",
       "    </tr>\n",
       "    <tr>\n",
       "      <th>instance</th>\n",
       "      <td>1</td>\n",
       "    </tr>\n",
       "    <tr>\n",
       "      <th>this</th>\n",
       "      <td>1</td>\n",
       "    </tr>\n",
       "    <tr>\n",
       "      <th>create</th>\n",
       "      <td>1</td>\n",
       "    </tr>\n",
       "    <tr>\n",
       "      <th>p</th>\n",
       "      <td>1</td>\n",
       "    </tr>\n",
       "    <tr>\n",
       "      <th>library,</th>\n",
       "      <td>1</td>\n",
       "    </tr>\n",
       "    <tr>\n",
       "      <th>import</th>\n",
       "      <td>1</td>\n",
       "    </tr>\n",
       "    <tr>\n",
       "      <th>have</th>\n",
       "      <td>1</td>\n",
       "    </tr>\n",
       "    <tr>\n",
       "      <th>extract</th>\n",
       "      <td>1</td>\n",
       "    </tr>\n",
       "    <tr>\n",
       "      <th>text</th>\n",
       "      <td>1</td>\n",
       "    </tr>\n",
       "    <tr>\n",
       "      <th>can</th>\n",
       "      <td>1</td>\n",
       "    </tr>\n",
       "    <tr>\n",
       "      <th>first</th>\n",
       "      <td>1</td>\n",
       "    </tr>\n",
       "    <tr>\n",
       "      <th>from</th>\n",
       "      <td>1</td>\n",
       "    </tr>\n",
       "    <tr>\n",
       "      <th>A</th>\n",
       "      <td>1</td>\n",
       "    </tr>\n",
       "    <tr>\n",
       "      <th>error.</th>\n",
       "      <td>1</td>\n",
       "    </tr>\n",
       "    <tr>\n",
       "      <th>5</th>\n",
       "      <td>1</td>\n",
       "    </tr>\n",
       "    <tr>\n",
       "      <th>200</th>\n",
       "      <td>1</td>\n",
       "    </tr>\n",
       "    <tr>\n",
       "      <th>means</th>\n",
       "      <td>1</td>\n",
       "    </tr>\n",
       "    <tr>\n",
       "      <th>that</th>\n",
       "      <td>1</td>\n",
       "    </tr>\n",
       "    <tr>\n",
       "      <th>page</th>\n",
       "      <td>1</td>\n",
       "    </tr>\n",
       "    <tr>\n",
       "      <th>downloaded</th>\n",
       "      <td>1</td>\n",
       "    </tr>\n",
       "    <tr>\n",
       "      <th>successfully.</th>\n",
       "      <td>1</td>\n",
       "    </tr>\n",
       "    <tr>\n",
       "      <th>won't</th>\n",
       "      <td>1</td>\n",
       "    </tr>\n",
       "    <tr>\n",
       "      <th>fully</th>\n",
       "      <td>1</td>\n",
       "    </tr>\n",
       "    <tr>\n",
       "      <th>dive</th>\n",
       "      <td>1</td>\n",
       "    </tr>\n",
       "    <tr>\n",
       "      <th>into</th>\n",
       "      <td>1</td>\n",
       "    </tr>\n",
       "    <tr>\n",
       "      <th>codes</th>\n",
       "      <td>1</td>\n",
       "    </tr>\n",
       "    <tr>\n",
       "      <th>here,</th>\n",
       "      <td>1</td>\n",
       "    </tr>\n",
       "    <tr>\n",
       "      <th>but</th>\n",
       "      <td>1</td>\n",
       "    </tr>\n",
       "    <tr>\n",
       "      <th>2</th>\n",
       "      <td>1</td>\n",
       "    </tr>\n",
       "    <tr>\n",
       "      <th>generally</th>\n",
       "      <td>1</td>\n",
       "    </tr>\n",
       "    <tr>\n",
       "      <th>success,</th>\n",
       "      <td>1</td>\n",
       "    </tr>\n",
       "    <tr>\n",
       "      <th>status_code</th>\n",
       "      <td>1</td>\n",
       "    </tr>\n",
       "    <tr>\n",
       "      <th>4</th>\n",
       "      <td>1</td>\n",
       "    </tr>\n",
       "    <tr>\n",
       "      <th>or</th>\n",
       "      <td>1</td>\n",
       "    </tr>\n",
       "    <tr>\n",
       "      <th>document.</th>\n",
       "      <td>1</td>\n",
       "    </tr>\n",
       "  </tbody>\n",
       "</table>\n",
       "</div>"
      ],
      "text/plain": [
       "               Count\n",
       "the                6\n",
       "a                  5\n",
       "and                3\n",
       "to                 3\n",
       "We                 3\n",
       "status             2\n",
       "BeautifulSoup      2\n",
       "parse              2\n",
       "indicates          2\n",
       "with               2\n",
       "starting           2\n",
       "code               2\n",
       "an                 2\n",
       "of                 2\n",
       "tag.               1\n",
       "document,          1\n",
       "use                1\n",
       "library            1\n",
       "our                1\n",
       "class              1\n",
       "instance           1\n",
       "this               1\n",
       "create             1\n",
       "p                  1\n",
       "library,           1\n",
       "import             1\n",
       "have               1\n",
       "extract            1\n",
       "text               1\n",
       "can                1\n",
       "first              1\n",
       "from               1\n",
       "A                  1\n",
       "error.             1\n",
       "5                  1\n",
       "200                1\n",
       "means              1\n",
       "that               1\n",
       "page               1\n",
       "downloaded         1\n",
       "successfully.      1\n",
       "won't              1\n",
       "fully              1\n",
       "dive               1\n",
       "into               1\n",
       "codes              1\n",
       "here,              1\n",
       "but                1\n",
       "2                  1\n",
       "generally          1\n",
       "success,           1\n",
       "status_code        1\n",
       "4                  1\n",
       "or                 1\n",
       "document.          1"
      ]
     },
     "execution_count": 18,
     "metadata": {},
     "output_type": "execute_result"
    }
   ],
   "source": [
    "dfc = dfc.rename(index=str, columns={\"words\": \"Count\"})\n",
    "dfc"
   ]
  },
  {
   "cell_type": "code",
   "execution_count": 19,
   "metadata": {},
   "outputs": [
    {
     "name": "stdout",
     "output_type": "stream",
     "text": [
      "{'Count': {'the': 6, 'a': 5, 'and': 3, 'to': 3, 'We': 3, 'status': 2, 'BeautifulSoup': 2, 'parse': 2, 'indicates': 2, 'with': 2, 'starting': 2, 'code': 2, 'an': 2, 'of': 2, 'tag.': 1, 'document,': 1, 'use': 1, 'library': 1, 'our': 1, 'class': 1, 'instance': 1, 'this': 1, 'create': 1, 'p': 1, 'library,': 1, 'import': 1, 'have': 1, 'extract': 1, 'text': 1, 'can': 1, 'first': 1, 'from': 1, 'A': 1, 'error.': 1, '5': 1, '200': 1, 'means': 1, 'that': 1, 'page': 1, 'downloaded': 1, 'successfully.': 1, \"won't\": 1, 'fully': 1, 'dive': 1, 'into': 1, 'codes': 1, 'here,': 1, 'but': 1, '2': 1, 'generally': 1, 'success,': 1, 'status_code': 1, '4': 1, 'or': 1, 'document.': 1}}\n"
     ]
    }
   ],
   "source": [
    "print(dfc.to_dict())"
   ]
  },
  {
   "cell_type": "code",
   "execution_count": 20,
   "metadata": {},
   "outputs": [
    {
     "name": "stdout",
     "output_type": "stream",
     "text": [
      "{'A': 1, 'status_code': 1, 'of': 2, '200': 1, 'means': 1, 'that': 1, 'the': 6, 'page': 1, 'downloaded': 1, 'successfully.': 1, 'We': 3, \"won't\": 1, 'fully': 1, 'dive': 1, 'into': 1, 'status': 2, 'codes': 1, 'here,': 1, 'but': 1, 'a': 5, 'code': 2, 'starting': 2, 'with': 2, '2': 1, 'generally': 1, 'indicates': 2, 'success,': 1, 'and': 3, '4': 1, 'or': 1, '5': 1, 'an': 2, 'error.': 1, 'can': 1, 'use': 1, 'BeautifulSoup': 2, 'library': 1, 'to': 3, 'parse': 2, 'this': 1, 'document,': 1, 'extract': 1, 'text': 1, 'from': 1, 'p': 1, 'tag.': 1, 'first': 1, 'have': 1, 'import': 1, 'library,': 1, 'create': 1, 'instance': 1, 'class': 1, 'our': 1, 'document.': 1}\n"
     ]
    }
   ],
   "source": [
    "print(dictForDF)"
   ]
  },
  {
   "cell_type": "markdown",
   "metadata": {},
   "source": [
    "https://en.wikipedia.org/wiki/Bag-of-words_model"
   ]
  },
  {
   "cell_type": "markdown",
   "metadata": {},
   "source": [
    "1. John likes to watch movies. Mary likes movies too.\n",
    "2. John also likes to watch football games."
   ]
  },
  {
   "cell_type": "markdown",
   "metadata": {},
   "source": [
    "1. BoW1 = {\"John\":1,\"likes\":2,\"to\":1,\"watch\":1,\"movies\":2,\"Mary\":1,\"too\":1};\n",
    "2. BoW2 = {\"John\":1,\"also\":1,\"likes\":1,\"to\":1,\"watch\":1,\"football\":1,\"games\":1};"
   ]
  },
  {
   "cell_type": "markdown",
   "metadata": {},
   "source": [
    "1. [1, 2, 1, 1, 2, 1, 1, 0, 0, 0]\n",
    "2. [1, 1, 1, 1, 0, 0, 0, 1, 1, 1]"
   ]
  },
  {
   "cell_type": "code",
   "execution_count": 21,
   "metadata": {},
   "outputs": [],
   "source": [
    "file = open('001.html')\n",
    "#001.html was copied from http://econpy.pythonanywhere.com/ex/001.html\n",
    "page = file.read()\n",
    "file.close()"
   ]
  },
  {
   "cell_type": "markdown",
   "metadata": {},
   "source": [
    "**If instead of the 001.html file, there was a URL, we could have used the following method**\n",
    "Signature: requests.get(url, params=None, **kwargs)\n",
    "Docstring:\n",
    "Sends a GET request.\n",
    "\n",
    ":param url: URL for the new :class:`Request` object.\n",
    ":param params: (optional) Dictionary or bytes to be sent in the query string for the :class:`Request`.\n",
    ":param \\*\\*kwargs: Optional arguments that ``request`` takes.\n",
    ":return: :class:`Response <Response>` object\n",
    ":rtype: requests.Response\n",
    "File:      c:\\programdata\\anaconda3\\lib\\site-packages\\requests\\api.py\n",
    "Type:      function"
   ]
  },
  {
   "cell_type": "code",
   "execution_count": 22,
   "metadata": {},
   "outputs": [
    {
     "data": {
      "text/plain": [
       "<!DOCTYPE html>\n",
       "\n",
       "<html>\n",
       "<head>\n",
       "<meta charset=\"utf-8\"/>\n",
       "<title>Items 1 to 20 -- Example Page 1</title>\n",
       "<script type=\"text/javascript\">\n",
       "      var _gaq = _gaq || [];\n",
       "      _gaq.push(['_setAccount', 'UA-23648880-1']);\n",
       "      _gaq.push(['_trackPageview']);\n",
       "      _gaq.push(['_setDomainName', 'econpy.org']);\n",
       "    </script>\n",
       "</head>\n",
       "<body>\n",
       "<div align=\"center\">1, <a href=\"http://econpy.pythonanywhere.com/ex/002.html\">[<font color=\"green\">2</font>]</a>, <a href=\"http://econpy.pythonanywhere.com/ex/003.html\">[<font color=\"green\">3</font>]</a>, <a href=\"http://econpy.pythonanywhere.com/ex/004.html\">[<font color=\"green\">4</font>]</a>, <a href=\"http://econpy.pythonanywhere.com/ex/005.html\">[<font color=\"green\">5</font>]</a></div>\n",
       "<div title=\"buyer-info\">\n",
       "<div title=\"buyer-name\">Carson Busses</div>\n",
       "<span class=\"item-price\">$29.95</span><br/>\n",
       "</div>\n",
       "<div title=\"buyer-info\">\n",
       "<div title=\"buyer-name\">Earl E. Byrd</div>\n",
       "<span class=\"item-price\">$8.37</span><br/>\n",
       "</div>\n",
       "<div title=\"buyer-info\">\n",
       "<div title=\"buyer-name\">Patty Cakes</div>\n",
       "<span class=\"item-price\">$15.26</span><br/>\n",
       "</div>\n",
       "<div title=\"buyer-info\">\n",
       "<div title=\"buyer-name\">Derri Anne Connecticut</div>\n",
       "<span class=\"item-price\">$19.25</span><br/>\n",
       "</div>\n",
       "<div title=\"buyer-info\">\n",
       "<div title=\"buyer-name\">Moe Dess</div>\n",
       "<span class=\"item-price\">$19.25</span><br/>\n",
       "</div>\n",
       "<div title=\"buyer-info\">\n",
       "<div title=\"buyer-name\">Leda Doggslife</div>\n",
       "<span class=\"item-price\">$13.99</span><br/>\n",
       "</div>\n",
       "<div title=\"buyer-info\">\n",
       "<div title=\"buyer-name\">Dan Druff</div>\n",
       "<span class=\"item-price\">$31.57</span><br/>\n",
       "</div>\n",
       "<div title=\"buyer-info\">\n",
       "<div title=\"buyer-name\">Al Fresco</div>\n",
       "<span class=\"item-price\">$8.49</span><br/>\n",
       "</div>\n",
       "<div title=\"buyer-info\">\n",
       "<div title=\"buyer-name\">Ido Hoe</div>\n",
       "<span class=\"item-price\">$14.47</span><br/>\n",
       "</div>\n",
       "<div title=\"buyer-info\">\n",
       "<div title=\"buyer-name\">Howie Kisses</div>\n",
       "<span class=\"item-price\">$15.86</span><br/>\n",
       "</div>\n",
       "<div title=\"buyer-info\">\n",
       "<div title=\"buyer-name\">Len Lease</div>\n",
       "<span class=\"item-price\">$11.11</span><br/>\n",
       "</div>\n",
       "<div title=\"buyer-info\">\n",
       "<div title=\"buyer-name\">Phil Meup</div>\n",
       "<span class=\"item-price\">$15.98</span><br/>\n",
       "</div>\n",
       "<div title=\"buyer-info\">\n",
       "<div title=\"buyer-name\">Ira Pent</div>\n",
       "<span class=\"item-price\">$16.27</span><br/>\n",
       "</div>\n",
       "<div title=\"buyer-info\">\n",
       "<div title=\"buyer-name\">Ben D. Rules</div>\n",
       "<span class=\"item-price\">$7.50</span><br/>\n",
       "</div>\n",
       "<div title=\"buyer-info\">\n",
       "<div title=\"buyer-name\">Ave Sectomy</div>\n",
       "<span class=\"item-price\">$50.85</span><br/>\n",
       "</div>\n",
       "<div title=\"buyer-info\">\n",
       "<div title=\"buyer-name\">Gary Shattire</div>\n",
       "<span class=\"item-price\">$14.26</span><br/>\n",
       "</div>\n",
       "<div title=\"buyer-info\">\n",
       "<div title=\"buyer-name\">Bobbi Soks</div>\n",
       "<span class=\"item-price\">$5.68</span><br/>\n",
       "</div>\n",
       "<div title=\"buyer-info\">\n",
       "<div title=\"buyer-name\">Sheila Takya</div>\n",
       "<span class=\"item-price\">$15.00</span><br/>\n",
       "</div>\n",
       "<div title=\"buyer-info\">\n",
       "<div title=\"buyer-name\">Rose Tattoo</div>\n",
       "<span class=\"item-price\">$114.07</span><br/>\n",
       "</div>\n",
       "<div title=\"buyer-info\">\n",
       "<div title=\"buyer-name\">Moe Tell</div>\n",
       "<span class=\"item-price\">$10.09</span><br/>\n",
       "</div>\n",
       "<script type=\"text/javascript\">  (function() {\n",
       "    var ga = document.createElement('script');     ga.type = 'text/javascript'; ga.async = true;\n",
       "    ga.src = ('https:'   == document.location.protocol ? 'https://ssl'   : 'http://www') + '.google-analytics.com/ga.js';\n",
       "    var s = document.getElementsByTagName('script')[0]; s.parentNode.insertBefore(ga, s);\n",
       "    })();\n",
       "  </script>\n",
       "</body>\n",
       "</html>"
      ]
     },
     "execution_count": 22,
     "metadata": {},
     "output_type": "execute_result"
    }
   ],
   "source": [
    "soup = BeautifulSoup(page, 'html.parser')\n",
    "soup"
   ]
  },
  {
   "cell_type": "markdown",
   "metadata": {},
   "source": [
    "**Signature: html.fromstring(html, base_url=None, parser=None, **kw)**\n",
    "\n",
    "Docstring:\n",
    "\n",
    "Parse the html, returning a single element/document.\n",
    "\n",
    "This tries to minimally parse the chunk of text, without knowing if it\n",
    "is a fragment or a document.\n",
    "\n",
    "base_url will set the document's base_url attribute (and the tree's docinfo.URL)\n",
    "\n",
    "File:      c:\\programdata\\anaconda3\\lib\\site-packages\\lxml\\html\\__init__.py\n",
    "\n",
    "Type:      function"
   ]
  },
  {
   "cell_type": "code",
   "execution_count": 23,
   "metadata": {},
   "outputs": [],
   "source": [
    "tree = html.fromstring(page)"
   ]
  },
  {
   "cell_type": "markdown",
   "metadata": {},
   "source": [
    "<div title=\"buyer-name\">Carson Busses</div>\n",
    "<span class=\"item-price\">$29.95</span>"
   ]
  },
  {
   "cell_type": "code",
   "execution_count": 24,
   "metadata": {},
   "outputs": [],
   "source": [
    "#This will create a list of buyers:\n",
    "buyers = tree.xpath('//div[@title=\"buyer-name\"]/text()')\n",
    "#This will create a list of prices\n",
    "prices = tree.xpath('//span[@class=\"item-price\"]/text()')"
   ]
  },
  {
   "cell_type": "code",
   "execution_count": 25,
   "metadata": {},
   "outputs": [
    {
     "name": "stdout",
     "output_type": "stream",
     "text": [
      "Buyers:  ['Carson Busses', 'Earl E. Byrd', 'Patty Cakes', 'Derri Anne Connecticut', 'Moe Dess', 'Leda Doggslife', 'Dan Druff', 'Al Fresco', 'Ido Hoe', 'Howie Kisses', 'Len Lease', 'Phil Meup', 'Ira Pent', 'Ben D. Rules', 'Ave Sectomy', 'Gary Shattire', 'Bobbi Soks', 'Sheila Takya', 'Rose Tattoo', 'Moe Tell']\n",
      "Prices:  ['$29.95', '$8.37', '$15.26', '$19.25', '$19.25', '$13.99', '$31.57', '$8.49', '$14.47', '$15.86', '$11.11', '$15.98', '$16.27', '$7.50', '$50.85', '$14.26', '$5.68', '$15.00', '$114.07', '$10.09']\n"
     ]
    }
   ],
   "source": [
    "print('Buyers: ', buyers)\n",
    "print('Prices: ', prices)"
   ]
  },
  {
   "cell_type": "code",
   "execution_count": 26,
   "metadata": {},
   "outputs": [
    {
     "data": {
      "text/html": [
       "<div>\n",
       "<style scoped>\n",
       "    .dataframe tbody tr th:only-of-type {\n",
       "        vertical-align: middle;\n",
       "    }\n",
       "\n",
       "    .dataframe tbody tr th {\n",
       "        vertical-align: top;\n",
       "    }\n",
       "\n",
       "    .dataframe thead th {\n",
       "        text-align: right;\n",
       "    }\n",
       "</style>\n",
       "<table border=\"1\" class=\"dataframe\">\n",
       "  <thead>\n",
       "    <tr style=\"text-align: right;\">\n",
       "      <th></th>\n",
       "      <th>Buyers</th>\n",
       "      <th>Prices</th>\n",
       "    </tr>\n",
       "  </thead>\n",
       "  <tbody>\n",
       "    <tr>\n",
       "      <th>0</th>\n",
       "      <td>Carson Busses</td>\n",
       "      <td>$29.95</td>\n",
       "    </tr>\n",
       "    <tr>\n",
       "      <th>1</th>\n",
       "      <td>Earl E. Byrd</td>\n",
       "      <td>$8.37</td>\n",
       "    </tr>\n",
       "    <tr>\n",
       "      <th>2</th>\n",
       "      <td>Patty Cakes</td>\n",
       "      <td>$15.26</td>\n",
       "    </tr>\n",
       "    <tr>\n",
       "      <th>3</th>\n",
       "      <td>Derri Anne Connecticut</td>\n",
       "      <td>$19.25</td>\n",
       "    </tr>\n",
       "    <tr>\n",
       "      <th>4</th>\n",
       "      <td>Moe Dess</td>\n",
       "      <td>$19.25</td>\n",
       "    </tr>\n",
       "    <tr>\n",
       "      <th>5</th>\n",
       "      <td>Leda Doggslife</td>\n",
       "      <td>$13.99</td>\n",
       "    </tr>\n",
       "    <tr>\n",
       "      <th>6</th>\n",
       "      <td>Dan Druff</td>\n",
       "      <td>$31.57</td>\n",
       "    </tr>\n",
       "    <tr>\n",
       "      <th>7</th>\n",
       "      <td>Al Fresco</td>\n",
       "      <td>$8.49</td>\n",
       "    </tr>\n",
       "    <tr>\n",
       "      <th>8</th>\n",
       "      <td>Ido Hoe</td>\n",
       "      <td>$14.47</td>\n",
       "    </tr>\n",
       "    <tr>\n",
       "      <th>9</th>\n",
       "      <td>Howie Kisses</td>\n",
       "      <td>$15.86</td>\n",
       "    </tr>\n",
       "  </tbody>\n",
       "</table>\n",
       "</div>"
      ],
      "text/plain": [
       "                   Buyers  Prices\n",
       "0           Carson Busses  $29.95\n",
       "1            Earl E. Byrd   $8.37\n",
       "2             Patty Cakes  $15.26\n",
       "3  Derri Anne Connecticut  $19.25\n",
       "4                Moe Dess  $19.25\n",
       "5          Leda Doggslife  $13.99\n",
       "6               Dan Druff  $31.57\n",
       "7               Al Fresco   $8.49\n",
       "8                 Ido Hoe  $14.47\n",
       "9            Howie Kisses  $15.86"
      ]
     },
     "execution_count": 26,
     "metadata": {},
     "output_type": "execute_result"
    }
   ],
   "source": [
    "df = pd.DataFrame({\"Buyers\": buyers, \"Prices\": prices})\n",
    "df.head(10)"
   ]
  },
  {
   "cell_type": "code",
   "execution_count": 27,
   "metadata": {},
   "outputs": [],
   "source": [
    "df.to_csv(\"outputCSV.csv\", sep=',')"
   ]
  },
  {
   "cell_type": "markdown",
   "metadata": {},
   "source": [
    "**© Dr. Muhammad Naeem Irfan. Can't be posted on the internet**"
   ]
  }
 ],
 "metadata": {
  "kernelspec": {
   "display_name": "Python 3 (ipykernel)",
   "language": "python",
   "name": "python3"
  },
  "language_info": {
   "codemirror_mode": {
    "name": "ipython",
    "version": 3
   },
   "file_extension": ".py",
   "mimetype": "text/x-python",
   "name": "python",
   "nbconvert_exporter": "python",
   "pygments_lexer": "ipython3",
   "version": "3.9.12"
  }
 },
 "nbformat": 4,
 "nbformat_minor": 2
}
