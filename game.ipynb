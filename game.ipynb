{
 "cells": [
  {
   "cell_type": "code",
   "execution_count": 29,
   "metadata": {},
   "outputs": [
    {
     "ename": "SystemExit",
     "evalue": "",
     "output_type": "error",
     "traceback": [
      "An exception has occurred, use %tb to see the full traceback.\n",
      "\u001b[0;31mSystemExit\u001b[0m\n"
     ]
    }
   ],
   "source": [
    "import pygame\n",
    "import sys\n",
    "\n",
    "# Initialize Pygame\n",
    "pygame.init()\n",
    "\n",
    "# Set up display\n",
    "width, height = 800, 600\n",
    "screen = pygame.display.set_mode((width, height))\n",
    "pygame.display.set_caption(\"Animated Object\")\n",
    "\n",
    "# Set up the object\n",
    "object_color = (255, 0, 0)  # Red\n",
    "object_width, object_height = 100, 100\n",
    "object_x, object_y = 50, height // 2 - object_height // 2\n",
    "object_speed = 20\n",
    "direction=1\n",
    "\n",
    "# Set up the object2\n",
    "object_color2 = (39,66,97)\n",
    "object_width2, object_height2 = 100, 100\n",
    "object_x2, object_y2 = 50, height // 2 - object_height // 2\n",
    "object_speed2 = 10\n",
    "\n",
    "# Set up the clock\n",
    "clock = pygame.time.Clock()\n",
    "\n",
    "# Main game loop\n",
    "while True:\n",
    "    for event in pygame.event.get():\n",
    "        if event.type == pygame.QUIT:\n",
    "            pygame.quit()\n",
    "            sys.exit()\n",
    "\n",
    "    # Update the object's position\n",
    "    object_x += object_speed\n",
    "    object_x2 += object_speed2\n",
    "\n",
    "    # Check for collision with the screen edges\n",
    "    if object_x > width:\n",
    "        driection=-1\n",
    "        object_x = direction*object_speed\n",
    "    if object_x2 > width:\n",
    "        object_x2 = 0 - object_width2\n",
    "\n",
    "\n",
    "    # Clear the screen\n",
    "    screen.fill((255, 255, 255))  # White background\n",
    "\n",
    "    # Draw the object\n",
    "    pygame.draw.rect(screen, object_color, (object_x, object_y, object_width, object_height))\n",
    "    pygame.draw.rect(screen, object_color2, (object_x2, object_y2, object_width2, object_height2))\n",
    "\n",
    "    # Update the display\n",
    "    pygame.display.flip()\n",
    "\n",
    "    # Set the frame rate\n",
    "    clock.tick(30)  # Adjust the frame rate as needed\n"
   ]
  },
  {
   "cell_type": "code",
   "execution_count": null,
   "metadata": {},
   "outputs": [],
   "source": []
  }
 ],
 "metadata": {
  "kernelspec": {
   "display_name": "base",
   "language": "python",
   "name": "python3"
  },
  "language_info": {
   "codemirror_mode": {
    "name": "ipython",
    "version": 3
   },
   "file_extension": ".py",
   "mimetype": "text/x-python",
   "name": "python",
   "nbconvert_exporter": "python",
   "pygments_lexer": "ipython3",
   "version": "3.9.18"
  }
 },
 "nbformat": 4,
 "nbformat_minor": 2
}
